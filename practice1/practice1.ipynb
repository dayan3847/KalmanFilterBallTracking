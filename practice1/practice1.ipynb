{
 "cells": [
  {
   "cell_type": "markdown",
   "source": [
    "# Bayes Estimator\n",
    "\n",
    "### Universidad Autónoma de Yucatán _Facultad de Matemáticas_\n",
    "\n",
    "**Teacher:** Dr. Arturo Espinosa Romero <[eromero@correo.uady.mx](mailto:eromero@correo.uady.mx)>\n",
    "\n",
    "**Student:** Ing. Dayan Bravo Fraga <[dayan3847@gmail.com](mailto:dayan3847@gmail.com)>"
   ],
   "metadata": {
    "collapsed": false
   },
   "id": "7a2da2440a051678"
  },
  {
   "cell_type": "markdown",
   "source": [
    "### Import"
   ],
   "metadata": {
    "collapsed": false
   },
   "id": "bed7c317c06acf4d"
  },
  {
   "cell_type": "code",
   "execution_count": 1,
   "id": "initial_id",
   "metadata": {
    "collapsed": true,
    "ExecuteTime": {
     "end_time": "2023-08-30T06:02:56.654327120Z",
     "start_time": "2023-08-30T06:02:56.202772993Z"
    }
   },
   "outputs": [],
   "source": [
    "import numpy as np\n",
    "import sympy as sp\n",
    "import matplotlib.pyplot as plt\n",
    "import random"
   ]
  },
  {
   "cell_type": "markdown",
   "source": [
    "### Parameters"
   ],
   "metadata": {
    "collapsed": false
   },
   "id": "42917f3216d8846d"
  },
  {
   "cell_type": "markdown",
   "source": [
    "#### $N$: number of samples"
   ],
   "metadata": {
    "collapsed": false
   },
   "id": "f807f68e48c92c97"
  },
  {
   "cell_type": "code",
   "execution_count": 2,
   "outputs": [
    {
     "data": {
      "text/plain": "Expr(N = 10000)",
      "text/latex": "$\\displaystyle \\operatorname{Expr}\\left(\\mathtt{\\text{N = 10000}}\\right)$"
     },
     "execution_count": 2,
     "metadata": {},
     "output_type": "execute_result"
    }
   ],
   "source": [
    "N: int = 10000\n",
    "sp.Expr('N = {}'.format(N))"
   ],
   "metadata": {
    "collapsed": false,
    "ExecuteTime": {
     "end_time": "2023-08-30T06:03:00.529273346Z",
     "start_time": "2023-08-30T06:03:00.522408183Z"
    }
   },
   "id": "b4c3f6e15c7a8c9e"
  },
  {
   "cell_type": "markdown",
   "source": [
    "#### $mg$: mean ($μ$) to generate data "
   ],
   "metadata": {
    "collapsed": false
   },
   "id": "e7f766b3aea5e448"
  },
  {
   "cell_type": "code",
   "execution_count": 3,
   "outputs": [
    {
     "data": {
      "text/plain": "Expr(μ = 0.211)",
      "text/latex": "$\\displaystyle \\operatorname{Expr}\\left(\\mathtt{\\text{μ = 0.211}}\\right)$"
     },
     "execution_count": 3,
     "metadata": {},
     "output_type": "execute_result"
    }
   ],
   "source": [
    "mg: float = round(random.random(), 3)\n",
    "sp.Expr('μ = {}'.format(mg))"
   ],
   "metadata": {
    "collapsed": false,
    "ExecuteTime": {
     "end_time": "2023-08-30T06:03:04.287344663Z",
     "start_time": "2023-08-30T06:03:04.283784379Z"
    }
   },
   "id": "71f386a7b58106f1"
  },
  {
   "cell_type": "markdown",
   "source": [
    "#### $dg^2$: standard deviation ($σ^2$) to generate data"
   ],
   "metadata": {
    "collapsed": false
   },
   "id": "399058c673c3bfc0"
  },
  {
   "cell_type": "code",
   "execution_count": 6,
   "outputs": [
    {
     "data": {
      "text/plain": "Expr(σ2 = 0.569)",
      "text/latex": "$\\displaystyle \\operatorname{Expr}\\left(\\mathtt{\\text{σ2 = 0.569}}\\right)$"
     },
     "execution_count": 6,
     "metadata": {},
     "output_type": "execute_result"
    }
   ],
   "source": [
    "dg: float = round(random.random(), 3)\n",
    "d2g: float = round(dg ** 2, 3)\n",
    "sp.Expr('σ2 = {}'.format(d2g))"
   ],
   "metadata": {
    "collapsed": false,
    "ExecuteTime": {
     "end_time": "2023-08-30T06:05:17.598850015Z",
     "start_time": "2023-08-30T06:05:17.555005269Z"
    }
   },
   "id": "cb9d23a51f61b830"
  },
  {
   "cell_type": "markdown",
   "source": [
    "#### $X$: random variable (vector)"
   ],
   "metadata": {
    "collapsed": false
   },
   "id": "6702274d8706b037"
  },
  {
   "cell_type": "code",
   "execution_count": 7,
   "outputs": [
    {
     "data": {
      "text/plain": "array([1.38901055, 1.094182  , 0.69953867])"
     },
     "execution_count": 7,
     "metadata": {},
     "output_type": "execute_result"
    }
   ],
   "source": [
    "X: np.ndarray = np.random.normal(mg, d2g, 10000)\n",
    "X[0:3]"
   ],
   "metadata": {
    "collapsed": false,
    "ExecuteTime": {
     "end_time": "2023-08-30T06:05:27.418667778Z",
     "start_time": "2023-08-30T06:05:27.376777328Z"
    }
   },
   "id": "90feb2477b3d634d"
  },
  {
   "cell_type": "markdown",
   "source": [
    "#### Histogram"
   ],
   "metadata": {
    "collapsed": false
   },
   "id": "12d1496488e41f6d"
  },
  {
   "cell_type": "code",
   "execution_count": 8,
   "outputs": [
    {
     "data": {
      "text/plain": "<Figure size 640x480 with 1 Axes>",
      "image/png": "[encoded data removed]"
     },
     "metadata": {},
     "output_type": "display_data"
    }
   ],
   "source": [
    "plt.hist(X, bins=50)\n",
    "plt.axvline(X.mean(), color='r', linestyle='dashed', linewidth=1)\n",
    "plt.show()"
   ],
   "metadata": {
    "collapsed": false,
    "ExecuteTime": {
     "end_time": "2023-08-30T06:05:33.275973626Z",
     "start_time": "2023-08-30T06:05:33.130607094Z"
    }
   },
   "id": "18f396407d8f0038"
  },
  {
   "cell_type": "markdown",
   "source": [
    "### Real values"
   ],
   "metadata": {
    "collapsed": false
   },
   "id": "111cc828a813bc78"
  },
  {
   "cell_type": "markdown",
   "source": [
    "#### $m$: mean ($μ$) real"
   ],
   "metadata": {
    "collapsed": false
   },
   "id": "9d6784c5c2667efc"
  },
  {
   "cell_type": "code",
   "execution_count": 9,
   "outputs": [
    {
     "data": {
      "text/plain": "Expr(μ = 0.207)",
      "text/latex": "$\\displaystyle \\operatorname{Expr}\\left(\\mathtt{\\text{μ = 0.207}}\\right)$"
     },
     "execution_count": 9,
     "metadata": {},
     "output_type": "execute_result"
    }
   ],
   "source": [
    "m: float = round(X.mean(), 3)\n",
    "sp.Expr('μ = {}'.format(m))"
   ],
   "metadata": {
    "collapsed": false,
    "ExecuteTime": {
     "end_time": "2023-08-30T06:05:36.981976029Z",
     "start_time": "2023-08-30T06:05:36.977868842Z"
    }
   },
   "id": "f4f4cd0d38a16d97"
  },
  {
   "cell_type": "markdown",
   "source": [
    "#### $d2\\'$: standard deviation ($σ^2 \\'$) real"
   ],
   "metadata": {
    "collapsed": false
   },
   "id": "1ca504031bc5949a"
  },
  {
   "cell_type": "code",
   "execution_count": 10,
   "outputs": [
    {
     "data": {
      "text/plain": "Expr(σ2 = 0.567)",
      "text/latex": "$\\displaystyle \\operatorname{Expr}\\left(\\mathtt{\\text{σ2 = 0.567}}\\right)$"
     },
     "execution_count": 10,
     "metadata": {},
     "output_type": "execute_result"
    }
   ],
   "source": [
    "d: float = round(X.std(), 3)\n",
    "sp.Expr('σ2 = {}'.format(d))"
   ],
   "metadata": {
    "collapsed": false,
    "ExecuteTime": {
     "end_time": "2023-08-30T06:05:40.702097259Z",
     "start_time": "2023-08-30T06:05:40.687212575Z"
    }
   },
   "id": "b8925652446a56dc"
  },
  {
   "cell_type": "code",
   "execution_count": 12,
   "outputs": [
    {
     "data": {
      "text/plain": "array([1.38901055, 1.094182  , 0.89686033])"
     },
     "execution_count": 12,
     "metadata": {},
     "output_type": "execute_result"
    }
   ],
   "source": [
    "M: np.array = np.array([X[0]])\n",
    "D2: np.array = np.array([0])\n",
    "for k in range(1, len(X)):\n",
    "    _m: float = ((k - 1) * M[-1] + X[k]) / k\n",
    "    _d2: float = ((k - 1) * D2[-1] + (X[k] - _m) ** 2) / k\n",
    "    M = np.append(M, _m)\n",
    "    D2 = np.append(D2, _d2)\n",
    "M[0:3]"
   ],
   "metadata": {
    "collapsed": false,
    "ExecuteTime": {
     "end_time": "2023-08-30T06:06:34.996530851Z",
     "start_time": "2023-08-30T06:06:34.881017839Z"
    }
   },
   "id": "5fa30ed7758b228b"
  },
  {
   "cell_type": "markdown",
   "source": [
    "### Plot $μ$ and $μ\\'$"
   ],
   "metadata": {
    "collapsed": false
   },
   "id": "6c171526ab62dce4"
  },
  {
   "cell_type": "code",
   "execution_count": 13,
   "outputs": [
    {
     "data": {
      "text/plain": "<Figure size 640x480 with 1 Axes>",
      "image/png": "[encoded data removed]"
     },
     "metadata": {},
     "output_type": "display_data"
    }
   ],
   "source": [
    "plt.plot(np.full(N,mg), label='μg')\n",
    "plt.plot(np.full(N,m), label='μ')\n",
    "plt.plot(M, label='μ\\'')\n",
    "plt.legend()\n",
    "plt.show()"
   ],
   "metadata": {
    "collapsed": false,
    "ExecuteTime": {
     "end_time": "2023-08-30T06:06:41.580133846Z",
     "start_time": "2023-08-30T06:06:41.488456025Z"
    }
   },
   "id": "de79cddb9bda9715"
  },
  {
   "cell_type": "code",
   "execution_count": 14,
   "outputs": [
    {
     "data": {
      "text/plain": "<Figure size 640x480 with 1 Axes>",
      "image/png": "[encoded data removed]"
     },
     "metadata": {},
     "output_type": "display_data"
    }
   ],
   "source": [
    "plt.plot(np.full(N,d2g), label='σ2g')\n",
    "plt.plot(np.full(N,d), label='σ2')\n",
    "plt.plot(D2, label='σ2\\'')\n",
    "plt.legend()\n",
    "plt.show()"
   ],
   "metadata": {
    "collapsed": false,
    "ExecuteTime": {
     "end_time": "2023-08-30T06:06:53.026129848Z",
     "start_time": "2023-08-30T06:06:52.918687651Z"
    }
   },
   "id": "53c13d98d5bb277b"
  }
 ],
 "metadata": {
  "kernelspec": {
   "display_name": "Python 3",
   "language": "python",
   "name": "python3"
  },
  "language_info": {
   "codemirror_mode": {
    "name": "ipython",
    "version": 2
   },
   "file_extension": ".py",
   "mimetype": "text/x-python",
   "name": "python",
   "nbconvert_exporter": "python",
   "pygments_lexer": "ipython2",
   "version": "2.7.6"
  }
 },
 "nbformat": 4,
 "nbformat_minor": 5
}
