{
 "cells": [
  {
   "cell_type": "markdown",
   "source": [
    "# Bayes Estimator\n",
    "\n",
    "### <font color='orange'>Universidad Autónoma de Yucatán</font> _Facultad de Matemáticas_\n",
    "\n",
    "**Teacher:** Dr. Arturo Espinosa Romero <[eromero@correo.uady.mx](mailto:eromero@correo.uady.mx)>\n",
    "\n",
    "**Student:** Ing. Dayan Bravo Fraga <[dayan3847@gmail.com](mailto:dayan3847@gmail.com)>"
   ],
   "metadata": {
    "collapsed": false
   },
   "id": "1b771b005400934d"
  },
  {
   "cell_type": "markdown",
   "source": [
    "# Practice 6:  Kalman Filter for a Conic\n",
    "\n",
    "## GitHub: [Practice 6](https://github.com/dayan3847/bayes_estimator/tree/main/practice6-kf_conic)"
   ],
   "metadata": {
    "collapsed": false
   },
   "id": "7dda8b2c835454a1"
  },
  {
   "cell_type": "code",
   "execution_count": 1,
   "id": "initial_id",
   "metadata": {
    "collapsed": true,
    "ExecuteTime": {
     "end_time": "2023-10-31T18:13:12.434184232Z",
     "start_time": "2023-10-31T18:13:11.879210869Z"
    }
   },
   "outputs": [],
   "source": [
    "import sympy as sp"
   ]
  },
  {
   "cell_type": "code",
   "execution_count": 2,
   "outputs": [],
   "source": [
    "# sp.init_printing(use_unicode=True)"
   ],
   "metadata": {
    "collapsed": false,
    "ExecuteTime": {
     "end_time": "2023-10-31T18:13:12.435075898Z",
     "start_time": "2023-10-31T18:13:12.391438166Z"
    }
   },
   "id": "4d766c1b617b0451"
  },
  {
   "cell_type": "code",
   "execution_count": 3,
   "outputs": [],
   "source": [
    "#@title Variables:\n",
    "A, B, C, D, E, F = sp.symbols(\"A B C D E F\")\n",
    "X, Y = sp.symbols(\"X Y\")"
   ],
   "metadata": {
    "collapsed": false,
    "ExecuteTime": {
     "end_time": "2023-10-31T18:13:12.436352155Z",
     "start_time": "2023-10-31T18:13:12.400413382Z"
    }
   },
   "id": "f5486cc74be42979"
  },
  {
   "cell_type": "code",
   "execution_count": 4,
   "outputs": [
    {
     "data": {
      "text/plain": "Eq(A*X**2 + B*Y**2 + C*X + D*Y + E*X*Y + F, 0)",
      "text/latex": "$\\displaystyle A X^{2} + B Y^{2} + C X + D Y + E X Y + F = 0$"
     },
     "execution_count": 4,
     "metadata": {},
     "output_type": "execute_result"
    }
   ],
   "source": [
    "# @title Ecuacion de una conica\n",
    "eq = sp.Eq(\n",
    "    A * X ** 2 + B * Y ** 2 + C * X + D * Y + E * X * Y + F,\n",
    "    0,\n",
    "    evaluate=False\n",
    ")\n",
    "eq"
   ],
   "metadata": {
    "collapsed": false,
    "ExecuteTime": {
     "end_time": "2023-10-31T18:13:12.928051071Z",
     "start_time": "2023-10-31T18:13:12.411243332Z"
    }
   },
   "id": "cdb89e59b368658b"
  },
  {
   "cell_type": "code",
   "execution_count": 5,
   "outputs": [
    {
     "data": {
      "text/plain": "Eq(\\mathbb{X}, Matrix([\n[A],\n[B],\n[C],\n[D],\n[E],\n[F]]))",
      "text/latex": "$\\displaystyle \\mathbb{X} = \\left[\\begin{matrix}A\\\\B\\\\C\\\\D\\\\E\\\\F\\end{matrix}\\right]$"
     },
     "execution_count": 5,
     "metadata": {},
     "output_type": "execute_result"
    }
   ],
   "source": [
    "# @title \"X\" Estado\n",
    "XX = sp.Matrix([\n",
    "    [A],\n",
    "    [B],\n",
    "    [C],\n",
    "    [D],\n",
    "    [E],\n",
    "    [F],\n",
    "])\n",
    "sp.Eq(sp.Symbol(r'\\mathbb{X}'), XX, evaluate=False)"
   ],
   "metadata": {
    "collapsed": false,
    "ExecuteTime": {
     "end_time": "2023-10-31T18:13:12.950739657Z",
     "start_time": "2023-10-31T18:13:12.883115773Z"
    }
   },
   "id": "edb2129f8d20cffb"
  },
  {
   "cell_type": "code",
   "execution_count": 6,
   "outputs": [
    {
     "data": {
      "text/plain": "Eq(\\mathbb{Z}, Matrix([\n[X],\n[Y]]))",
      "text/latex": "$\\displaystyle \\mathbb{Z} = \\left[\\begin{matrix}X\\\\Y\\end{matrix}\\right]$"
     },
     "execution_count": 6,
     "metadata": {},
     "output_type": "execute_result"
    }
   ],
   "source": [
    "# @title \"Z\" Medicion\n",
    "ZZ = sp.Matrix([\n",
    "    [X],\n",
    "    [Y],\n",
    "])\n",
    "sp.Eq(sp.Symbol(r'\\mathbb{Z}'), ZZ, evaluate=False)"
   ],
   "metadata": {
    "collapsed": false,
    "ExecuteTime": {
     "end_time": "2023-10-31T18:13:12.952348142Z",
     "start_time": "2023-10-31T18:13:12.900324392Z"
    }
   },
   "id": "f3586723de42042"
  },
  {
   "cell_type": "code",
   "execution_count": 6,
   "outputs": [],
   "source": [],
   "metadata": {
    "collapsed": false,
    "ExecuteTime": {
     "end_time": "2023-10-31T18:13:12.953081804Z",
     "start_time": "2023-10-31T18:13:12.918440911Z"
    }
   },
   "id": "9f84f625d3b45aa3"
  }
 ],
 "metadata": {
  "kernelspec": {
   "display_name": "Python 3",
   "language": "python",
   "name": "python3"
  },
  "language_info": {
   "codemirror_mode": {
    "name": "ipython",
    "version": 2
   },
   "file_extension": ".py",
   "mimetype": "text/x-python",
   "name": "python",
   "nbconvert_exporter": "python",
   "pygments_lexer": "ipython2",
   "version": "2.7.6"
  }
 },
 "nbformat": 4,
 "nbformat_minor": 5
}
