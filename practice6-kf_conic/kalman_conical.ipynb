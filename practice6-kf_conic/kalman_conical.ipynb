{
 "cells": [
  {
   "cell_type": "markdown",
   "source": [
    "# Bayes Estimator\n",
    "\n",
    "### <font color='orange'>Universidad Autónoma de Yucatán</font> _Facultad de Matemáticas_\n",
    "\n",
    "**Teacher:** Dr. Arturo Espinosa Romero <[eromero@correo.uady.mx](mailto:eromero@correo.uady.mx)>\n",
    "\n",
    "**Student:** Ing. Dayan Bravo Fraga <[dayan3847@gmail.com](mailto:dayan3847@gmail.com)>"
   ],
   "metadata": {
    "collapsed": false
   },
   "id": "1b771b005400934d"
  },
  {
   "cell_type": "markdown",
   "source": [
    "# Practice 6:  Kalman Filter for a Conic\n",
    "\n",
    "## GitHub: [Practice 6](https://github.com/dayan3847/bayes_estimator/tree/main/practice6-kf_conic)"
   ],
   "metadata": {
    "collapsed": false
   },
   "id": "7dda8b2c835454a1"
  },
  {
   "cell_type": "code",
   "execution_count": 22,
   "id": "initial_id",
   "metadata": {
    "collapsed": true,
    "ExecuteTime": {
     "end_time": "2023-11-10T07:14:44.147187548Z",
     "start_time": "2023-11-10T07:14:44.141378242Z"
    }
   },
   "outputs": [],
   "source": [
    "import sympy as sp"
   ]
  },
  {
   "cell_type": "code",
   "execution_count": 2,
   "outputs": [],
   "source": [
    "# sp.init_printing(use_unicode=True)"
   ],
   "metadata": {
    "collapsed": false,
    "ExecuteTime": {
     "end_time": "2023-10-31T18:13:12.435075898Z",
     "start_time": "2023-10-31T18:13:12.391438166Z"
    }
   },
   "id": "4d766c1b617b0451"
  },
  {
   "cell_type": "code",
   "execution_count": 23,
   "outputs": [],
   "source": [
    "#@title Variables:\n",
    "A, B, C, D, E, F = sp.symbols(\"A B C D E F\")\n",
    "X, Y = sp.symbols(\"X Y\")"
   ],
   "metadata": {
    "collapsed": false,
    "ExecuteTime": {
     "end_time": "2023-11-10T07:14:46.152581590Z",
     "start_time": "2023-11-10T07:14:46.146865900Z"
    }
   },
   "id": "f5486cc74be42979"
  },
  {
   "cell_type": "code",
   "execution_count": 24,
   "outputs": [
    {
     "data": {
      "text/plain": "Eq(A*X**2 + B*Y**2 + C*X + D*Y + E*X*Y + F, 0)",
      "text/latex": "$\\displaystyle A X^{2} + B Y^{2} + C X + D Y + E X Y + F = 0$"
     },
     "execution_count": 24,
     "metadata": {},
     "output_type": "execute_result"
    }
   ],
   "source": [
    "# @title Ecuacion de una conica\n",
    "# h(X,Z)\n",
    "eq = sp.Eq(\n",
    "    A * X ** 2 + B * Y ** 2 + C * X + D * Y + E * X * Y + F,\n",
    "    0,\n",
    "    evaluate=False\n",
    ")\n",
    "eq"
   ],
   "metadata": {
    "collapsed": false,
    "ExecuteTime": {
     "end_time": "2023-11-10T07:14:48.547924335Z",
     "start_time": "2023-11-10T07:14:48.544603291Z"
    }
   },
   "id": "cdb89e59b368658b"
  },
  {
   "cell_type": "code",
   "execution_count": 25,
   "outputs": [
    {
     "data": {
      "text/plain": "Matrix([[A*X**2 + B*Y**2 + C*X + D*Y + E*X*Y + F]])",
      "text/latex": "$\\displaystyle \\left[\\begin{matrix}A X^{2} + B Y^{2} + C X + D Y + E X Y + F\\end{matrix}\\right]$"
     },
     "execution_count": 25,
     "metadata": {},
     "output_type": "execute_result"
    }
   ],
   "source": [
    "h_xz = sp.Matrix([\n",
    "    [A * X ** 2 + B * Y ** 2 + C * X + D * Y + E * X * Y + F],\n",
    "])\n",
    "h_xz\n",
    "# sp.Eq(sp.Function('h')(sp.Symbol('\\mathbb{X}'), h_xz, evaluate=False))"
   ],
   "metadata": {
    "collapsed": false,
    "ExecuteTime": {
     "end_time": "2023-11-10T07:14:58.230340825Z",
     "start_time": "2023-11-10T07:14:58.183581416Z"
    }
   },
   "id": "bf7e959e43b3f8f2"
  },
  {
   "cell_type": "code",
   "execution_count": 28,
   "outputs": [
    {
     "data": {
      "text/plain": "Matrix([[X**2, Y**2, X, Y, X*Y, 1]])",
      "text/latex": "$\\displaystyle \\left[\\begin{matrix}X^{2} & Y^{2} & X & Y & X Y & 1\\end{matrix}\\right]$"
     },
     "execution_count": 28,
     "metadata": {},
     "output_type": "execute_result"
    }
   ],
   "source": [
    "# @title Jacobiano de h(X,Z) con respecto a X\n",
    "HH = h_xz.jacobian(XX)\n",
    "HH"
   ],
   "metadata": {
    "collapsed": false,
    "ExecuteTime": {
     "end_time": "2023-11-10T07:16:05.592041324Z",
     "start_time": "2023-11-10T07:16:05.558508912Z"
    }
   },
   "id": "6b3b188b3ad1a24"
  },
  {
   "cell_type": "code",
   "execution_count": 31,
   "outputs": [
    {
     "data": {
      "text/plain": "Matrix([[2*A*X + C + E*Y, 2*B*Y + D + E*X]])",
      "text/latex": "$\\displaystyle \\left[\\begin{matrix}2 A X + C + E Y & 2 B Y + D + E X\\end{matrix}\\right]$"
     },
     "execution_count": 31,
     "metadata": {},
     "output_type": "execute_result"
    }
   ],
   "source": [
    "# @title Jacobiano de h(X,Z) con respecto a Z\n",
    "JJ = h_xz.jacobian(ZZ)\n",
    "JJ"
   ],
   "metadata": {
    "collapsed": false,
    "ExecuteTime": {
     "end_time": "2023-11-10T07:17:59.326309118Z",
     "start_time": "2023-11-10T07:17:59.283770462Z"
    }
   },
   "id": "f61416a853eef0c9"
  },
  {
   "cell_type": "code",
   "execution_count": 26,
   "outputs": [
    {
     "data": {
      "text/plain": "Eq(\\mathbb{X}, Matrix([\n[A],\n[B],\n[C],\n[D],\n[E],\n[F]]))",
      "text/latex": "$\\displaystyle \\mathbb{X} = \\left[\\begin{matrix}A\\\\B\\\\C\\\\D\\\\E\\\\F\\end{matrix}\\right]$"
     },
     "execution_count": 26,
     "metadata": {},
     "output_type": "execute_result"
    }
   ],
   "source": [
    "# @title \"X\" Estado\n",
    "XX = sp.Matrix([\n",
    "    [A],\n",
    "    [B],\n",
    "    [C],\n",
    "    [D],\n",
    "    [E],\n",
    "    [F],\n",
    "])\n",
    "sp.Eq(sp.Symbol(r'\\mathbb{X}'), XX, evaluate=False)"
   ],
   "metadata": {
    "collapsed": false,
    "ExecuteTime": {
     "end_time": "2023-11-10T07:15:51.348233750Z",
     "start_time": "2023-11-10T07:15:51.303926093Z"
    }
   },
   "id": "edb2129f8d20cffb"
  },
  {
   "cell_type": "code",
   "execution_count": 30,
   "outputs": [
    {
     "data": {
      "text/plain": "Eq(\\mathbb{Z}, Matrix([\n[X],\n[Y]]))",
      "text/latex": "$\\displaystyle \\mathbb{Z} = \\left[\\begin{matrix}X\\\\Y\\end{matrix}\\right]$"
     },
     "execution_count": 30,
     "metadata": {},
     "output_type": "execute_result"
    }
   ],
   "source": [
    "# @title \"Z\" Medicion\n",
    "x, y = sp.symbols(\"x y\")\n",
    "ZZ = sp.Matrix([\n",
    "    [X],\n",
    "    [Y],\n",
    "])\n",
    "sp.Eq(sp.Symbol(r'\\mathbb{Z}'), ZZ, evaluate=False)"
   ],
   "metadata": {
    "collapsed": false,
    "ExecuteTime": {
     "end_time": "2023-11-10T07:17:54.915452375Z",
     "start_time": "2023-11-10T07:17:54.856571690Z"
    }
   },
   "id": "f3586723de42042"
  },
  {
   "cell_type": "code",
   "execution_count": null,
   "outputs": [],
   "source": [],
   "metadata": {
    "collapsed": false
   },
   "id": "d460369211cd87d"
  },
  {
   "cell_type": "code",
   "execution_count": 9,
   "outputs": [
    {
     "data": {
      "text/plain": "[]"
     },
     "execution_count": 9,
     "metadata": {},
     "output_type": "execute_result"
    }
   ],
   "source": [
    "# encontrar la matrix nula de XX (que multiplica a XX y da 0) \n",
    "MM = "
   ],
   "metadata": {
    "collapsed": false,
    "ExecuteTime": {
     "end_time": "2023-11-10T05:43:52.898253809Z",
     "start_time": "2023-11-10T05:43:52.891378008Z"
    }
   },
   "id": "9f84f625d3b45aa3"
  },
  {
   "cell_type": "code",
   "execution_count": 13,
   "outputs": [
    {
     "data": {
      "text/plain": "array([1, 2, 3])"
     },
     "execution_count": 13,
     "metadata": {},
     "output_type": "execute_result"
    }
   ],
   "source": [
    "import numpy as np\n",
    "x = np.array([1, 2, 3])\n",
    "x"
   ],
   "metadata": {
    "collapsed": false,
    "ExecuteTime": {
     "end_time": "2023-11-10T05:49:21.288311927Z",
     "start_time": "2023-11-10T05:49:21.280013792Z"
    }
   },
   "id": "fc9c7ee56ffa96ba"
  },
  {
   "cell_type": "code",
   "execution_count": 14,
   "outputs": [
    {
     "data": {
      "text/plain": "array([[1, 2, 3],\n       [2, 4, 6],\n       [3, 6, 9]])"
     },
     "execution_count": 14,
     "metadata": {},
     "output_type": "execute_result"
    }
   ],
   "source": [
    "A = np.outer(x, x)\n",
    "A"
   ],
   "metadata": {
    "collapsed": false,
    "ExecuteTime": {
     "end_time": "2023-11-10T05:49:31.145455759Z",
     "start_time": "2023-11-10T05:49:31.126374239Z"
    }
   },
   "id": "a08ff06990379fce"
  },
  {
   "cell_type": "code",
   "execution_count": 17,
   "outputs": [
    {
     "data": {
      "text/plain": "array([14, 28, 42])"
     },
     "execution_count": 17,
     "metadata": {},
     "output_type": "execute_result"
    }
   ],
   "source": [
    "A @ x"
   ],
   "metadata": {
    "collapsed": false,
    "ExecuteTime": {
     "end_time": "2023-11-10T05:50:22.781956115Z",
     "start_time": "2023-11-10T05:50:22.777468272Z"
    }
   },
   "id": "a218b08526d2cc1c"
  }
 ],
 "metadata": {
  "kernelspec": {
   "display_name": "Python 3",
   "language": "python",
   "name": "python3"
  },
  "language_info": {
   "codemirror_mode": {
    "name": "ipython",
    "version": 2
   },
   "file_extension": ".py",
   "mimetype": "text/x-python",
   "name": "python",
   "nbconvert_exporter": "python",
   "pygments_lexer": "ipython2",
   "version": "2.7.6"
  }
 },
 "nbformat": 4,
 "nbformat_minor": 5
}
