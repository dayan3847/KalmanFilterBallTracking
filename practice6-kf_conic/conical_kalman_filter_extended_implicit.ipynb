{
 "cells": [
  {
   "cell_type": "markdown",
   "source": [
    "# Bayes Estimator\n",
    "\n",
    "### <font color='orange'>Universidad Autónoma de Yucatán</font> _Facultad de Matemáticas_\n",
    "\n",
    "**Teacher:** Dr. Arturo Espinosa Romero <[eromero@correo.uady.mx](mailto:eromero@correo.uady.mx)>\n",
    "\n",
    "**Student:** Ing. Dayan Bravo Fraga <[dayan3847@gmail.com](mailto:dayan3847@gmail.com)>"
   ],
   "metadata": {
    "collapsed": false
   },
   "id": "1b771b005400934d"
  },
  {
   "cell_type": "markdown",
   "source": [
    "# Practice 6:  Kalman Filter for a Conic\n",
    "\n",
    "## GitHub: [Practice 6](https://github.com/dayan3847/bayes_estimator/tree/main/practice6-kf_conic)"
   ],
   "metadata": {
    "collapsed": false
   },
   "id": "7dda8b2c835454a1"
  },
  {
   "cell_type": "code",
   "execution_count": 1,
   "id": "initial_id",
   "metadata": {
    "collapsed": true,
    "ExecuteTime": {
     "end_time": "2023-11-14T19:02:08.731559275Z",
     "start_time": "2023-11-14T19:02:07.945773137Z"
    }
   },
   "outputs": [],
   "source": [
    "import sympy as sp"
   ]
  },
  {
   "cell_type": "code",
   "execution_count": 2,
   "outputs": [],
   "source": [
    "# sp.init_printing(use_unicode=True)"
   ],
   "metadata": {
    "collapsed": false,
    "ExecuteTime": {
     "end_time": "2023-10-31T18:13:12.435075898Z",
     "start_time": "2023-10-31T18:13:12.391438166Z"
    }
   },
   "id": "4d766c1b617b0451"
  },
  {
   "cell_type": "code",
   "execution_count": 19,
   "outputs": [],
   "source": [
    "#@title Variables:\n",
    "A, B, C, D, E, F = sp.symbols(\"A B C D E F\")\n",
    "X, Y = sp.symbols(\"X Y\")"
   ],
   "metadata": {
    "collapsed": false,
    "ExecuteTime": {
     "end_time": "2023-11-14T19:08:23.813647549Z",
     "start_time": "2023-11-14T19:08:23.790660053Z"
    }
   },
   "id": "f5486cc74be42979"
  },
  {
   "cell_type": "code",
   "execution_count": 21,
   "outputs": [
    {
     "data": {
      "text/plain": "Eq(\\mathbb{X}, Matrix([\n[A],\n[B],\n[C],\n[D],\n[E],\n[F]]))",
      "text/latex": "$\\displaystyle \\mathbb{X} = \\left[\\begin{matrix}A\\\\B\\\\C\\\\D\\\\E\\\\F\\end{matrix}\\right]$"
     },
     "execution_count": 21,
     "metadata": {},
     "output_type": "execute_result"
    }
   ],
   "source": [
    "# @title \"X\" Estado\n",
    "XX = sp.Matrix([\n",
    "    [A],\n",
    "    [B],\n",
    "    [C],\n",
    "    [D],\n",
    "    [E],\n",
    "    [F],\n",
    "])\n",
    "sp.Eq(sp.Symbol(r'\\mathbb{X}'), XX, evaluate=False)"
   ],
   "metadata": {
    "collapsed": false,
    "ExecuteTime": {
     "end_time": "2023-11-14T19:09:32.737719405Z",
     "start_time": "2023-11-14T19:09:32.668096335Z"
    }
   },
   "id": "762956e0d44c465f"
  },
  {
   "cell_type": "code",
   "execution_count": 22,
   "outputs": [
    {
     "data": {
      "text/plain": "Eq(\\mathbb{Z}, Matrix([\n[X],\n[Y]]))",
      "text/latex": "$\\displaystyle \\mathbb{Z} = \\left[\\begin{matrix}X\\\\Y\\end{matrix}\\right]$"
     },
     "execution_count": 22,
     "metadata": {},
     "output_type": "execute_result"
    }
   ],
   "source": [
    "# @title \"Z\" Medicion\n",
    "x, y = sp.symbols(\"x y\")\n",
    "ZZ = sp.Matrix([\n",
    "    [X],\n",
    "    [Y],\n",
    "])\n",
    "sp.Eq(sp.Symbol(r'\\mathbb{Z}'), ZZ, evaluate=False)"
   ],
   "metadata": {
    "collapsed": false,
    "ExecuteTime": {
     "end_time": "2023-11-14T19:09:46.797553874Z",
     "start_time": "2023-11-14T19:09:46.755719657Z"
    }
   },
   "id": "c726d882b5a6e0fb"
  },
  {
   "cell_type": "code",
   "execution_count": 40,
   "outputs": [
    {
     "data": {
      "text/plain": "Eq(Eq(h(\\mathbb{X,Y}), Matrix([[A*X**2 + B*Y**2 + C*X*Y + D*X + E*Y + F]])), \\emptyset)",
      "text/latex": "$\\displaystyle h{\\left(\\mathbb{X,Y} \\right)} = \\left[\\begin{matrix}A X^{2} + B Y^{2} + C X Y + D X + E Y + F\\end{matrix}\\right] = \\emptyset$"
     },
     "execution_count": 40,
     "metadata": {},
     "output_type": "execute_result"
    }
   ],
   "source": [
    "h_xz = sp.Matrix([\n",
    "    [A * X ** 2 + B * Y ** 2 + C * X * Y + D * X + E * Y + F],\n",
    "])\n",
    "sp.Eq(\n",
    "    sp.Eq(\n",
    "        sp.Function('h')(sp.Symbol('\\mathbb{X,Y}'), evaluate=False),\n",
    "        h_xz, evaluate=False\n",
    "    ),\n",
    "    sp.Symbol('\\emptyset'), evaluate=False\n",
    ")"
   ],
   "metadata": {
    "collapsed": false,
    "ExecuteTime": {
     "end_time": "2023-11-14T19:51:08.883989294Z",
     "start_time": "2023-11-14T19:51:08.804136892Z"
    }
   },
   "id": "e01f2356341d220e"
  },
  {
   "cell_type": "code",
   "execution_count": 34,
   "outputs": [
    {
     "data": {
      "text/plain": "Eq(Matrix([[X, Y, 1]])*Matrix([\n[  A, C/2, D/2],\n[C/2,   B, E/2],\n[D/2, E/2,   F]])*Matrix([\n[X],\n[Y],\n[1]]), Matrix([[0]]))",
      "text/latex": "$\\displaystyle \\left[\\begin{matrix}X & Y & 1\\end{matrix}\\right] \\left[\\begin{matrix}A & \\frac{C}{2} & \\frac{D}{2}\\\\\\frac{C}{2} & B & \\frac{E}{2}\\\\\\frac{D}{2} & \\frac{E}{2} & F\\end{matrix}\\right] \\left[\\begin{matrix}X\\\\Y\\\\1\\end{matrix}\\right] = \\left[\\begin{matrix}0\\end{matrix}\\right]$"
     },
     "execution_count": 34,
     "metadata": {},
     "output_type": "execute_result"
    }
   ],
   "source": [
    "sp.Eq(\n",
    "    sp.MatMul(\n",
    "        sp.Matrix([X, Y, 1]).T,\n",
    "        sp.Matrix([\n",
    "            [A, C / 2, D / 2],\n",
    "            [C / 2, B, E / 2],\n",
    "            [D / 2, E / 2, F],\n",
    "        ]),\n",
    "        sp.Matrix([X, Y, 1]),\n",
    "        evaluate=False),\n",
    "    sp.Matrix([0]), evaluate=False\n",
    ")"
   ],
   "metadata": {
    "collapsed": false,
    "ExecuteTime": {
     "end_time": "2023-11-14T19:27:47.731013532Z",
     "start_time": "2023-11-14T19:27:47.653975961Z"
    }
   },
   "id": "da18e10ad5a82e37"
  },
  {
   "cell_type": "code",
   "execution_count": 38,
   "outputs": [
    {
     "data": {
      "text/plain": "Eq(Matrix([[A*X**2 + B*Y**2 + C*X*Y + D*X + E*Y + F]]), Matrix([[0]]))",
      "text/latex": "$\\displaystyle \\left[\\begin{matrix}A X^{2} + B Y^{2} + C X Y + D X + E Y + F\\end{matrix}\\right] = \\left[\\begin{matrix}0\\end{matrix}\\right]$"
     },
     "execution_count": 38,
     "metadata": {},
     "output_type": "execute_result"
    }
   ],
   "source": [
    "sp.Eq(\n",
    "    sp.expand(\n",
    "        sp.MatMul(\n",
    "            sp.Matrix([X, Y, 1]).T,\n",
    "            sp.Matrix([\n",
    "                [A, C / 2, D / 2],\n",
    "                [C / 2, B, E / 2],\n",
    "                [D / 2, E / 2, F],\n",
    "            ]),\n",
    "            sp.Matrix([X, Y, 1]),\n",
    "            evaluate=True),\n",
    "    ),\n",
    "    sp.Matrix([0]), evaluate=False\n",
    ")"
   ],
   "metadata": {
    "collapsed": false,
    "ExecuteTime": {
     "end_time": "2023-11-14T19:34:37.686323766Z",
     "start_time": "2023-11-14T19:34:37.625365808Z"
    }
   },
   "id": "f62c92c3d9efd665"
  },
  {
   "cell_type": "code",
   "execution_count": 41,
   "outputs": [
    {
     "data": {
      "text/plain": "Eq(\\mathbb{H}, Matrix([[X**2, Y**2, X*Y, X, Y, 1]]))",
      "text/latex": "$\\displaystyle \\mathbb{H} = \\left[\\begin{matrix}X^{2} & Y^{2} & X Y & X & Y & 1\\end{matrix}\\right]$"
     },
     "execution_count": 41,
     "metadata": {},
     "output_type": "execute_result"
    }
   ],
   "source": [
    "# @title Jacobiano de h(X,Z) con respecto a X\n",
    "HH = h_xz.jacobian(XX)\n",
    "sp.Eq(sp.Symbol(r'\\mathbb{H}'), HH, evaluate=False)"
   ],
   "metadata": {
    "collapsed": false,
    "ExecuteTime": {
     "end_time": "2023-11-14T19:58:22.721687942Z",
     "start_time": "2023-11-14T19:58:22.677808974Z"
    }
   },
   "id": "f90275a4972e916a"
  },
  {
   "cell_type": "code",
   "execution_count": 42,
   "outputs": [
    {
     "data": {
      "text/plain": "Eq(\\mathbb{J}, Matrix([[2*A*X + C*Y + D, 2*B*Y + C*X + E]]))",
      "text/latex": "$\\displaystyle \\mathbb{J} = \\left[\\begin{matrix}2 A X + C Y + D & 2 B Y + C X + E\\end{matrix}\\right]$"
     },
     "execution_count": 42,
     "metadata": {},
     "output_type": "execute_result"
    }
   ],
   "source": [
    "# @title Jacobiano de h(X,Z) con respecto a Z\n",
    "JJ = h_xz.jacobian(ZZ)\n",
    "sp.Eq(sp.Symbol(r'\\mathbb{J}'), JJ, evaluate=False)"
   ],
   "metadata": {
    "collapsed": false,
    "ExecuteTime": {
     "end_time": "2023-11-14T19:58:50.609729160Z",
     "start_time": "2023-11-14T19:58:50.570080528Z"
    }
   },
   "id": "a3d8273b2b1759ab"
  },
  {
   "cell_type": "code",
   "execution_count": 9,
   "outputs": [
    {
     "data": {
      "text/plain": "[]"
     },
     "execution_count": 9,
     "metadata": {},
     "output_type": "execute_result"
    }
   ],
   "source": [
    "# encontrar la matrix nula de XX (que multiplica a XX y da 0) \n",
    "MM ="
   ],
   "metadata": {
    "collapsed": false,
    "ExecuteTime": {
     "end_time": "2023-11-10T05:43:52.898253809Z",
     "start_time": "2023-11-10T05:43:52.891378008Z"
    }
   },
   "id": "9f84f625d3b45aa3"
  },
  {
   "cell_type": "code",
   "execution_count": 13,
   "outputs": [
    {
     "data": {
      "text/plain": "array([1, 2, 3])"
     },
     "execution_count": 13,
     "metadata": {},
     "output_type": "execute_result"
    }
   ],
   "source": [
    "import numpy as np\n",
    "\n",
    "x = np.array([1, 2, 3])\n",
    "x"
   ],
   "metadata": {
    "collapsed": false,
    "ExecuteTime": {
     "end_time": "2023-11-10T05:49:21.288311927Z",
     "start_time": "2023-11-10T05:49:21.280013792Z"
    }
   },
   "id": "fc9c7ee56ffa96ba"
  },
  {
   "cell_type": "code",
   "execution_count": 14,
   "outputs": [
    {
     "data": {
      "text/plain": "array([[1, 2, 3],\n       [2, 4, 6],\n       [3, 6, 9]])"
     },
     "execution_count": 14,
     "metadata": {},
     "output_type": "execute_result"
    }
   ],
   "source": [
    "A = np.outer(x, x)\n",
    "A"
   ],
   "metadata": {
    "collapsed": false,
    "ExecuteTime": {
     "end_time": "2023-11-10T05:49:31.145455759Z",
     "start_time": "2023-11-10T05:49:31.126374239Z"
    }
   },
   "id": "a08ff06990379fce"
  },
  {
   "cell_type": "code",
   "execution_count": 17,
   "outputs": [
    {
     "data": {
      "text/plain": "array([14, 28, 42])"
     },
     "execution_count": 17,
     "metadata": {},
     "output_type": "execute_result"
    }
   ],
   "source": [
    "A @ x"
   ],
   "metadata": {
    "collapsed": false,
    "ExecuteTime": {
     "end_time": "2023-11-10T05:50:22.781956115Z",
     "start_time": "2023-11-10T05:50:22.777468272Z"
    }
   },
   "id": "a218b08526d2cc1c"
  }
 ],
 "metadata": {
  "kernelspec": {
   "display_name": "Python 3",
   "language": "python",
   "name": "python3"
  },
  "language_info": {
   "codemirror_mode": {
    "name": "ipython",
    "version": 2
   },
   "file_extension": ".py",
   "mimetype": "text/x-python",
   "name": "python",
   "nbconvert_exporter": "python",
   "pygments_lexer": "ipython2",
   "version": "2.7.6"
  }
 },
 "nbformat": 4,
 "nbformat_minor": 5
}
