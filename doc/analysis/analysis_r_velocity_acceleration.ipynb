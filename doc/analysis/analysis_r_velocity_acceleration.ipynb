{
 "cells": [
  {
   "cell_type": "markdown",
   "source": [
    "# Bayes Estimator\n",
    "\n",
    "### <font color='orange'>Universidad Autónoma de Yucatán</font> _Facultad de Matemáticas_\n",
    "\n",
    "**Teacher:** Dr. Arturo Espinosa Romero <[eromero@correo.uady.mx](mailto:eromero@correo.uady.mx)>\n",
    "\n",
    "**Student:** Ing. Dayan Bravo Fraga <[dayan3847@gmail.com](mailto:dayan3847@gmail.com)>"
   ],
   "metadata": {
    "collapsed": false
   },
   "id": "ed9bbe81d80c6b43"
  },
  {
   "cell_type": "markdown",
   "source": [
    "# Velocity and Acceleration Analysis of r (Radio)"
   ],
   "metadata": {
    "collapsed": false
   },
   "id": "bf1ec2e0b4db437e"
  },
  {
   "cell_type": "code",
   "execution_count": 15,
   "id": "initial_id",
   "metadata": {
    "collapsed": true,
    "ExecuteTime": {
     "end_time": "2023-11-29T08:15:31.052145052Z",
     "start_time": "2023-11-29T08:15:30.986617782Z"
    }
   },
   "outputs": [],
   "source": [
    "import sympy as sp\n",
    "import numpy as np"
   ]
  },
  {
   "cell_type": "code",
   "execution_count": 16,
   "outputs": [],
   "source": [
    "t = sp.Symbol('t')"
   ],
   "metadata": {
    "collapsed": false,
    "ExecuteTime": {
     "end_time": "2023-11-29T08:15:31.052334847Z",
     "start_time": "2023-11-29T08:15:31.029936441Z"
    }
   },
   "id": "f1c9af77aca93ac5"
  },
  {
   "cell_type": "code",
   "execution_count": 17,
   "outputs": [
    {
     "data": {
      "text/plain": "r(t)",
      "text/latex": "$\\displaystyle r{\\left(t \\right)}$"
     },
     "execution_count": 17,
     "metadata": {},
     "output_type": "execute_result"
    }
   ],
   "source": [
    "r = sp.Function('r')(t)\n",
    "r"
   ],
   "metadata": {
    "collapsed": false,
    "ExecuteTime": {
     "end_time": "2023-11-29T08:15:31.052617925Z",
     "start_time": "2023-11-29T08:15:31.030657656Z"
    }
   },
   "id": "9e32d36d77fc9e16"
  },
  {
   "cell_type": "code",
   "execution_count": 18,
   "outputs": [
    {
     "data": {
      "text/plain": "Matrix([\n[  Rm],\n[Z(t)]])",
      "text/latex": "$\\displaystyle \\left[\\begin{matrix}Rm\\\\Z{\\left(t \\right)}\\end{matrix}\\right]$"
     },
     "execution_count": 18,
     "metadata": {},
     "output_type": "execute_result"
    }
   ],
   "source": [
    "Rm = sp.Symbol('Rm')  # radio en metros (constante)\n",
    "# Definimos a Z como funcion de t\n",
    "Z = sp.Function('Z')(t)\n",
    "sp.Matrix([Rm, Z])"
   ],
   "metadata": {
    "collapsed": false,
    "ExecuteTime": {
     "end_time": "2023-11-29T08:15:31.094422071Z",
     "start_time": "2023-11-29T08:15:31.044299744Z"
    }
   },
   "id": "4214fa306e120b7"
  },
  {
   "cell_type": "code",
   "execution_count": 19,
   "outputs": [
    {
     "data": {
      "text/plain": "Eq(r(t), Rm/Z(t))",
      "text/latex": "$\\displaystyle r{\\left(t \\right)} = \\frac{Rm}{Z{\\left(t \\right)}}$"
     },
     "execution_count": 19,
     "metadata": {},
     "output_type": "execute_result"
    }
   ],
   "source": [
    "# Sabemos que:\n",
    "r = Rm / Z\n",
    "sp.Eq(sp.Function('r')(t), r, evaluate=False)"
   ],
   "metadata": {
    "collapsed": false,
    "ExecuteTime": {
     "end_time": "2023-11-29T08:15:31.094716914Z",
     "start_time": "2023-11-29T08:15:31.051816182Z"
    }
   },
   "id": "edb2129f8d20cffb"
  },
  {
   "cell_type": "code",
   "execution_count": 20,
   "outputs": [
    {
     "data": {
      "text/plain": "Eq(Derivative(r(t), t), -Rm*Derivative(Z(t), t)/Z(t)**2)",
      "text/latex": "$\\displaystyle \\frac{d}{d t} r{\\left(t \\right)} = - \\frac{Rm \\frac{d}{d t} Z{\\left(t \\right)}}{Z^{2}{\\left(t \\right)}}$"
     },
     "execution_count": 20,
     "metadata": {},
     "output_type": "execute_result"
    }
   ],
   "source": [
    "# Derivamos x con respecto a t\n",
    "dr = sp.diff(r, t)\n",
    "sp.Eq(sp.diff(sp.Function('r')(t), t), dr, evaluate=False)"
   ],
   "metadata": {
    "collapsed": false,
    "ExecuteTime": {
     "end_time": "2023-11-29T08:15:31.138208770Z",
     "start_time": "2023-11-29T08:15:31.094035057Z"
    }
   },
   "id": "f89b17832430be37"
  },
  {
   "cell_type": "code",
   "execution_count": 21,
   "outputs": [
    {
     "data": {
      "text/plain": "Eq(\\dot{r}, -Rm*\\dot{Z}/Z**2)",
      "text/latex": "$\\displaystyle \\dot{r} = - \\frac{Rm \\dot{Z}}{Z^{2}}$"
     },
     "execution_count": 21,
     "metadata": {},
     "output_type": "execute_result"
    }
   ],
   "source": [
    "# Sustituimos las derivadas por los symobolos correspondientes (dot)\n",
    "sp.Eq(\n",
    "    sp.symbols('\\dot{r}'),\n",
    "    dr\n",
    "    .subs(sp.diff(sp.Function('Z')(t), t), sp.Symbol('\\dot{Z}'))\n",
    "    .subs(sp.Function('Z')(t), sp.Symbol('Z')),\n",
    "    evaluate=False)"
   ],
   "metadata": {
    "collapsed": false,
    "ExecuteTime": {
     "end_time": "2023-11-29T08:15:31.138952206Z",
     "start_time": "2023-11-29T08:15:31.138020322Z"
    }
   },
   "id": "426a9c489629ea36"
  },
  {
   "cell_type": "code",
   "execution_count": 22,
   "outputs": [
    {
     "name": "stdout",
     "output_type": "stream",
     "text": [
      "-Rm*dZ/Z**2\n"
     ]
    }
   ],
   "source": [
    "print(\n",
    "    dr\n",
    "    .subs(sp.diff(sp.Function('Z')(t), t), sp.Symbol('dZ'))\n",
    "    .subs(sp.Function('Z')(t), sp.Symbol('Z'))\n",
    ")"
   ],
   "metadata": {
    "collapsed": false,
    "ExecuteTime": {
     "end_time": "2023-11-29T08:15:31.139155489Z",
     "start_time": "2023-11-29T08:15:31.138180098Z"
    }
   },
   "id": "d8e450844ef3593f"
  },
  {
   "cell_type": "code",
   "execution_count": 23,
   "outputs": [
    {
     "data": {
      "text/plain": "Eq(Derivative(r(t), (t, 2)), -Rm*(Derivative(Z(t), (t, 2)) - 2*Derivative(Z(t), t)**2/Z(t))/Z(t)**2)",
      "text/latex": "$\\displaystyle \\frac{d^{2}}{d t^{2}} r{\\left(t \\right)} = - \\frac{Rm \\left(\\frac{d^{2}}{d t^{2}} Z{\\left(t \\right)} - \\frac{2 \\left(\\frac{d}{d t} Z{\\left(t \\right)}\\right)^{2}}{Z{\\left(t \\right)}}\\right)}{Z^{2}{\\left(t \\right)}}$"
     },
     "execution_count": 23,
     "metadata": {},
     "output_type": "execute_result"
    }
   ],
   "source": [
    "# Calculamos la segunda derivada de x con respecto a t\n",
    "ddr = sp.diff(r, t, 2)\n",
    "sp.Eq(sp.diff(sp.Function('r')(t), t, 2), ddr, evaluate=False)"
   ],
   "metadata": {
    "collapsed": false,
    "ExecuteTime": {
     "end_time": "2023-11-29T08:15:31.182233825Z",
     "start_time": "2023-11-29T08:15:31.138291246Z"
    }
   },
   "id": "cb8b9c8f03f64b47"
  },
  {
   "cell_type": "code",
   "execution_count": 24,
   "outputs": [
    {
     "data": {
      "text/plain": "Eq(\\ddot{r}, -Rm*(\\ddot{Z} - 2*\\dot{Z}**2/Z)/Z**2)",
      "text/latex": "$\\displaystyle \\ddot{r} = - \\frac{Rm \\left(\\ddot{Z} - \\frac{2 \\dot{Z}^{2}}{Z}\\right)}{Z^{2}}$"
     },
     "execution_count": 24,
     "metadata": {},
     "output_type": "execute_result"
    }
   ],
   "source": [
    "# Sustituimos las derivadas por los symobolos correspondientes (dot)\n",
    "sp.Eq(\n",
    "    sp.symbols('\\ddot{r}'),\n",
    "    ddr\n",
    "    .subs(sp.diff(sp.Function('Z')(t), t, 2), sp.Symbol('\\ddot{Z}'))\n",
    "    .subs(sp.diff(sp.Function('Z')(t), t), sp.Symbol('\\dot{Z}'))\n",
    "    .subs(sp.Function('Z')(t), sp.Symbol('Z')),\n",
    "    evaluate=False)"
   ],
   "metadata": {
    "collapsed": false,
    "ExecuteTime": {
     "end_time": "2023-11-29T08:15:31.183062563Z",
     "start_time": "2023-11-29T08:15:31.182017369Z"
    }
   },
   "id": "7b8356651c8308fe"
  },
  {
   "cell_type": "code",
   "execution_count": 25,
   "outputs": [
    {
     "name": "stdout",
     "output_type": "stream",
     "text": [
      "-Rm*(ddZ - 2*dZ**2/Z)/Z**2\n"
     ]
    }
   ],
   "source": [
    "print(\n",
    "    ddr\n",
    "    .subs(sp.diff(sp.Function('Z')(t), t, 2), sp.Symbol('ddZ'))\n",
    "    .subs(sp.diff(sp.Function('Z')(t), t), sp.Symbol('dZ'))\n",
    "    .subs(sp.Function('Z')(t), sp.Symbol('Z'))\n",
    ")"
   ],
   "metadata": {
    "collapsed": false,
    "ExecuteTime": {
     "end_time": "2023-11-29T08:15:31.185123304Z",
     "start_time": "2023-11-29T08:15:31.182192649Z"
    }
   },
   "id": "49718bd3a2d3b38b"
  }
 ],
 "metadata": {
  "kernelspec": {
   "display_name": "Python 3",
   "language": "python",
   "name": "python3"
  },
  "language_info": {
   "codemirror_mode": {
    "name": "ipython",
    "version": 2
   },
   "file_extension": ".py",
   "mimetype": "text/x-python",
   "name": "python",
   "nbconvert_exporter": "python",
   "pygments_lexer": "ipython2",
   "version": "2.7.6"
  }
 },
 "nbformat": 4,
 "nbformat_minor": 5
}
