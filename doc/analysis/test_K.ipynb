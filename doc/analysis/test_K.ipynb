{
 "cells": [
  {
   "cell_type": "markdown",
   "source": [
    "# Bayes Estimator\n",
    "\n",
    "### <font color='orange'>Universidad Autónoma de Yucatán</font> _Facultad de Matemáticas_\n",
    "\n",
    "**Teacher:** Dr. Arturo Espinosa Romero <[eromero@correo.uady.mx](mailto:eromero@correo.uady.mx)>\n",
    "\n",
    "**Student:** Ing. Dayan Bravo Fraga <[dayan3847@gmail.com](mailto:dayan3847@gmail.com)>"
   ],
   "metadata": {
    "collapsed": false
   },
   "id": "ed9bbe81d80c6b43"
  },
  {
   "cell_type": "markdown",
   "source": [
    "# Practice 5: Extended Kalman Filter for Ball Tracking\n",
    "\n",
    "## GitHub: [Practice 5](https://github.com/dayan3847/bayes_estimator/tree/main/practice5-ball_tracking)"
   ],
   "metadata": {
    "collapsed": false
   },
   "id": "bf1ec2e0b4db437e"
  },
  {
   "cell_type": "code",
   "execution_count": 2,
   "id": "initial_id",
   "metadata": {
    "collapsed": true,
    "ExecuteTime": {
     "end_time": "2023-12-03T04:34:09.640161645Z",
     "start_time": "2023-12-03T04:34:09.390208261Z"
    }
   },
   "outputs": [],
   "source": [
    "import sympy as sp\n",
    "import numpy as np"
   ]
  },
  {
   "cell_type": "code",
   "execution_count": 3,
   "outputs": [
    {
     "data": {
      "text/plain": "Matrix([\n[f_x,   0, c_x],\n[  0, f_y, c_y],\n[  0,   0,   1]])",
      "text/latex": "$\\displaystyle \\left[\\begin{matrix}f_{x} & 0 & c_{x}\\\\0 & f_{y} & c_{y}\\\\0 & 0 & 1\\end{matrix}\\right]$"
     },
     "execution_count": 3,
     "metadata": {},
     "output_type": "execute_result"
    }
   ],
   "source": [
    "fx = sp.Symbol('f_x')\n",
    "fy = sp.Symbol('f_y')\n",
    "cx = sp.Symbol('c_x')\n",
    "cy = sp.Symbol('c_y')\n",
    "K = sp.Matrix([\n",
    "    [fx, 0, cx],\n",
    "    [0, fy, cy],\n",
    "    [0, 0, 1]\n",
    "])\n",
    "K"
   ],
   "metadata": {
    "collapsed": false,
    "ExecuteTime": {
     "end_time": "2023-12-03T04:34:09.660875343Z",
     "start_time": "2023-12-03T04:34:09.651298349Z"
    }
   },
   "id": "e4f133ec2a0d45f7"
  },
  {
   "cell_type": "code",
   "execution_count": 4,
   "outputs": [
    {
     "data": {
      "text/plain": "Matrix([\n[1/f_x,     0, -c_x/f_x],\n[    0, 1/f_y, -c_y/f_y],\n[    0,     0,        1]])",
      "text/latex": "$\\displaystyle \\left[\\begin{matrix}\\frac{1}{f_{x}} & 0 & - \\frac{c_{x}}{f_{x}}\\\\0 & \\frac{1}{f_{y}} & - \\frac{c_{y}}{f_{y}}\\\\0 & 0 & 1\\end{matrix}\\right]$"
     },
     "execution_count": 4,
     "metadata": {},
     "output_type": "execute_result"
    }
   ],
   "source": [
    "K_inv = K.inv()\n",
    "K_inv"
   ],
   "metadata": {
    "collapsed": false,
    "ExecuteTime": {
     "end_time": "2023-12-03T04:34:22.555389641Z",
     "start_time": "2023-12-03T04:34:22.395093943Z"
    }
   },
   "id": "6aa6b209b22c2aa3"
  },
  {
   "cell_type": "code",
   "execution_count": 5,
   "outputs": [
    {
     "data": {
      "text/plain": "Matrix([\n[x],\n[y],\n[1]])",
      "text/latex": "$\\displaystyle \\left[\\begin{matrix}x\\\\y\\\\1\\end{matrix}\\right]$"
     },
     "execution_count": 5,
     "metadata": {},
     "output_type": "execute_result"
    }
   ],
   "source": [
    "x_px = sp.Matrix([\n",
    "    [sp.Symbol('x')],\n",
    "    [sp.Symbol('y')],\n",
    "    [1],\n",
    "])\n",
    "x_px"
   ],
   "metadata": {
    "collapsed": false,
    "ExecuteTime": {
     "end_time": "2023-12-03T04:35:47.835647763Z",
     "start_time": "2023-12-03T04:35:47.790567656Z"
    }
   },
   "id": "428d9ea16a78b16d"
  },
  {
   "cell_type": "code",
   "execution_count": 7,
   "outputs": [
    {
     "data": {
      "text/plain": "Matrix([\n[-c_x/f_x + x/f_x],\n[-c_y/f_y + y/f_y],\n[               1]])",
      "text/latex": "$\\displaystyle \\left[\\begin{matrix}- \\frac{c_{x}}{f_{x}} + \\frac{x}{f_{x}}\\\\- \\frac{c_{y}}{f_{y}} + \\frac{y}{f_{y}}\\\\1\\end{matrix}\\right]$"
     },
     "execution_count": 7,
     "metadata": {},
     "output_type": "execute_result"
    }
   ],
   "source": [
    "x_cam = K_inv * x_px\n",
    "x_cam"
   ],
   "metadata": {
    "collapsed": false,
    "ExecuteTime": {
     "end_time": "2023-12-03T04:35:56.121912005Z",
     "start_time": "2023-12-03T04:35:56.096798602Z"
    }
   },
   "id": "789b3d4a669e6cb7"
  },
  {
   "cell_type": "code",
   "execution_count": 9,
   "outputs": [
    {
     "data": {
      "text/plain": "Eq(X, -c_x/f_x + x/f_x)",
      "text/latex": "$\\displaystyle X = - \\frac{c_{x}}{f_{x}} + \\frac{x}{f_{x}}$"
     },
     "execution_count": 9,
     "metadata": {},
     "output_type": "execute_result"
    }
   ],
   "source": [
    "A = sp.Eq(sp.Symbol('X'), x_cam[0], evaluate=False)\n",
    "A"
   ],
   "metadata": {
    "collapsed": false,
    "ExecuteTime": {
     "end_time": "2023-12-03T04:39:04.422926850Z",
     "start_time": "2023-12-03T04:39:04.406186386Z"
    }
   },
   "id": "8d5b59a4ccee1b1e"
  },
  {
   "cell_type": "code",
   "execution_count": 10,
   "outputs": [
    {
     "data": {
      "text/plain": "[X*f_x + c_x]"
     },
     "execution_count": 10,
     "metadata": {},
     "output_type": "execute_result"
    }
   ],
   "source": [
    "# despejar x\n",
    "x = sp.solve(A, sp.Symbol('x'))\n",
    "x"
   ],
   "metadata": {
    "collapsed": false,
    "ExecuteTime": {
     "end_time": "2023-12-03T04:39:17.502875033Z",
     "start_time": "2023-12-03T04:39:17.452512756Z"
    }
   },
   "id": "3ff48fc679d42b41"
  },
  {
   "cell_type": "code",
   "execution_count": null,
   "outputs": [],
   "source": [],
   "metadata": {
    "collapsed": false
   },
   "id": "ff95d8abfb221787"
  }
 ],
 "metadata": {
  "kernelspec": {
   "display_name": "Python 3",
   "language": "python",
   "name": "python3"
  },
  "language_info": {
   "codemirror_mode": {
    "name": "ipython",
    "version": 2
   },
   "file_extension": ".py",
   "mimetype": "text/x-python",
   "name": "python",
   "nbconvert_exporter": "python",
   "pygments_lexer": "ipython2",
   "version": "2.7.6"
  }
 },
 "nbformat": 4,
 "nbformat_minor": 5
}
