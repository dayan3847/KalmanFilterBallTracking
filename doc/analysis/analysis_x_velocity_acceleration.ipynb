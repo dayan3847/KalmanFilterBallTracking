{
 "cells": [
  {
   "cell_type": "markdown",
   "source": [
    "# Bayes Estimator\n",
    "\n",
    "### <font color='orange'>Universidad Autónoma de Yucatán</font> _Facultad de Matemáticas_\n",
    "\n",
    "**Teacher:** Dr. Arturo Espinosa Romero <[eromero@correo.uady.mx](mailto:eromero@correo.uady.mx)>\n",
    "\n",
    "**Student:** Ing. Dayan Bravo Fraga <[dayan3847@gmail.com](mailto:dayan3847@gmail.com)>"
   ],
   "metadata": {
    "collapsed": false
   },
   "id": "ed9bbe81d80c6b43"
  },
  {
   "cell_type": "markdown",
   "source": [
    "# Velocity and Acceleration Analysis of x"
   ],
   "metadata": {
    "collapsed": false
   },
   "id": "bf1ec2e0b4db437e"
  },
  {
   "cell_type": "code",
   "execution_count": 12,
   "id": "initial_id",
   "metadata": {
    "collapsed": true,
    "ExecuteTime": {
     "end_time": "2023-11-29T08:15:24.359215750Z",
     "start_time": "2023-11-29T08:15:24.278750953Z"
    }
   },
   "outputs": [],
   "source": [
    "import sympy as sp\n",
    "import numpy as np"
   ]
  },
  {
   "cell_type": "code",
   "execution_count": 13,
   "outputs": [],
   "source": [
    "t = sp.Symbol('t')"
   ],
   "metadata": {
    "collapsed": false,
    "ExecuteTime": {
     "end_time": "2023-11-29T08:15:24.359435906Z",
     "start_time": "2023-11-29T08:15:24.326012401Z"
    }
   },
   "id": "f1c9af77aca93ac5"
  },
  {
   "cell_type": "code",
   "execution_count": 14,
   "outputs": [
    {
     "data": {
      "text/plain": "x(t)",
      "text/latex": "$\\displaystyle x{\\left(t \\right)}$"
     },
     "execution_count": 14,
     "metadata": {},
     "output_type": "execute_result"
    }
   ],
   "source": [
    "# Definimos a x (de la medicion) como funcion de t\n",
    "x = sp.Function('x')(t)\n",
    "x"
   ],
   "metadata": {
    "collapsed": false,
    "ExecuteTime": {
     "end_time": "2023-11-29T08:15:24.359662785Z",
     "start_time": "2023-11-29T08:15:24.326157453Z"
    }
   },
   "id": "9e32d36d77fc9e16"
  },
  {
   "cell_type": "code",
   "execution_count": 15,
   "outputs": [
    {
     "data": {
      "text/plain": "Matrix([\n[X(t)],\n[Z(t)]])",
      "text/latex": "$\\displaystyle \\left[\\begin{matrix}X{\\left(t \\right)}\\\\Z{\\left(t \\right)}\\end{matrix}\\right]$"
     },
     "execution_count": 15,
     "metadata": {},
     "output_type": "execute_result"
    }
   ],
   "source": [
    "# Definimos a X y Z como funciones de t\n",
    "X = sp.Function('X')(t)\n",
    "Z = sp.Function('Z')(t)\n",
    "sp.Matrix([X, Z])"
   ],
   "metadata": {
    "collapsed": false,
    "ExecuteTime": {
     "end_time": "2023-11-29T08:15:24.359841033Z",
     "start_time": "2023-11-29T08:15:24.326274721Z"
    }
   },
   "id": "4214fa306e120b7"
  },
  {
   "cell_type": "code",
   "execution_count": 16,
   "outputs": [
    {
     "data": {
      "text/plain": "Eq(x(t), X(t)/Z(t))",
      "text/latex": "$\\displaystyle x{\\left(t \\right)} = \\frac{X{\\left(t \\right)}}{Z{\\left(t \\right)}}$"
     },
     "execution_count": 16,
     "metadata": {},
     "output_type": "execute_result"
    }
   ],
   "source": [
    "# Sabemos que:\n",
    "x = X / Z\n",
    "sp.Eq(sp.Function('x')(t), x, evaluate=False)"
   ],
   "metadata": {
    "collapsed": false,
    "ExecuteTime": {
     "end_time": "2023-11-29T08:15:24.360021390Z",
     "start_time": "2023-11-29T08:15:24.326384135Z"
    }
   },
   "id": "edb2129f8d20cffb"
  },
  {
   "cell_type": "code",
   "execution_count": 17,
   "outputs": [
    {
     "data": {
      "text/plain": "Eq(Derivative(x(t), t), -X(t)*Derivative(Z(t), t)/Z(t)**2 + Derivative(X(t), t)/Z(t))",
      "text/latex": "$\\displaystyle \\frac{d}{d t} x{\\left(t \\right)} = - \\frac{X{\\left(t \\right)} \\frac{d}{d t} Z{\\left(t \\right)}}{Z^{2}{\\left(t \\right)}} + \\frac{\\frac{d}{d t} X{\\left(t \\right)}}{Z{\\left(t \\right)}}$"
     },
     "execution_count": 17,
     "metadata": {},
     "output_type": "execute_result"
    }
   ],
   "source": [
    "# Derivamos x con respecto a t\n",
    "dx = sp.diff(x, t)\n",
    "sp.Eq(sp.diff(sp.Function('x')(t), t), dx, evaluate=False)"
   ],
   "metadata": {
    "collapsed": false,
    "ExecuteTime": {
     "end_time": "2023-11-29T08:15:24.360478642Z",
     "start_time": "2023-11-29T08:15:24.326504155Z"
    }
   },
   "id": "f89b17832430be37"
  },
  {
   "cell_type": "code",
   "execution_count": 18,
   "outputs": [
    {
     "data": {
      "text/plain": "Eq(\\dot{x}, -X*\\dot{Z}/Z**2 + \\dot{X}/Z)",
      "text/latex": "$\\displaystyle \\dot{x} = - \\frac{X \\dot{Z}}{Z^{2}} + \\frac{\\dot{X}}{Z}$"
     },
     "execution_count": 18,
     "metadata": {},
     "output_type": "execute_result"
    }
   ],
   "source": [
    "# Sustituimos las derivadas por los symobolos correspondientes (dot)\n",
    "sp.Eq(\n",
    "    sp.symbols('\\dot{x}'),\n",
    "    dx\n",
    "    .subs(sp.diff(sp.Function('X')(t), t), sp.Symbol('\\dot{X}'))\n",
    "    .subs(sp.diff(sp.Function('Z')(t), t), sp.Symbol('\\dot{Z}'))\n",
    "    .subs(sp.Function('X')(t), sp.Symbol('X'))\n",
    "    .subs(sp.Function('Z')(t), sp.Symbol('Z')),\n",
    "    evaluate=False)"
   ],
   "metadata": {
    "collapsed": false,
    "ExecuteTime": {
     "end_time": "2023-11-29T08:15:24.408241666Z",
     "start_time": "2023-11-29T08:15:24.342833173Z"
    }
   },
   "id": "426a9c489629ea36"
  },
  {
   "cell_type": "code",
   "execution_count": 19,
   "outputs": [
    {
     "name": "stdout",
     "output_type": "stream",
     "text": [
      "-X*dZ/Z**2 + dX/Z\n"
     ]
    }
   ],
   "source": [
    "print(\n",
    "    dx\n",
    "    .subs(sp.diff(sp.Function('X')(t), t), sp.Symbol('dX'))\n",
    "    .subs(sp.diff(sp.Function('Z')(t), t), sp.Symbol('dZ'))\n",
    "    .subs(sp.Function('X')(t), sp.Symbol('X'))\n",
    "    .subs(sp.Function('Z')(t), sp.Symbol('Z'))\n",
    ")"
   ],
   "metadata": {
    "collapsed": false,
    "ExecuteTime": {
     "end_time": "2023-11-29T08:15:24.408497306Z",
     "start_time": "2023-11-29T08:15:24.385953861Z"
    }
   },
   "id": "d8e450844ef3593f"
  },
  {
   "cell_type": "code",
   "execution_count": 20,
   "outputs": [
    {
     "data": {
      "text/plain": "Eq(Derivative(x(t), (t, 2)), (-(Derivative(Z(t), (t, 2)) - 2*Derivative(Z(t), t)**2/Z(t))*X(t)/Z(t) + Derivative(X(t), (t, 2)) - 2*Derivative(X(t), t)*Derivative(Z(t), t)/Z(t))/Z(t))",
      "text/latex": "$\\displaystyle \\frac{d^{2}}{d t^{2}} x{\\left(t \\right)} = \\frac{- \\frac{\\left(\\frac{d^{2}}{d t^{2}} Z{\\left(t \\right)} - \\frac{2 \\left(\\frac{d}{d t} Z{\\left(t \\right)}\\right)^{2}}{Z{\\left(t \\right)}}\\right) X{\\left(t \\right)}}{Z{\\left(t \\right)}} + \\frac{d^{2}}{d t^{2}} X{\\left(t \\right)} - \\frac{2 \\frac{d}{d t} X{\\left(t \\right)} \\frac{d}{d t} Z{\\left(t \\right)}}{Z{\\left(t \\right)}}}{Z{\\left(t \\right)}}$"
     },
     "execution_count": 20,
     "metadata": {},
     "output_type": "execute_result"
    }
   ],
   "source": [
    "# Calculamos la segunda derivada de x con respecto a t\n",
    "ddx = sp.diff(x, t, 2)\n",
    "sp.Eq(sp.diff(sp.Function('x')(t), t, 2), ddx, evaluate=False)"
   ],
   "metadata": {
    "collapsed": false,
    "ExecuteTime": {
     "end_time": "2023-11-29T08:15:24.448310290Z",
     "start_time": "2023-11-29T08:15:24.386122535Z"
    }
   },
   "id": "cb8b9c8f03f64b47"
  },
  {
   "cell_type": "code",
   "execution_count": 21,
   "outputs": [
    {
     "data": {
      "text/plain": "Eq(\\ddot{x}, (-X*(\\ddot{Z} - 2*\\dot{Z}**2/Z)/Z + \\ddot{X} - 2*\\dot{X}*\\dot{Z}/Z)/Z)",
      "text/latex": "$\\displaystyle \\ddot{x} = \\frac{- \\frac{X \\left(\\ddot{Z} - \\frac{2 \\dot{Z}^{2}}{Z}\\right)}{Z} + \\ddot{X} - \\frac{2 \\dot{X} \\dot{Z}}{Z}}{Z}$"
     },
     "execution_count": 21,
     "metadata": {},
     "output_type": "execute_result"
    }
   ],
   "source": [
    "# Sustituimos las derivadas por los symobolos correspondientes (dot)\n",
    "sp.Eq(\n",
    "    sp.symbols('\\ddot{x}'),\n",
    "    ddx\n",
    "    .subs(sp.diff(sp.Function('X')(t), t, 2), sp.Symbol('\\ddot{X}'))\n",
    "    .subs(sp.diff(sp.Function('Z')(t), t, 2), sp.Symbol('\\ddot{Z}'))\n",
    "    .subs(sp.diff(sp.Function('X')(t), t), sp.Symbol('\\dot{X}'))\n",
    "    .subs(sp.diff(sp.Function('Z')(t), t), sp.Symbol('\\dot{Z}'))\n",
    "    .subs(sp.Function('X')(t), sp.Symbol('X'))\n",
    "    .subs(sp.Function('Z')(t), sp.Symbol('Z')),\n",
    "    evaluate=False)"
   ],
   "metadata": {
    "collapsed": false,
    "ExecuteTime": {
     "end_time": "2023-11-29T08:15:24.448578024Z",
     "start_time": "2023-11-29T08:15:24.429971200Z"
    }
   },
   "id": "7b8356651c8308fe"
  },
  {
   "cell_type": "code",
   "execution_count": 22,
   "outputs": [
    {
     "name": "stdout",
     "output_type": "stream",
     "text": [
      "(-X*(ddZ - 2*dZ**2/Z)/Z + ddX - 2*dX*dZ/Z)/Z\n"
     ]
    }
   ],
   "source": [
    "print(\n",
    "    ddx\n",
    "    .subs(sp.diff(sp.Function('X')(t), t, 2), sp.Symbol('ddX'))\n",
    "    .subs(sp.diff(sp.Function('Z')(t), t, 2), sp.Symbol('ddZ'))\n",
    "    .subs(sp.diff(sp.Function('X')(t), t), sp.Symbol('dX'))\n",
    "    .subs(sp.diff(sp.Function('Z')(t), t), sp.Symbol('dZ'))\n",
    "    .subs(sp.Function('X')(t), sp.Symbol('X'))\n",
    "    .subs(sp.Function('Z')(t), sp.Symbol('Z'))\n",
    ")"
   ],
   "metadata": {
    "collapsed": false,
    "ExecuteTime": {
     "end_time": "2023-11-29T08:15:24.448784061Z",
     "start_time": "2023-11-29T08:15:24.430200123Z"
    }
   },
   "id": "49718bd3a2d3b38b"
  }
 ],
 "metadata": {
  "kernelspec": {
   "display_name": "Python 3",
   "language": "python",
   "name": "python3"
  },
  "language_info": {
   "codemirror_mode": {
    "name": "ipython",
    "version": 2
   },
   "file_extension": ".py",
   "mimetype": "text/x-python",
   "name": "python",
   "nbconvert_exporter": "python",
   "pygments_lexer": "ipython2",
   "version": "2.7.6"
  }
 },
 "nbformat": 4,
 "nbformat_minor": 5
}
