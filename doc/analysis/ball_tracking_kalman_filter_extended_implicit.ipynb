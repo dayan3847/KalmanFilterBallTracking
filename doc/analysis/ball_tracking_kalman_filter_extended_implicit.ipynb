{
 "cells": [
  {
   "cell_type": "markdown",
   "source": [
    "# Bayes Estimator\n",
    "\n",
    "### <font color='orange'>Universidad Autónoma de Yucatán</font> _Facultad de Matemáticas_\n",
    "\n",
    "**Teacher:** Dr. Arturo Espinosa Romero <[eromero@correo.uady.mx](mailto:eromero@correo.uady.mx)>\n",
    "\n",
    "**Student:** Ing. Dayan Bravo Fraga <[dayan3847@gmail.com](mailto:dayan3847@gmail.com)>"
   ],
   "metadata": {
    "collapsed": false
   },
   "id": "ed9bbe81d80c6b43"
  },
  {
   "cell_type": "markdown",
   "source": [
    "# Practice 5: Implicit Extended Kalman Filter for Ball Tracking\n",
    "\n",
    "## GitHub: [Practice 5](https://github.com/dayan3847/bayes_estimator/tree/main/practice5-ball_tracking)"
   ],
   "metadata": {
    "collapsed": false
   },
   "id": "bf1ec2e0b4db437e"
  },
  {
   "cell_type": "code",
   "execution_count": 3,
   "id": "initial_id",
   "metadata": {
    "collapsed": true,
    "ExecuteTime": {
     "end_time": "2023-11-29T10:30:24.451843663Z",
     "start_time": "2023-11-29T10:30:24.255530567Z"
    }
   },
   "outputs": [],
   "source": [
    "import sympy as sp"
   ]
  },
  {
   "cell_type": "code",
   "execution_count": 4,
   "outputs": [
    {
     "data": {
      "text/plain": "Eq(\\mathbb{X}, Matrix([\n[      X],\n[      Y],\n[      Z],\n[\\dot{X}],\n[\\dot{Y}],\n[\\dot{Z}]]))",
      "text/latex": "$\\displaystyle \\mathbb{X} = \\left[\\begin{matrix}X\\\\Y\\\\Z\\\\\\dot{X}\\\\\\dot{Y}\\\\\\dot{Z}\\end{matrix}\\right]$"
     },
     "execution_count": 4,
     "metadata": {},
     "output_type": "execute_result"
    }
   ],
   "source": [
    "#@title Estado de sistema\n",
    "X, Y, Z, = sp.symbols('X Y Z')\n",
    "dX, dY, dZ = sp.symbols('\\dot{X} \\dot{Y} \\dot{Z}')\n",
    "# El estado esta compuesto por las coordenadas reales y las velocidades\n",
    "XX = sp.Matrix([\n",
    "    [X],\n",
    "    [Y],\n",
    "    [Z],\n",
    "    [dX],\n",
    "    [dY],\n",
    "    [dZ],\n",
    "])\n",
    "\n",
    "sp.Eq(sp.Symbol('\\mathbb{X}'), XX, evaluate=False)"
   ],
   "metadata": {
    "collapsed": false,
    "ExecuteTime": {
     "end_time": "2023-11-29T10:30:24.652557542Z",
     "start_time": "2023-11-29T10:30:24.600332175Z"
    }
   },
   "id": "edb2129f8d20cffb"
  },
  {
   "cell_type": "code",
   "execution_count": 4,
   "outputs": [
    {
     "data": {
      "text/plain": "Eq(\\mathbb{A}, Matrix([\n[1, 0, 0, \\Delta t,        0,        0],\n[0, 1, 0,        0, \\Delta t,        0],\n[0, 0, 1,        0,        0, \\Delta t],\n[0, 0, 0,        1,        0,        0],\n[0, 0, 0,        0,        1,        0],\n[0, 0, 0,        0,        0,        1]]))",
      "text/latex": "$\\displaystyle \\mathbb{A} = \\left[\\begin{matrix}1 & 0 & 0 & \\Delta t & 0 & 0\\\\0 & 1 & 0 & 0 & \\Delta t & 0\\\\0 & 0 & 1 & 0 & 0 & \\Delta t\\\\0 & 0 & 0 & 1 & 0 & 0\\\\0 & 0 & 0 & 0 & 1 & 0\\\\0 & 0 & 0 & 0 & 0 & 1\\end{matrix}\\right]$"
     },
     "execution_count": 4,
     "metadata": {},
     "output_type": "execute_result"
    }
   ],
   "source": [
    "#@title Matriz A \"transitionMatrix\"\n",
    "dt = sp.Symbol('\\Delta t')\n",
    "# Esta seria la matrix de transformacion de estado\n",
    "AA = sp.Matrix([\n",
    "    [1, 0, 0, dt, 0, 0],\n",
    "    [0, 1, 0, 0, dt, 0],\n",
    "    [0, 0, 1, 0, 0, dt],\n",
    "    [0, 0, 0, 1, 0, 0],\n",
    "    [0, 0, 0, 0, 1, 0],\n",
    "    [0, 0, 0, 0, 0, 1],\n",
    "])\n",
    "sp.Eq(sp.Symbol('\\mathbb{A}'), AA, evaluate=False)"
   ],
   "metadata": {
    "collapsed": false,
    "ExecuteTime": {
     "end_time": "2023-11-28T19:28:57.822684281Z",
     "start_time": "2023-11-28T19:28:57.754985088Z"
    }
   },
   "id": "1b01191bc97074a7"
  },
  {
   "cell_type": "code",
   "execution_count": 5,
   "outputs": [
    {
     "data": {
      "text/plain": "Eq(\\mathbb{Z}, Matrix([\n[      x],\n[      y],\n[      r],\n[\\dot{x}],\n[\\dot{y}]]))",
      "text/latex": "$\\displaystyle \\mathbb{Z} = \\left[\\begin{matrix}x\\\\y\\\\r\\\\\\dot{x}\\\\\\dot{y}\\end{matrix}\\right]$"
     },
     "execution_count": 5,
     "metadata": {},
     "output_type": "execute_result"
    }
   ],
   "source": [
    "#@title \"Z\" Medicion\n",
    "x, y, r = sp.symbols('x y r')\n",
    "dx, dy = sp.symbols('\\dot{x} \\dot{y}')\n",
    "# La medicion esta compuesta por las coordenadas de la camara y el tamanno del radio (en metros)\n",
    "ZZ = sp.Matrix([\n",
    "    [x],\n",
    "    [y],\n",
    "    [r],\n",
    "    [dx],\n",
    "    [dy],\n",
    "])\n",
    "sp.Eq(sp.Symbol('\\mathbb{Z}'), ZZ, evaluate=False)"
   ],
   "metadata": {
    "collapsed": false,
    "ExecuteTime": {
     "end_time": "2023-11-29T10:30:45.895024141Z",
     "start_time": "2023-11-29T10:30:45.879870321Z"
    }
   },
   "id": "f3586723de42042"
  },
  {
   "cell_type": "code",
   "execution_count": 13,
   "outputs": [
    {
     "data": {
      "text/plain": "Eq(Eq(h(\\mathbb{X,Y}), Matrix([\n[                         -X/Z + x],\n[                         -Y/Z + y],\n[                        -Rm/Z + r],\n[\\dot{x} - \\dot{X}/Z + \\dot{Z}*x/Z],\n[\\dot{y} - \\dot{Y}/Z + \\dot{Z}*y/Z]])), \\emptyset)",
      "text/latex": "$\\displaystyle h{\\left(\\mathbb{X,Y} \\right)} = \\left[\\begin{matrix}- \\frac{X}{Z} + x\\\\- \\frac{Y}{Z} + y\\\\- \\frac{Rm}{Z} + r\\\\\\dot{x} - \\frac{\\dot{X}}{Z} + \\frac{\\dot{Z} x}{Z}\\\\\\dot{y} - \\frac{\\dot{Y}}{Z} + \\frac{\\dot{Z} y}{Z}\\end{matrix}\\right] = \\emptyset$"
     },
     "execution_count": 13,
     "metadata": {},
     "output_type": "execute_result"
    }
   ],
   "source": [
    "# @title Funcion h\n",
    "Rm = sp.Symbol('Rm')  # Radio real de la pelota en metros\n",
    "h_xz = sp.Matrix([\n",
    "    [x - X / Z],\n",
    "    [y - Y / Z],\n",
    "    [r - Rm / Z],\n",
    "    [(dx - (-X * dZ / Z ** 2 + dX / Z)).subs(X / Z, x)],\n",
    "    [(dy - (-Y * dZ / Z ** 2 + dY / Z)).subs(Y / Z, y)],\n",
    "])\n",
    "sp.Eq(sp.Eq(sp.Function('h')(sp.Symbol('\\mathbb{X,Y}'), evaluate=False), h_xz, evaluate=False),\n",
    "      sp.Symbol('\\emptyset'), evaluate=False)"
   ],
   "metadata": {
    "collapsed": false,
    "ExecuteTime": {
     "end_time": "2023-11-29T10:36:13.825544837Z",
     "start_time": "2023-11-29T10:36:13.256298761Z"
    }
   },
   "id": "7c4034ca3903ca08"
  },
  {
   "cell_type": "code",
   "execution_count": 14,
   "outputs": [
    {
     "data": {
      "text/plain": "Eq(\\mathbb{H}, Matrix([\n[-1/Z,    0,                        X/Z**2,    0,    0,   0],\n[   0, -1/Z,                        Y/Z**2,    0,    0,   0],\n[   0,    0,                       Rm/Z**2,    0,    0,   0],\n[   0,    0, \\dot{X}/Z**2 - \\dot{Z}*x/Z**2, -1/Z,    0, x/Z],\n[   0,    0, \\dot{Y}/Z**2 - \\dot{Z}*y/Z**2,    0, -1/Z, y/Z]]))",
      "text/latex": "$\\displaystyle \\mathbb{H} = \\left[\\begin{matrix}- \\frac{1}{Z} & 0 & \\frac{X}{Z^{2}} & 0 & 0 & 0\\\\0 & - \\frac{1}{Z} & \\frac{Y}{Z^{2}} & 0 & 0 & 0\\\\0 & 0 & \\frac{Rm}{Z^{2}} & 0 & 0 & 0\\\\0 & 0 & \\frac{\\dot{X}}{Z^{2}} - \\frac{\\dot{Z} x}{Z^{2}} & - \\frac{1}{Z} & 0 & \\frac{x}{Z}\\\\0 & 0 & \\frac{\\dot{Y}}{Z^{2}} - \\frac{\\dot{Z} y}{Z^{2}} & 0 & - \\frac{1}{Z} & \\frac{y}{Z}\\end{matrix}\\right]$"
     },
     "execution_count": 14,
     "metadata": {},
     "output_type": "execute_result"
    }
   ],
   "source": [
    "# @title Jacobiano de h(X,Z) con respecto a X\n",
    "HH = h_xz.jacobian(XX)\n",
    "sp.Eq(sp.Symbol(r'\\mathbb{H}'), HH, evaluate=False)"
   ],
   "metadata": {
    "collapsed": false,
    "ExecuteTime": {
     "end_time": "2023-11-29T10:36:19.474190297Z",
     "start_time": "2023-11-29T10:36:19.431740372Z"
    }
   },
   "id": "926c3d9f23d5f6a0"
  },
  {
   "cell_type": "code",
   "execution_count": 15,
   "outputs": [
    {
     "data": {
      "text/plain": "Eq(\\mathbb{J}, Matrix([\n[        1,         0, 0, 0, 0],\n[        0,         1, 0, 0, 0],\n[        0,         0, 1, 0, 0],\n[\\dot{Z}/Z,         0, 0, 1, 0],\n[        0, \\dot{Z}/Z, 0, 0, 1]]))",
      "text/latex": "$\\displaystyle \\mathbb{J} = \\left[\\begin{matrix}1 & 0 & 0 & 0 & 0\\\\0 & 1 & 0 & 0 & 0\\\\0 & 0 & 1 & 0 & 0\\\\\\frac{\\dot{Z}}{Z} & 0 & 0 & 1 & 0\\\\0 & \\frac{\\dot{Z}}{Z} & 0 & 0 & 1\\end{matrix}\\right]$"
     },
     "execution_count": 15,
     "metadata": {},
     "output_type": "execute_result"
    }
   ],
   "source": [
    "# @title Jacobiano de h(X,Z) con respecto a Z\n",
    "JJ = h_xz.jacobian(ZZ)\n",
    "sp.Eq(sp.Symbol(r'\\mathbb{J}'), JJ, evaluate=False)"
   ],
   "metadata": {
    "collapsed": false,
    "ExecuteTime": {
     "end_time": "2023-11-29T10:36:22.583385189Z",
     "start_time": "2023-11-29T10:36:22.574094668Z"
    }
   },
   "id": "4ad394a193266b90"
  },
  {
   "cell_type": "code",
   "execution_count": 19,
   "outputs": [
    {
     "name": "stdout",
     "output_type": "stream",
     "text": [
      "-X/Z + x, \n",
      "-Y/Z + y, \n",
      "-Rm/Z + r, \n",
      "dx - dX/Z + dZ*x/Z, \n",
      "dy - dY/Z + dZ*y/Z, \n"
     ]
    }
   ],
   "source": [
    "rows, cols = h_xz.shape\n",
    "for r in range(rows):\n",
    "    line = ''\n",
    "    for c in range(cols):\n",
    "        line += str(\n",
    "            h_xz[r, c]\n",
    "            .subs(dX, sp.Symbol('dX'))\n",
    "            .subs(dY, sp.Symbol('dY'))\n",
    "            .subs(dZ, sp.Symbol('dZ'))\n",
    "            .subs(dx, sp.Symbol('dx'))\n",
    "            .subs(dy, sp.Symbol('dy'))\n",
    "        ) + ', '\n",
    "    print(line)"
   ],
   "metadata": {
    "collapsed": false,
    "ExecuteTime": {
     "end_time": "2023-11-29T10:41:08.910172835Z",
     "start_time": "2023-11-29T10:41:08.865177954Z"
    }
   },
   "id": "6ddaa35a775770a6"
  },
  {
   "cell_type": "code",
   "execution_count": 16,
   "outputs": [
    {
     "name": "stdout",
     "output_type": "stream",
     "text": [
      "-1/Z, 0, X/Z**2, 0, 0, 0, \n",
      "0, -1/Z, Y/Z**2, 0, 0, 0, \n",
      "0, 0, Rm/Z**2, 0, 0, 0, \n",
      "0, 0, dX/Z**2 - dZ*x/Z**2, -1/Z, 0, x/Z, \n",
      "0, 0, dY/Z**2 - dZ*y/Z**2, 0, -1/Z, y/Z, \n"
     ]
    }
   ],
   "source": [
    "rows, cols = HH.shape\n",
    "for r in range(rows):\n",
    "    line = ''\n",
    "    for c in range(cols):\n",
    "        line += str(\n",
    "            HH[r, c]\n",
    "            .subs(dX, sp.Symbol('dX'))\n",
    "            .subs(dY, sp.Symbol('dY'))\n",
    "            .subs(dZ, sp.Symbol('dZ'))\n",
    "        ) + ', '\n",
    "    print(line)"
   ],
   "metadata": {
    "collapsed": false,
    "ExecuteTime": {
     "end_time": "2023-11-29T10:37:06.574127908Z",
     "start_time": "2023-11-29T10:37:06.532633002Z"
    }
   },
   "id": "621ed8a735cbb766"
  },
  {
   "cell_type": "code",
   "execution_count": 17,
   "outputs": [
    {
     "name": "stdout",
     "output_type": "stream",
     "text": [
      "1, 0, 0, 0, 0, \n",
      "0, 1, 0, 0, 0, \n",
      "0, 0, 1, 0, 0, \n",
      "dZ/Z, 0, 0, 1, 0, \n",
      "0, dZ/Z, 0, 0, 1, \n"
     ]
    }
   ],
   "source": [
    "rows, cols = JJ.shape\n",
    "for r in range(rows):\n",
    "    line = ''\n",
    "    for c in range(cols):\n",
    "        line += str(\n",
    "            JJ[r, c]\n",
    "            .subs(dZ, sp.Symbol('dZ'))\n",
    "        ) + ', '\n",
    "    print(line)"
   ],
   "metadata": {
    "collapsed": false,
    "ExecuteTime": {
     "end_time": "2023-11-29T10:37:40.741881460Z",
     "start_time": "2023-11-29T10:37:40.691247606Z"
    }
   },
   "id": "4aac516ea7d91f02"
  },
  {
   "cell_type": "code",
   "execution_count": null,
   "outputs": [],
   "source": [],
   "metadata": {
    "collapsed": false
   },
   "id": "bfc8c9d4ac3cb52f"
  }
 ],
 "metadata": {
  "kernelspec": {
   "display_name": "Python 3",
   "language": "python",
   "name": "python3"
  },
  "language_info": {
   "codemirror_mode": {
    "name": "ipython",
    "version": 2
   },
   "file_extension": ".py",
   "mimetype": "text/x-python",
   "name": "python",
   "nbconvert_exporter": "python",
   "pygments_lexer": "ipython2",
   "version": "2.7.6"
  }
 },
 "nbformat": 4,
 "nbformat_minor": 5
}
