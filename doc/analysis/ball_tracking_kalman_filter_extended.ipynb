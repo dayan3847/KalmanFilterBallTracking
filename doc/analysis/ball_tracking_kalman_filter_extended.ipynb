{
 "cells": [
  {
   "cell_type": "markdown",
   "source": [
    "# Bayes Estimator\n",
    "\n",
    "### <font color='orange'>Universidad Autónoma de Yucatán</font> _Facultad de Matemáticas_\n",
    "\n",
    "**Teacher:** Dr. Arturo Espinosa Romero <[eromero@correo.uady.mx](mailto:eromero@correo.uady.mx)>\n",
    "\n",
    "**Student:** Ing. Dayan Bravo Fraga <[dayan3847@gmail.com](mailto:dayan3847@gmail.com)>"
   ],
   "metadata": {
    "collapsed": false
   },
   "id": "ed9bbe81d80c6b43"
  },
  {
   "cell_type": "markdown",
   "source": [
    "# Practice 5: Extended Kalman Filter for Ball Tracking\n",
    "\n",
    "## GitHub: [Practice 5](https://github.com/dayan3847/bayes_estimator/tree/main/practice5-ball_tracking)"
   ],
   "metadata": {
    "collapsed": false
   },
   "id": "bf1ec2e0b4db437e"
  },
  {
   "cell_type": "code",
   "execution_count": 8,
   "id": "initial_id",
   "metadata": {
    "collapsed": true,
    "ExecuteTime": {
     "end_time": "2023-11-29T08:30:36.338300609Z",
     "start_time": "2023-11-29T08:30:36.294407239Z"
    }
   },
   "outputs": [],
   "source": [
    "import sympy as sp\n",
    "import numpy as np"
   ]
  },
  {
   "cell_type": "code",
   "execution_count": 9,
   "outputs": [
    {
     "data": {
      "text/plain": "Eq(\\mathbb{X}, Matrix([\n[      X],\n[      Y],\n[      Z],\n[\\dot{X}],\n[\\dot{Y}],\n[\\dot{Z}]]))",
      "text/latex": "$\\displaystyle \\mathbb{X} = \\left[\\begin{matrix}X\\\\Y\\\\Z\\\\\\dot{X}\\\\\\dot{Y}\\\\\\dot{Z}\\end{matrix}\\right]$"
     },
     "execution_count": 9,
     "metadata": {},
     "output_type": "execute_result"
    }
   ],
   "source": [
    "#@title Estado de sistema\n",
    "X, Y, Z, = sp.symbols('X Y Z')\n",
    "dX, dY, dZ = sp.symbols('\\dot{X} \\dot{Y} \\dot{Z}')\n",
    "# El estado esta compuesto por las coordenadas reales y las velocidades\n",
    "XX = sp.Matrix([\n",
    "    [X],\n",
    "    [Y],\n",
    "    [Z],\n",
    "    [dX],\n",
    "    [dY],\n",
    "    [dZ],\n",
    "])\n",
    "\n",
    "sp.Eq(sp.Symbol('\\mathbb{X}'), XX, evaluate=False)"
   ],
   "metadata": {
    "collapsed": false,
    "ExecuteTime": {
     "end_time": "2023-11-29T08:30:36.641526328Z",
     "start_time": "2023-11-29T08:30:36.625523692Z"
    }
   },
   "id": "edb2129f8d20cffb"
  },
  {
   "cell_type": "code",
   "execution_count": 10,
   "outputs": [
    {
     "data": {
      "text/plain": "Eq(\\mathbb{A}, Matrix([\n[1, 0, 0, \\Delta t,        0,        0],\n[0, 1, 0,        0, \\Delta t,        0],\n[0, 0, 1,        0,        0, \\Delta t],\n[0, 0, 0,        1,        0,        0],\n[0, 0, 0,        0,        1,        0],\n[0, 0, 0,        0,        0,        1]]))",
      "text/latex": "$\\displaystyle \\mathbb{A} = \\left[\\begin{matrix}1 & 0 & 0 & \\Delta t & 0 & 0\\\\0 & 1 & 0 & 0 & \\Delta t & 0\\\\0 & 0 & 1 & 0 & 0 & \\Delta t\\\\0 & 0 & 0 & 1 & 0 & 0\\\\0 & 0 & 0 & 0 & 1 & 0\\\\0 & 0 & 0 & 0 & 0 & 1\\end{matrix}\\right]$"
     },
     "execution_count": 10,
     "metadata": {},
     "output_type": "execute_result"
    }
   ],
   "source": [
    "#@title Matriz A \"transitionMatrix\"\n",
    "dt = sp.Symbol('\\Delta t')\n",
    "# Esta seria la matrix de transformacion de estado\n",
    "AA = sp.Matrix([\n",
    "    [1, 0, 0, dt, 0, 0],\n",
    "    [0, 1, 0, 0, dt, 0],\n",
    "    [0, 0, 1, 0, 0, dt],\n",
    "    [0, 0, 0, 1, 0, 0],\n",
    "    [0, 0, 0, 0, 1, 0],\n",
    "    [0, 0, 0, 0, 0, 1],\n",
    "])\n",
    "sp.Eq(sp.Symbol('\\mathbb{A}'), AA, evaluate=False)"
   ],
   "metadata": {
    "collapsed": false,
    "ExecuteTime": {
     "end_time": "2023-11-29T08:30:39.466766130Z",
     "start_time": "2023-11-29T08:30:39.446308425Z"
    }
   },
   "id": "1b01191bc97074a7"
  },
  {
   "cell_type": "code",
   "execution_count": 11,
   "outputs": [
    {
     "data": {
      "text/plain": "Eq(\\mathbb{Z}, Matrix([\n[      x],\n[      y],\n[      r],\n[\\dot{x}],\n[\\dot{y}]]))",
      "text/latex": "$\\displaystyle \\mathbb{Z} = \\left[\\begin{matrix}x\\\\y\\\\r\\\\\\dot{x}\\\\\\dot{y}\\end{matrix}\\right]$"
     },
     "execution_count": 11,
     "metadata": {},
     "output_type": "execute_result"
    }
   ],
   "source": [
    "#@title \"Z\" Medicion\n",
    "x, y, r = sp.symbols('x y r')\n",
    "dx, dy = sp.symbols('\\dot{x} \\dot{y}')\n",
    "# La medicion esta compuesta por las coordenadas de la camara y el tamanno del radio (en metros)\n",
    "ZZ = sp.Matrix([\n",
    "    [x],\n",
    "    [y],\n",
    "    [r],\n",
    "    [dx],\n",
    "    [dy],\n",
    "])\n",
    "sp.Eq(sp.Symbol('\\mathbb{Z}'), ZZ, evaluate=False)"
   ],
   "metadata": {
    "collapsed": false,
    "ExecuteTime": {
     "end_time": "2023-11-29T08:31:20.803813481Z",
     "start_time": "2023-11-29T08:31:20.717436243Z"
    }
   },
   "id": "f3586723de42042"
  },
  {
   "cell_type": "code",
   "execution_count": 12,
   "outputs": [
    {
     "data": {
      "text/plain": "Eq(h(\\mathbb{X}), Matrix([\n[                        X/Z],\n[                        Y/Z],\n[                       Rm/Z],\n[-X*\\dot{Z}/Z**2 + \\dot{X}/Z],\n[-Y*\\dot{Z}/Z**2 + \\dot{Y}/Z]]))",
      "text/latex": "$\\displaystyle h{\\left(\\mathbb{X} \\right)} = \\left[\\begin{matrix}\\frac{X}{Z}\\\\\\frac{Y}{Z}\\\\\\frac{Rm}{Z}\\\\- \\frac{X \\dot{Z}}{Z^{2}} + \\frac{\\dot{X}}{Z}\\\\- \\frac{Y \\dot{Z}}{Z^{2}} + \\frac{\\dot{Y}}{Z}\\end{matrix}\\right]$"
     },
     "execution_count": 12,
     "metadata": {},
     "output_type": "execute_result"
    }
   ],
   "source": [
    "# @title Funcion h\n",
    "Rm = sp.Symbol('Rm')  # Radio real de la pelota en metros\n",
    "h_x = sp.Matrix([\n",
    "    [X / Z],  # x\n",
    "    [Y / Z],  # y\n",
    "    [Rm / Z],  # r\n",
    "    [-X * dZ / Z ** 2 + dX / Z],  # dx\n",
    "    [-Y * dZ / Z ** 2 + dY / Z],  # dy\n",
    "])\n",
    "sp.Eq(sp.Function('h')(sp.Symbol('\\mathbb{X}')), h_x, evaluate=False)"
   ],
   "metadata": {
    "collapsed": false,
    "ExecuteTime": {
     "end_time": "2023-11-29T08:32:01.477626001Z",
     "start_time": "2023-11-29T08:32:01.428431127Z"
    }
   },
   "id": "6b2322099e44c260"
  },
  {
   "cell_type": "code",
   "execution_count": 13,
   "outputs": [
    {
     "data": {
      "text/plain": "Eq(\\mathbb{H}x, Matrix([\n[          1/Z,             0,                         -X/Z**2,   0,   0,       0],\n[            0,           1/Z,                         -Y/Z**2,   0,   0,       0],\n[            0,             0,                        -Rm/Z**2,   0,   0,       0],\n[-\\dot{Z}/Z**2,             0, 2*X*\\dot{Z}/Z**3 - \\dot{X}/Z**2, 1/Z,   0, -X/Z**2],\n[            0, -\\dot{Z}/Z**2, 2*Y*\\dot{Z}/Z**3 - \\dot{Y}/Z**2,   0, 1/Z, -Y/Z**2]]))",
      "text/latex": "$\\displaystyle \\mathbb{H}x = \\left[\\begin{matrix}\\frac{1}{Z} & 0 & - \\frac{X}{Z^{2}} & 0 & 0 & 0\\\\0 & \\frac{1}{Z} & - \\frac{Y}{Z^{2}} & 0 & 0 & 0\\\\0 & 0 & - \\frac{Rm}{Z^{2}} & 0 & 0 & 0\\\\- \\frac{\\dot{Z}}{Z^{2}} & 0 & \\frac{2 X \\dot{Z}}{Z^{3}} - \\frac{\\dot{X}}{Z^{2}} & \\frac{1}{Z} & 0 & - \\frac{X}{Z^{2}}\\\\0 & - \\frac{\\dot{Z}}{Z^{2}} & \\frac{2 Y \\dot{Z}}{Z^{3}} - \\frac{\\dot{Y}}{Z^{2}} & 0 & \\frac{1}{Z} & - \\frac{Y}{Z^{2}}\\end{matrix}\\right]$"
     },
     "execution_count": 13,
     "metadata": {},
     "output_type": "execute_result"
    }
   ],
   "source": [
    "# @title Matriz H es el Jacobian de h respecto al estado\n",
    "HH = h_x.jacobian(XX)\n",
    "sp.Eq(sp.Symbol('\\mathbb{H}x'), HH, evaluate=False)"
   ],
   "metadata": {
    "collapsed": false,
    "ExecuteTime": {
     "end_time": "2023-11-29T08:32:06.402155676Z",
     "start_time": "2023-11-29T08:32:06.361396433Z"
    }
   },
   "id": "c1bd23cc78e6fb07"
  },
  {
   "cell_type": "code",
   "execution_count": 16,
   "outputs": [
    {
     "name": "stdout",
     "output_type": "stream",
     "text": [
      "1/Z, 0, -X/Z**2, 0, 0, 0, \n",
      "0, 1/Z, -Y/Z**2, 0, 0, 0, \n",
      "0, 0, -Rm/Z**2, 0, 0, 0, \n",
      "-dZ/Z**2, 0, 2*X*dZ/Z**3 - dX/Z**2, 1/Z, 0, -X/Z**2, \n",
      "0, -dZ/Z**2, 2*Y*dZ/Z**3 - dY/Z**2, 0, 1/Z, -Y/Z**2, \n"
     ]
    }
   ],
   "source": [
    "rows, cols = HH.shape\n",
    "for r in range(rows):\n",
    "    line = ''\n",
    "    for c in range(cols):\n",
    "        line += str(\n",
    "            HH[r, c]\n",
    "            .subs(dX, sp.Symbol('dX'))\n",
    "            .subs(dY, sp.Symbol('dY'))\n",
    "            .subs(dZ, sp.Symbol('dZ'))\n",
    "        ) + ', '\n",
    "    print(line)"
   ],
   "metadata": {
    "collapsed": false,
    "ExecuteTime": {
     "end_time": "2023-11-29T08:49:58.694108040Z",
     "start_time": "2023-11-29T08:49:58.649584244Z"
    }
   },
   "id": "f09c01158640c38b"
  },
  {
   "cell_type": "code",
   "execution_count": null,
   "outputs": [],
   "source": [],
   "metadata": {
    "collapsed": false
   },
   "id": "dd09ead5da889787"
  }
 ],
 "metadata": {
  "kernelspec": {
   "display_name": "Python 3",
   "language": "python",
   "name": "python3"
  },
  "language_info": {
   "codemirror_mode": {
    "name": "ipython",
    "version": 2
   },
   "file_extension": ".py",
   "mimetype": "text/x-python",
   "name": "python",
   "nbconvert_exporter": "python",
   "pygments_lexer": "ipython2",
   "version": "2.7.6"
  }
 },
 "nbformat": 4,
 "nbformat_minor": 5
}
