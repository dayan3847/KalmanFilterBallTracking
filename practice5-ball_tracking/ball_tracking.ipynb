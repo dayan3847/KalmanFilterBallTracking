{
 "cells": [
  {
   "cell_type": "markdown",
   "source": [
    "# Bayes Estimator\n",
    "\n",
    "### <font color='orange'>Universidad Autónoma de Yucatán</font> _Facultad de Matemáticas_\n",
    "\n",
    "**Teacher:** Dr. Arturo Espinosa Romero <[eromero@correo.uady.mx](mailto:eromero@correo.uady.mx)>\n",
    "\n",
    "**Student:** Ing. Dayan Bravo Fraga <[dayan3847@gmail.com](mailto:dayan3847@gmail.com)>"
   ],
   "metadata": {
    "collapsed": false
   },
   "id": "ed9bbe81d80c6b43"
  },
  {
   "cell_type": "markdown",
   "source": [
    "# Practice 5:  Kalman Filter for Ball Tracking\n",
    "\n",
    "## GitHub: [Practice 5](https://github.com/dayan3847/bayes_estimator/tree/main/practice5-ball_tracking)"
   ],
   "metadata": {
    "collapsed": false
   },
   "id": "bf1ec2e0b4db437e"
  },
  {
   "cell_type": "code",
   "execution_count": 31,
   "id": "initial_id",
   "metadata": {
    "collapsed": true,
    "ExecuteTime": {
     "end_time": "2023-10-30T15:50:44.869972278Z",
     "start_time": "2023-10-30T15:50:44.826849607Z"
    }
   },
   "outputs": [],
   "source": [
    "import sympy as sp\n",
    "import numpy as np"
   ]
  },
  {
   "cell_type": "code",
   "execution_count": 22,
   "outputs": [],
   "source": [
    "# sp.init_printing(use_unicode=True)"
   ],
   "metadata": {
    "collapsed": false,
    "ExecuteTime": {
     "end_time": "2023-10-30T08:00:47.560904275Z",
     "start_time": "2023-10-30T08:00:47.553849092Z"
    }
   },
   "id": "cd4a4cb534a09a9f"
  },
  {
   "cell_type": "code",
   "execution_count": 32,
   "outputs": [],
   "source": [
    "#@title Variables:\n",
    "X, Y, Z = sp.symbols(\"X Y Z\")  # Coordenadas en metros\n",
    "R = sp.Symbol('R')  # Radio en metros\n",
    "Xp = sp.Symbol(r'\\dot{X}')\n",
    "Yp = sp.Symbol(r'\\dot{Y}')\n",
    "Zp = sp.Symbol(r'\\dot{Z}')\n",
    "dt = sp.Symbol(r'\\Delta t')"
   ],
   "metadata": {
    "collapsed": false,
    "ExecuteTime": {
     "end_time": "2023-10-30T15:50:46.677347614Z",
     "start_time": "2023-10-30T15:50:46.676068712Z"
    }
   },
   "id": "f5486cc74be42979"
  },
  {
   "cell_type": "code",
   "execution_count": 33,
   "outputs": [
    {
     "data": {
      "text/plain": "Eq(\\mathbb{X}, Matrix([\n[      X],\n[      Y],\n[      Z],\n[\\dot{X}],\n[\\dot{Y}],\n[\\dot{Z}]]))",
      "text/latex": "$\\displaystyle \\mathbb{X} = \\left[\\begin{matrix}X\\\\Y\\\\Z\\\\\\dot{X}\\\\\\dot{Y}\\\\\\dot{Z}\\end{matrix}\\right]$"
     },
     "execution_count": 33,
     "metadata": {},
     "output_type": "execute_result"
    }
   ],
   "source": [
    "#@title Estado de sistema\n",
    "# El estado esta compuesto por las coordenadas reales y las velocidades\n",
    "XX = sp.Matrix([\n",
    "    [X],\n",
    "    [Y],\n",
    "    [Z],\n",
    "    [Xp],\n",
    "    [Yp],\n",
    "    [Zp],\n",
    "])\n",
    "\n",
    "sp.Eq(sp.Symbol(r'\\mathbb{X}'), XX, evaluate=False)"
   ],
   "metadata": {
    "collapsed": false,
    "ExecuteTime": {
     "end_time": "2023-10-30T15:50:48.370250051Z",
     "start_time": "2023-10-30T15:50:48.350026332Z"
    }
   },
   "id": "edb2129f8d20cffb"
  },
  {
   "cell_type": "code",
   "execution_count": 34,
   "outputs": [
    {
     "data": {
      "text/plain": "Eq(\\mathbb{A}, Matrix([\n[1, 0, 0, \\Delta t,        0,        0],\n[0, 1, 0,        0, \\Delta t,        0],\n[0, 0, 1,        0,        0, \\Delta t],\n[0, 0, 0,        1,        0,        0],\n[0, 0, 0,        0,        1,        0],\n[0, 0, 0,        0,        0,        1]]))",
      "text/latex": "$\\displaystyle \\mathbb{A} = \\left[\\begin{matrix}1 & 0 & 0 & \\Delta t & 0 & 0\\\\0 & 1 & 0 & 0 & \\Delta t & 0\\\\0 & 0 & 1 & 0 & 0 & \\Delta t\\\\0 & 0 & 0 & 1 & 0 & 0\\\\0 & 0 & 0 & 0 & 1 & 0\\\\0 & 0 & 0 & 0 & 0 & 1\\end{matrix}\\right]$"
     },
     "execution_count": 34,
     "metadata": {},
     "output_type": "execute_result"
    }
   ],
   "source": [
    "#@title Matriz A \"transitionMatrix\"\n",
    "# Esta seria la matrix de transformacion de estado\n",
    "AA = sp.Matrix([\n",
    "    [1, 0, 0, dt, 0, 0],\n",
    "    [0, 1, 0, 0, dt, 0],\n",
    "    [0, 0, 1, 0, 0, dt],\n",
    "    [0, 0, 0, 1, 0, 0],\n",
    "    [0, 0, 0, 0, 1, 0],\n",
    "    [0, 0, 0, 0, 0, 1],\n",
    "])\n",
    "sp.Eq(sp.Symbol(r'\\mathbb{A}'), AA, evaluate=False)"
   ],
   "metadata": {
    "collapsed": false,
    "ExecuteTime": {
     "end_time": "2023-10-30T15:50:51.438557934Z",
     "start_time": "2023-10-30T15:50:51.427750565Z"
    }
   },
   "id": "1b01191bc97074a7"
  },
  {
   "cell_type": "code",
   "execution_count": 38,
   "outputs": [
    {
     "data": {
      "text/plain": "Eq(Matrix([\n[      X],\n[      Y],\n[      Z],\n[\\dot{X}],\n[\\dot{Y}],\n[\\dot{Z}]]), Matrix([\n[1, 0, 0, \\Delta t,        0,        0],\n[0, 1, 0,        0, \\Delta t,        0],\n[0, 0, 1,        0,        0, \\Delta t],\n[0, 0, 0,        1,        0,        0],\n[0, 0, 0,        0,        1,        0],\n[0, 0, 0,        0,        0,        1]])*Matrix([\n[      X],\n[      Y],\n[      Z],\n[\\dot{X}],\n[\\dot{Y}],\n[\\dot{Z}]]))",
      "text/latex": "$\\displaystyle \\left[\\begin{matrix}X\\\\Y\\\\Z\\\\\\dot{X}\\\\\\dot{Y}\\\\\\dot{Z}\\end{matrix}\\right] = \\left[\\begin{matrix}1 & 0 & 0 & \\Delta t & 0 & 0\\\\0 & 1 & 0 & 0 & \\Delta t & 0\\\\0 & 0 & 1 & 0 & 0 & \\Delta t\\\\0 & 0 & 0 & 1 & 0 & 0\\\\0 & 0 & 0 & 0 & 1 & 0\\\\0 & 0 & 0 & 0 & 0 & 1\\end{matrix}\\right] \\left[\\begin{matrix}X\\\\Y\\\\Z\\\\\\dot{X}\\\\\\dot{Y}\\\\\\dot{Z}\\end{matrix}\\right]$"
     },
     "execution_count": 38,
     "metadata": {},
     "output_type": "execute_result"
    }
   ],
   "source": [
    "#@title Ecuacion de tranformacion de estado\n",
    "# el estado en k, es el resultado de multiplicar A por el estado anterior\n",
    "sp.Eq(XX, sp.MatMul(AA, XX, evaluate=False), evaluate=False)"
   ],
   "metadata": {
    "collapsed": false,
    "ExecuteTime": {
     "end_time": "2023-10-30T15:58:00.304145843Z",
     "start_time": "2023-10-30T15:58:00.249673326Z"
    }
   },
   "id": "781356aecd5c586a"
  },
  {
   "cell_type": "code",
   "execution_count": 40,
   "outputs": [
    {
     "data": {
      "text/plain": "Eq(\\mathbb{Z}, Matrix([\n[      X],\n[      Y],\n[\\dot{X}],\n[\\dot{Y}],\n[      R]]))",
      "text/latex": "$\\displaystyle \\mathbb{Z} = \\left[\\begin{matrix}X\\\\Y\\\\\\dot{X}\\\\\\dot{Y}\\\\R\\end{matrix}\\right]$"
     },
     "execution_count": 40,
     "metadata": {},
     "output_type": "execute_result"
    }
   ],
   "source": [
    "#@title \"Z\" Medicion\n",
    "# La medicion esta compuesta por las coordenadas y el tamanno del radio (en metros)\n",
    "ZZ = sp.Matrix([\n",
    "    [X],\n",
    "    [Y],\n",
    "    [Xp],\n",
    "    [Yp],\n",
    "    [R],\n",
    "])\n",
    "sp.Eq(sp.Symbol(r'\\mathbb{Z}'), ZZ, evaluate=False)"
   ],
   "metadata": {
    "collapsed": false,
    "ExecuteTime": {
     "end_time": "2023-10-30T16:29:57.477207928Z",
     "start_time": "2023-10-30T16:29:57.471115260Z"
    }
   },
   "id": "f3586723de42042"
  },
  {
   "cell_type": "code",
   "execution_count": 46,
   "outputs": [
    {
     "data": {
      "text/plain": "Eq(h(X, Z), Matrix([\n[                         X/Z],\n[                         Y/Z],\n[   (X*\\dot{Z}/Z + \\dot{X})/Z],\n[(Y*\\dot{Z} + Z*\\dot{Y})/Z**2],\n[                         R/Z]]))",
      "text/latex": "$\\displaystyle h{\\left(X,Z \\right)} = \\left[\\begin{matrix}\\frac{X}{Z}\\\\\\frac{Y}{Z}\\\\\\frac{\\frac{X \\dot{Z}}{Z} + \\dot{X}}{Z}\\\\\\frac{Y \\dot{Z} + Z \\dot{Y}}{Z^{2}}\\\\\\frac{R}{Z}\\end{matrix}\\right]$"
     },
     "execution_count": 46,
     "metadata": {},
     "output_type": "execute_result"
    }
   ],
   "source": [
    "# @title Funcion h\n",
    "h_xz = sp.Matrix([\n",
    "    [X / Z],\n",
    "    [Y / Z],\n",
    "    [(Xp + (X / Z) * Zp) / Z],\n",
    "    [(Z * Yp + Y * Zp) / Z ** 2],\n",
    "    [R / Z],\n",
    "])\n",
    "sp.Eq(sp.Function('h')(X, Z), h_xz, evaluate=False)"
   ],
   "metadata": {
    "collapsed": false,
    "ExecuteTime": {
     "end_time": "2023-10-30T16:47:24.635422882Z",
     "start_time": "2023-10-30T16:47:24.622316315Z"
    }
   },
   "id": "15779a470b4c2d94"
  },
  {
   "cell_type": "code",
   "execution_count": 47,
   "outputs": [
    {
     "data": {
      "text/plain": "Eq(\\mathbb{H}x, Matrix([\n[         1/Z,            0,                                        -X/Z**2,   0,   0,      0],\n[           0,          1/Z,                                        -Y/Z**2,   0,   0,      0],\n[\\dot{Z}/Z**2,            0, -X*\\dot{Z}/Z**3 - (X*\\dot{Z}/Z + \\dot{X})/Z**2, 1/Z,   0, X/Z**2],\n[           0, \\dot{Z}/Z**2,  \\dot{Y}/Z**2 - 2*(Y*\\dot{Z} + Z*\\dot{Y})/Z**3,   0, 1/Z, Y/Z**2],\n[           0,            0,                                        -R/Z**2,   0,   0,      0]]))",
      "text/latex": "$\\displaystyle \\mathbb{H}x = \\left[\\begin{matrix}\\frac{1}{Z} & 0 & - \\frac{X}{Z^{2}} & 0 & 0 & 0\\\\0 & \\frac{1}{Z} & - \\frac{Y}{Z^{2}} & 0 & 0 & 0\\\\\\frac{\\dot{Z}}{Z^{2}} & 0 & - \\frac{X \\dot{Z}}{Z^{3}} - \\frac{\\frac{X \\dot{Z}}{Z} + \\dot{X}}{Z^{2}} & \\frac{1}{Z} & 0 & \\frac{X}{Z^{2}}\\\\0 & \\frac{\\dot{Z}}{Z^{2}} & \\frac{\\dot{Y}}{Z^{2}} - \\frac{2 \\left(Y \\dot{Z} + Z \\dot{Y}\\right)}{Z^{3}} & 0 & \\frac{1}{Z} & \\frac{Y}{Z^{2}}\\\\0 & 0 & - \\frac{R}{Z^{2}} & 0 & 0 & 0\\end{matrix}\\right]$"
     },
     "execution_count": 47,
     "metadata": {},
     "output_type": "execute_result"
    }
   ],
   "source": [
    "# @title Matriz H es el Jacobian de h respecto al estado\n",
    "HH = h_xz.jacobian(XX)\n",
    "sp.Eq(sp.Symbol(r'\\mathbb{H}x'), HH, evaluate=False)"
   ],
   "metadata": {
    "collapsed": false,
    "ExecuteTime": {
     "end_time": "2023-10-30T16:47:27.900734521Z",
     "start_time": "2023-10-30T16:47:27.892812678Z"
    }
   },
   "id": "c1bd23cc78e6fb07"
  },
  {
   "cell_type": "code",
   "execution_count": 48,
   "outputs": [
    {
     "data": {
      "text/plain": "Eq(K, Matrix([\n[1377.80368149973,                0, 400.026817829472],\n[               0, 1377.80368149973, 300.096061319676],\n[               0,                0,                1]]))",
      "text/latex": "$\\displaystyle K = \\left[\\begin{matrix}1377.80368149973 & 0 & 400.026817829472\\\\0 & 1377.80368149973 & 300.096061319676\\\\0 & 0 & 1\\end{matrix}\\right]$"
     },
     "execution_count": 48,
     "metadata": {},
     "output_type": "execute_result"
    }
   ],
   "source": [
    "#@title Matriz de calibracion.\n",
    "K_cam = sp.Matrix([\n",
    "    [1.3778036814997304e+03, 0, 4.0002681782947193e+02],\n",
    "    [0, 1.3778036814997304e+03, 3.00096061319675721e+02],\n",
    "    [0, 0, 1],\n",
    "])\n",
    "sp.Eq(sp.Symbol('K'), K_cam, evaluate=False)"
   ],
   "metadata": {
    "collapsed": false,
    "ExecuteTime": {
     "end_time": "2023-10-30T16:50:37.106457814Z",
     "start_time": "2023-10-30T16:50:37.063835690Z"
    }
   },
   "id": "d552c98c1ee1ee12"
  },
  {
   "cell_type": "code",
   "execution_count": 59,
   "outputs": [
    {
     "data": {
      "text/plain": "Eq(K^{-1}, Matrix([\n[0.000725792805918116,                    0, -0.290336586554948],\n[                   0, 0.000725792805918116, -0.217807562390183],\n[                   0,                    0,                  1]]))",
      "text/latex": "$\\displaystyle K^{-1} = \\left[\\begin{matrix}0.000725792805918116 & 0 & -0.290336586554948\\\\0 & 0.000725792805918116 & -0.217807562390183\\\\0 & 0 & 1\\end{matrix}\\right]$"
     },
     "execution_count": 59,
     "metadata": {},
     "output_type": "execute_result"
    }
   ],
   "source": [
    "#@title Matriz de calibracion (inversa)\n",
    "K_cam_inv = K_cam.inv()\n",
    "sp.Eq(sp.Symbol('K^{-1}'), K_cam_inv, evaluate=False)"
   ],
   "metadata": {
    "collapsed": false,
    "ExecuteTime": {
     "end_time": "2023-10-30T22:05:17.366196599Z",
     "start_time": "2023-10-30T22:05:17.307214220Z"
    }
   },
   "id": "30c5e447a71a7500"
  },
  {
   "cell_type": "code",
   "execution_count": 60,
   "outputs": [
    {
     "name": "stdout",
     "output_type": "stream",
     "text": [
      "[[ 7.25792806e-04  0.00000000e+00 -2.90336587e-01]\n",
      " [ 0.00000000e+00  7.25792806e-04 -2.17807562e-01]\n",
      " [ 0.00000000e+00  0.00000000e+00  1.00000000e+00]]\n"
     ]
    }
   ],
   "source": [
    "# imprimir la innversa de K en formato de numpy\n",
    "print(np.array(K_cam_inv).astype(np.float64))"
   ],
   "metadata": {
    "collapsed": false,
    "ExecuteTime": {
     "end_time": "2023-10-30T22:05:26.469506188Z",
     "start_time": "2023-10-30T22:05:26.460762599Z"
    }
   },
   "id": "943f9824dad1a2d3"
  },
  {
   "cell_type": "code",
   "execution_count": 56,
   "outputs": [
    {
     "data": {
      "text/plain": "Matrix([\n[-0.000745256993619159],\n[ -0.00079551342066575],\n[                    1]])",
      "text/latex": "$\\displaystyle \\left[\\begin{matrix}-0.000745256993619159\\\\-0.00079551342066575\\\\1\\end{matrix}\\right]$"
     },
     "execution_count": 56,
     "metadata": {},
     "output_type": "execute_result"
    }
   ],
   "source": [
    "OO  = K_cam_inv * sp.Matrix([\n",
    "    [399],\n",
    "    [299],\n",
    "    [1],\n",
    "])\n",
    "OO"
   ],
   "metadata": {
    "collapsed": false,
    "ExecuteTime": {
     "end_time": "2023-10-30T17:23:46.387095073Z",
     "start_time": "2023-10-30T17:23:46.292566901Z"
    }
   },
   "id": "c8dd8c008af4f56b"
  },
  {
   "cell_type": "code",
   "execution_count": 57,
   "outputs": [
    {
     "data": {
      "text/plain": "Matrix([\n[399.0],\n[299.0],\n[    1]])",
      "text/latex": "$\\displaystyle \\left[\\begin{matrix}399.0\\\\299.0\\\\1\\end{matrix}\\right]$"
     },
     "execution_count": 57,
     "metadata": {},
     "output_type": "execute_result"
    }
   ],
   "source": [
    "K_cam * OO"
   ],
   "metadata": {
    "collapsed": false,
    "ExecuteTime": {
     "end_time": "2023-10-30T17:24:13.530094537Z",
     "start_time": "2023-10-30T17:24:13.487132269Z"
    }
   },
   "id": "3a804b5032099317"
  },
  {
   "cell_type": "code",
   "execution_count": null,
   "outputs": [],
   "source": [
    "f = K_cam[0,0]\n",
    "(Z * Rp) /f"
   ],
   "metadata": {
    "collapsed": false
   },
   "id": "9f3bf0776b39d116"
  }
 ],
 "metadata": {
  "kernelspec": {
   "display_name": "Python 3",
   "language": "python",
   "name": "python3"
  },
  "language_info": {
   "codemirror_mode": {
    "name": "ipython",
    "version": 2
   },
   "file_extension": ".py",
   "mimetype": "text/x-python",
   "name": "python",
   "nbconvert_exporter": "python",
   "pygments_lexer": "ipython2",
   "version": "2.7.6"
  }
 },
 "nbformat": 4,
 "nbformat_minor": 5
}
