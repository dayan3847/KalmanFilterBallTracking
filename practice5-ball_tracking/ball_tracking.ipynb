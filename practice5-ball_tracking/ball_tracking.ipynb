{
 "cells": [
  {
   "cell_type": "markdown",
   "source": [
    "# Bayes Estimator\n",
    "\n",
    "### <font color='orange'>Universidad Autónoma de Yucatán</font> _Facultad de Matemáticas_\n",
    "\n",
    "**Teacher:** Dr. Arturo Espinosa Romero <[eromero@correo.uady.mx](mailto:eromero@correo.uady.mx)>\n",
    "\n",
    "**Student:** Ing. Dayan Bravo Fraga <[dayan3847@gmail.com](mailto:dayan3847@gmail.com)>"
   ],
   "metadata": {
    "collapsed": false
   },
   "id": "ed9bbe81d80c6b43"
  },
  {
   "cell_type": "markdown",
   "source": [
    "# Practice 5:  Kalman Filter for Ball Tracking\n",
    "\n",
    "## GitHub: [Practice 5](https://github.com/dayan3847/bayes_estimator/tree/main/practice5-ball_tracking)"
   ],
   "metadata": {
    "collapsed": false
   },
   "id": "bf1ec2e0b4db437e"
  },
  {
   "cell_type": "code",
   "execution_count": 1,
   "id": "initial_id",
   "metadata": {
    "collapsed": true,
    "ExecuteTime": {
     "end_time": "2023-11-07T07:21:17.929122277Z",
     "start_time": "2023-11-07T07:21:16.650848537Z"
    }
   },
   "outputs": [],
   "source": [
    "import sympy as sp\n",
    "import numpy as np"
   ]
  },
  {
   "cell_type": "code",
   "execution_count": 3,
   "outputs": [],
   "source": [
    "# sp.init_printing(use_unicode=True)"
   ],
   "metadata": {
    "collapsed": false,
    "ExecuteTime": {
     "end_time": "2023-10-31T18:13:01.719912626Z",
     "start_time": "2023-10-31T18:13:01.219274538Z"
    }
   },
   "id": "cd4a4cb534a09a9f"
  },
  {
   "cell_type": "code",
   "execution_count": 2,
   "outputs": [],
   "source": [
    "#@title Variables:\n",
    "# World\n",
    "X, Y, Z, R, Xp, Yp, Zp = sp.symbols('X Y Z R \\dot{X} \\dot{Y} \\dot{Z}')\n",
    "# Camera\n",
    "x, y, r, xp, yp = sp.symbols('x y r \\dot{x} \\dot{y}')\n",
    "# Time\n",
    "dt = sp.Symbol(r'\\Delta t')"
   ],
   "metadata": {
    "collapsed": false,
    "ExecuteTime": {
     "end_time": "2023-11-07T07:21:17.938606103Z",
     "start_time": "2023-11-07T07:21:17.930975554Z"
    }
   },
   "id": "f5486cc74be42979"
  },
  {
   "cell_type": "code",
   "execution_count": 3,
   "outputs": [
    {
     "data": {
      "text/plain": "Eq(\\mathbb{X}, Matrix([\n[      X],\n[      Y],\n[      Z],\n[\\dot{X}],\n[\\dot{Y}],\n[\\dot{Z}]]))",
      "text/latex": "$\\displaystyle \\mathbb{X} = \\left[\\begin{matrix}X\\\\Y\\\\Z\\\\\\dot{X}\\\\\\dot{Y}\\\\\\dot{Z}\\end{matrix}\\right]$"
     },
     "execution_count": 3,
     "metadata": {},
     "output_type": "execute_result"
    }
   ],
   "source": [
    "#@title Estado de sistema\n",
    "# El estado esta compuesto por las coordenadas reales y las velocidades\n",
    "XX = sp.Matrix([\n",
    "    [X],\n",
    "    [Y],\n",
    "    [Z],\n",
    "    [Xp],\n",
    "    [Yp],\n",
    "    [Zp],\n",
    "])\n",
    "\n",
    "sp.Eq(sp.Symbol(r'\\mathbb{X}'), XX, evaluate=False)"
   ],
   "metadata": {
    "collapsed": false,
    "ExecuteTime": {
     "end_time": "2023-11-07T07:21:19.783316003Z",
     "start_time": "2023-11-07T07:21:19.766662325Z"
    }
   },
   "id": "edb2129f8d20cffb"
  },
  {
   "cell_type": "code",
   "execution_count": 4,
   "outputs": [
    {
     "data": {
      "text/plain": "Eq(\\mathbb{A}, Matrix([\n[1, 0, 0, \\Delta t,        0,        0],\n[0, 1, 0,        0, \\Delta t,        0],\n[0, 0, 1,        0,        0, \\Delta t],\n[0, 0, 0,        1,        0,        0],\n[0, 0, 0,        0,        1,        0],\n[0, 0, 0,        0,        0,        1]]))",
      "text/latex": "$\\displaystyle \\mathbb{A} = \\left[\\begin{matrix}1 & 0 & 0 & \\Delta t & 0 & 0\\\\0 & 1 & 0 & 0 & \\Delta t & 0\\\\0 & 0 & 1 & 0 & 0 & \\Delta t\\\\0 & 0 & 0 & 1 & 0 & 0\\\\0 & 0 & 0 & 0 & 1 & 0\\\\0 & 0 & 0 & 0 & 0 & 1\\end{matrix}\\right]$"
     },
     "execution_count": 4,
     "metadata": {},
     "output_type": "execute_result"
    }
   ],
   "source": [
    "#@title Matriz A \"transitionMatrix\"\n",
    "# Esta seria la matrix de transformacion de estado\n",
    "AA = sp.Matrix([\n",
    "    [1, 0, 0, dt, 0, 0],\n",
    "    [0, 1, 0, 0, dt, 0],\n",
    "    [0, 0, 1, 0, 0, dt],\n",
    "    [0, 0, 0, 1, 0, 0],\n",
    "    [0, 0, 0, 0, 1, 0],\n",
    "    [0, 0, 0, 0, 0, 1],\n",
    "])\n",
    "sp.Eq(sp.Symbol(r'\\mathbb{A}'), AA, evaluate=False)"
   ],
   "metadata": {
    "collapsed": false,
    "ExecuteTime": {
     "end_time": "2023-11-07T07:21:25.782866159Z",
     "start_time": "2023-11-07T07:21:25.761680679Z"
    }
   },
   "id": "1b01191bc97074a7"
  },
  {
   "cell_type": "code",
   "execution_count": 5,
   "outputs": [
    {
     "data": {
      "text/plain": "Eq(Matrix([\n[      X],\n[      Y],\n[      Z],\n[\\dot{X}],\n[\\dot{Y}],\n[\\dot{Z}]]), Matrix([\n[1, 0, 0, \\Delta t,        0,        0],\n[0, 1, 0,        0, \\Delta t,        0],\n[0, 0, 1,        0,        0, \\Delta t],\n[0, 0, 0,        1,        0,        0],\n[0, 0, 0,        0,        1,        0],\n[0, 0, 0,        0,        0,        1]])*Matrix([\n[      X],\n[      Y],\n[      Z],\n[\\dot{X}],\n[\\dot{Y}],\n[\\dot{Z}]]))",
      "text/latex": "$\\displaystyle \\left[\\begin{matrix}X\\\\Y\\\\Z\\\\\\dot{X}\\\\\\dot{Y}\\\\\\dot{Z}\\end{matrix}\\right] = \\left[\\begin{matrix}1 & 0 & 0 & \\Delta t & 0 & 0\\\\0 & 1 & 0 & 0 & \\Delta t & 0\\\\0 & 0 & 1 & 0 & 0 & \\Delta t\\\\0 & 0 & 0 & 1 & 0 & 0\\\\0 & 0 & 0 & 0 & 1 & 0\\\\0 & 0 & 0 & 0 & 0 & 1\\end{matrix}\\right] \\left[\\begin{matrix}X\\\\Y\\\\Z\\\\\\dot{X}\\\\\\dot{Y}\\\\\\dot{Z}\\end{matrix}\\right]$"
     },
     "execution_count": 5,
     "metadata": {},
     "output_type": "execute_result"
    }
   ],
   "source": [
    "#@title Ecuacion de tranformacion de estado\n",
    "# el estado en k, es el resultado de multiplicar A por el estado anterior\n",
    "sp.Eq(XX, sp.MatMul(AA, XX, evaluate=False), evaluate=False)"
   ],
   "metadata": {
    "collapsed": false,
    "ExecuteTime": {
     "end_time": "2023-11-07T07:21:35.394656471Z",
     "start_time": "2023-11-07T07:21:35.313574794Z"
    }
   },
   "id": "781356aecd5c586a"
  },
  {
   "cell_type": "code",
   "execution_count": 6,
   "outputs": [
    {
     "data": {
      "text/plain": "Eq(\\mathbb{Z}, Matrix([\n[      x],\n[      y],\n[\\dot{x}],\n[\\dot{y}],\n[      r]]))",
      "text/latex": "$\\displaystyle \\mathbb{Z} = \\left[\\begin{matrix}x\\\\y\\\\\\dot{x}\\\\\\dot{y}\\\\r\\end{matrix}\\right]$"
     },
     "execution_count": 6,
     "metadata": {},
     "output_type": "execute_result"
    }
   ],
   "source": [
    "#@title \"Z\" Medicion\n",
    "# La medicion esta compuesta por las coordenadas de la camara y el tamanno del radio (en metros)\n",
    "ZZ = sp.Matrix([\n",
    "    [x],\n",
    "    [y],\n",
    "    [xp],\n",
    "    [yp],\n",
    "    [r],\n",
    "])\n",
    "sp.Eq(sp.Symbol(r'\\mathbb{Z}'), ZZ, evaluate=False)"
   ],
   "metadata": {
    "collapsed": false,
    "ExecuteTime": {
     "end_time": "2023-11-07T07:21:41.372716937Z",
     "start_time": "2023-11-07T07:21:41.354683606Z"
    }
   },
   "id": "f3586723de42042"
  },
  {
   "cell_type": "code",
   "execution_count": 8,
   "outputs": [
    {
     "data": {
      "text/plain": "Eq(h(\\mathbb{X}), Matrix([\n[                    X/Z],\n[                    Y/Z],\n[(\\dot{X} + \\dot{Z}*x)/Z],\n[(\\dot{Y} + \\dot{Z}*y)/Z],\n[                    R/Z]]))",
      "text/latex": "$\\displaystyle h{\\left(\\mathbb{X} \\right)} = \\left[\\begin{matrix}\\frac{X}{Z}\\\\\\frac{Y}{Z}\\\\\\frac{\\dot{X} + \\dot{Z} x}{Z}\\\\\\frac{\\dot{Y} + \\dot{Z} y}{Z}\\\\\\frac{R}{Z}\\end{matrix}\\right]$"
     },
     "execution_count": 8,
     "metadata": {},
     "output_type": "execute_result"
    }
   ],
   "source": [
    "# @title Funcion h\n",
    "h_x_ = sp.Matrix([\n",
    "    [X / Z],\n",
    "    [Y / Z],\n",
    "    [(Xp + x * Zp) / Z],\n",
    "    [(Yp + y * Zp) / Z],\n",
    "    [R / Z],\n",
    "])\n",
    "sp.Eq(sp.Function('h')(sp.Symbol(r'\\mathbb{X}')), h_x_, evaluate=False)"
   ],
   "metadata": {
    "collapsed": false,
    "ExecuteTime": {
     "end_time": "2023-11-07T07:28:50.590979702Z",
     "start_time": "2023-11-07T07:28:50.548309924Z"
    }
   },
   "id": "6b2322099e44c260"
  },
  {
   "cell_type": "code",
   "execution_count": 9,
   "outputs": [
    {
     "data": {
      "text/plain": "Eq(h(\\mathbb{X}), Matrix([\n[                      X/Z],\n[                      Y/Z],\n[(X*\\dot{Z}/Z + \\dot{X})/Z],\n[(Y*\\dot{Z}/Z + \\dot{Y})/Z],\n[                      R/Z]]))",
      "text/latex": "$\\displaystyle h{\\left(\\mathbb{X} \\right)} = \\left[\\begin{matrix}\\frac{X}{Z}\\\\\\frac{Y}{Z}\\\\\\frac{\\frac{X \\dot{Z}}{Z} + \\dot{X}}{Z}\\\\\\frac{\\frac{Y \\dot{Z}}{Z} + \\dot{Y}}{Z}\\\\\\frac{R}{Z}\\end{matrix}\\right]$"
     },
     "execution_count": 9,
     "metadata": {},
     "output_type": "execute_result"
    }
   ],
   "source": [
    "# @title Funcion h\n",
    "h_x__ = sp.Matrix([\n",
    "    [X / Z],\n",
    "    [Y / Z],\n",
    "    [(Xp + (X / Z) * Zp) / Z],\n",
    "    [(Yp + (Y / Z) * Zp) / Z],\n",
    "    [R / Z],\n",
    "])\n",
    "sp.Eq(sp.Function('h')(sp.Symbol(r'\\mathbb{X}')), h_x__, evaluate=False)"
   ],
   "metadata": {
    "collapsed": false,
    "ExecuteTime": {
     "end_time": "2023-11-07T07:29:34.574360865Z",
     "start_time": "2023-11-07T07:29:34.529058178Z"
    }
   },
   "id": "daef672dc9176bf5"
  },
  {
   "cell_type": "code",
   "execution_count": 10,
   "outputs": [
    {
     "data": {
      "text/plain": "Eq(h(\\mathbb{X}), Matrix([\n[                         X/Z],\n[                         Y/Z],\n[(X*\\dot{Z} + Z*\\dot{X})/Z**2],\n[(Y*\\dot{Z} + Z*\\dot{Y})/Z**2],\n[                         R/Z]]))",
      "text/latex": "$\\displaystyle h{\\left(\\mathbb{X} \\right)} = \\left[\\begin{matrix}\\frac{X}{Z}\\\\\\frac{Y}{Z}\\\\\\frac{X \\dot{Z} + Z \\dot{X}}{Z^{2}}\\\\\\frac{Y \\dot{Z} + Z \\dot{Y}}{Z^{2}}\\\\\\frac{R}{Z}\\end{matrix}\\right]$"
     },
     "execution_count": 10,
     "metadata": {},
     "output_type": "execute_result"
    }
   ],
   "source": [
    "# @title Funcion h\n",
    "h_x = sp.Matrix([\n",
    "    [X / Z],\n",
    "    [Y / Z],\n",
    "    [(Z * Xp + X * Zp) / Z ** 2],\n",
    "    [(Z * Yp + Y * Zp) / Z ** 2],\n",
    "    [R / Z],\n",
    "])\n",
    "sp.Eq(sp.Function('h')(sp.Symbol(r'\\mathbb{X}')), h_x, evaluate=False)"
   ],
   "metadata": {
    "collapsed": false,
    "ExecuteTime": {
     "end_time": "2023-11-07T07:31:48.191685045Z",
     "start_time": "2023-11-07T07:31:48.150097802Z"
    }
   },
   "id": "15779a470b4c2d94"
  },
  {
   "cell_type": "code",
   "execution_count": 11,
   "outputs": [
    {
     "data": {
      "text/plain": "Eq(\\mathbb{H}x, Matrix([\n[         1/Z,            0,                                       -X/Z**2,   0,   0,      0],\n[           0,          1/Z,                                       -Y/Z**2,   0,   0,      0],\n[\\dot{Z}/Z**2,            0, \\dot{X}/Z**2 - 2*(X*\\dot{Z} + Z*\\dot{X})/Z**3, 1/Z,   0, X/Z**2],\n[           0, \\dot{Z}/Z**2, \\dot{Y}/Z**2 - 2*(Y*\\dot{Z} + Z*\\dot{Y})/Z**3,   0, 1/Z, Y/Z**2],\n[           0,            0,                                       -R/Z**2,   0,   0,      0]]))",
      "text/latex": "$\\displaystyle \\mathbb{H}x = \\left[\\begin{matrix}\\frac{1}{Z} & 0 & - \\frac{X}{Z^{2}} & 0 & 0 & 0\\\\0 & \\frac{1}{Z} & - \\frac{Y}{Z^{2}} & 0 & 0 & 0\\\\\\frac{\\dot{Z}}{Z^{2}} & 0 & \\frac{\\dot{X}}{Z^{2}} - \\frac{2 \\left(X \\dot{Z} + Z \\dot{X}\\right)}{Z^{3}} & \\frac{1}{Z} & 0 & \\frac{X}{Z^{2}}\\\\0 & \\frac{\\dot{Z}}{Z^{2}} & \\frac{\\dot{Y}}{Z^{2}} - \\frac{2 \\left(Y \\dot{Z} + Z \\dot{Y}\\right)}{Z^{3}} & 0 & \\frac{1}{Z} & \\frac{Y}{Z^{2}}\\\\0 & 0 & - \\frac{R}{Z^{2}} & 0 & 0 & 0\\end{matrix}\\right]$"
     },
     "execution_count": 11,
     "metadata": {},
     "output_type": "execute_result"
    }
   ],
   "source": [
    "# @title Matriz H es el Jacobian de h respecto al estado\n",
    "HH = h_x.jacobian(XX)\n",
    "sp.Eq(sp.Symbol(r'\\mathbb{H}x'), HH, evaluate=False)"
   ],
   "metadata": {
    "collapsed": false,
    "ExecuteTime": {
     "end_time": "2023-11-07T07:31:52.229165944Z",
     "start_time": "2023-11-07T07:31:52.183645222Z"
    }
   },
   "id": "c1bd23cc78e6fb07"
  },
  {
   "cell_type": "code",
   "execution_count": 12,
   "outputs": [
    {
     "data": {
      "text/plain": "Matrix([\n[                                                                               0],\n[                                                                               0],\n[2*X*\\dot{Z}/Z**2 + Z*(\\dot{X}/Z**2 - 2*(X*\\dot{Z} + Z*\\dot{X})/Z**3) + \\dot{X}/Z],\n[2*Y*\\dot{Z}/Z**2 + Z*(\\dot{Y}/Z**2 - 2*(Y*\\dot{Z} + Z*\\dot{Y})/Z**3) + \\dot{Y}/Z],\n[                                                                            -R/Z]])",
      "text/latex": "$\\displaystyle \\left[\\begin{matrix}0\\\\0\\\\\\frac{2 X \\dot{Z}}{Z^{2}} + Z \\left(\\frac{\\dot{X}}{Z^{2}} - \\frac{2 \\left(X \\dot{Z} + Z \\dot{X}\\right)}{Z^{3}}\\right) + \\frac{\\dot{X}}{Z}\\\\\\frac{2 Y \\dot{Z}}{Z^{2}} + Z \\left(\\frac{\\dot{Y}}{Z^{2}} - \\frac{2 \\left(Y \\dot{Z} + Z \\dot{Y}\\right)}{Z^{3}}\\right) + \\frac{\\dot{Y}}{Z}\\\\- \\frac{R}{Z}\\end{matrix}\\right]$"
     },
     "execution_count": 12,
     "metadata": {},
     "output_type": "execute_result"
    }
   ],
   "source": [
    "HH*XX"
   ],
   "metadata": {
    "collapsed": false,
    "ExecuteTime": {
     "end_time": "2023-11-07T07:32:42.202247981Z",
     "start_time": "2023-11-07T07:32:42.161848878Z"
    }
   },
   "id": "f960fcaa571c5504"
  },
  {
   "cell_type": "code",
   "execution_count": 37,
   "outputs": [
    {
     "data": {
      "text/plain": "Eq(K, Matrix([\n[1377.80368149973,                0, 400.026817829472],\n[               0, 1377.80368149973, 300.096061319676],\n[               0,                0,                1]]))",
      "text/latex": "$\\displaystyle K = \\left[\\begin{matrix}1377.80368149973 & 0 & 400.026817829472\\\\0 & 1377.80368149973 & 300.096061319676\\\\0 & 0 & 1\\end{matrix}\\right]$"
     },
     "execution_count": 37,
     "metadata": {},
     "output_type": "execute_result"
    }
   ],
   "source": [
    "#@title Matriz de calibracion.\n",
    "K_cam = sp.Matrix([\n",
    "    [1.3778036814997304e+03, 0, 4.0002681782947193e+02],\n",
    "    [0, 1.3778036814997304e+03, 3.00096061319675721e+02],\n",
    "    [0, 0, 1],\n",
    "])\n",
    "sp.Eq(sp.Symbol('K'), K_cam, evaluate=False)"
   ],
   "metadata": {
    "collapsed": false,
    "ExecuteTime": {
     "end_time": "2023-10-31T18:44:04.164866467Z",
     "start_time": "2023-10-31T18:44:04.157010972Z"
    }
   },
   "id": "d552c98c1ee1ee12"
  },
  {
   "cell_type": "code",
   "execution_count": 12,
   "outputs": [
    {
     "data": {
      "text/plain": "Eq(K^{-1}, Matrix([\n[0.000725792805918116,                    0, -0.290336586554948],\n[                   0, 0.000725792805918116, -0.217807562390183],\n[                   0,                    0,                  1]]))",
      "text/latex": "$\\displaystyle K^{-1} = \\left[\\begin{matrix}0.000725792805918116 & 0 & -0.290336586554948\\\\0 & 0.000725792805918116 & -0.217807562390183\\\\0 & 0 & 1\\end{matrix}\\right]$"
     },
     "execution_count": 12,
     "metadata": {},
     "output_type": "execute_result"
    }
   ],
   "source": [
    "#@title Matriz de calibracion (inversa)\n",
    "K_cam_inv = K_cam.inv()\n",
    "sp.Eq(sp.Symbol('K^{-1}'), K_cam_inv, evaluate=False)"
   ],
   "metadata": {
    "collapsed": false,
    "ExecuteTime": {
     "end_time": "2023-10-31T18:13:02.342828968Z",
     "start_time": "2023-10-31T18:13:02.244233428Z"
    }
   },
   "id": "30c5e447a71a7500"
  },
  {
   "cell_type": "code",
   "execution_count": 13,
   "outputs": [
    {
     "name": "stdout",
     "output_type": "stream",
     "text": [
      "[[ 7.25792806e-04  0.00000000e+00 -2.90336587e-01]\n",
      " [ 0.00000000e+00  7.25792806e-04 -2.17807562e-01]\n",
      " [ 0.00000000e+00  0.00000000e+00  1.00000000e+00]]\n"
     ]
    }
   ],
   "source": [
    "# imprimir la innversa de K en formato de numpy\n",
    "print(np.array(K_cam_inv).astype(np.float64))"
   ],
   "metadata": {
    "collapsed": false,
    "ExecuteTime": {
     "end_time": "2023-10-31T18:13:02.347145343Z",
     "start_time": "2023-10-31T18:13:02.268226577Z"
    }
   },
   "id": "943f9824dad1a2d3"
  },
  {
   "cell_type": "code",
   "execution_count": 14,
   "outputs": [
    {
     "data": {
      "text/plain": "Matrix([\n[-0.000745256993619159],\n[ -0.00079551342066575],\n[                    1]])",
      "text/latex": "$\\displaystyle \\left[\\begin{matrix}-0.000745256993619159\\\\-0.00079551342066575\\\\1\\end{matrix}\\right]$"
     },
     "execution_count": 14,
     "metadata": {},
     "output_type": "execute_result"
    }
   ],
   "source": [
    "OO = K_cam_inv * sp.Matrix([\n",
    "    [399],\n",
    "    [299],\n",
    "    [1],\n",
    "])\n",
    "OO"
   ],
   "metadata": {
    "collapsed": false,
    "ExecuteTime": {
     "end_time": "2023-10-31T18:13:02.360868206Z",
     "start_time": "2023-10-31T18:13:02.300275296Z"
    }
   },
   "id": "c8dd8c008af4f56b"
  },
  {
   "cell_type": "code",
   "execution_count": 15,
   "outputs": [
    {
     "data": {
      "text/plain": "Matrix([\n[399.0],\n[299.0],\n[    1]])",
      "text/latex": "$\\displaystyle \\left[\\begin{matrix}399.0\\\\299.0\\\\1\\end{matrix}\\right]$"
     },
     "execution_count": 15,
     "metadata": {},
     "output_type": "execute_result"
    }
   ],
   "source": [
    "K_cam * OO"
   ],
   "metadata": {
    "collapsed": false,
    "ExecuteTime": {
     "end_time": "2023-10-31T18:13:02.482233594Z",
     "start_time": "2023-10-31T18:13:02.313159017Z"
    }
   },
   "id": "3a804b5032099317"
  },
  {
   "cell_type": "code",
   "execution_count": 16,
   "outputs": [
    {
     "ename": "NameError",
     "evalue": "name 'Rp' is not defined",
     "output_type": "error",
     "traceback": [
      "\u001B[0;31m---------------------------------------------------------------------------\u001B[0m",
      "\u001B[0;31mNameError\u001B[0m                                 Traceback (most recent call last)",
      "Cell \u001B[0;32mIn[16], line 2\u001B[0m\n\u001B[1;32m      1\u001B[0m f \u001B[38;5;241m=\u001B[39m K_cam[\u001B[38;5;241m0\u001B[39m,\u001B[38;5;241m0\u001B[39m]\n\u001B[0;32m----> 2\u001B[0m (Z \u001B[38;5;241m*\u001B[39m \u001B[43mRp\u001B[49m) \u001B[38;5;241m/\u001B[39mf\n",
      "\u001B[0;31mNameError\u001B[0m: name 'Rp' is not defined"
     ]
    }
   ],
   "source": [
    "f = K_cam[0, 0]\n",
    "(Z * Rp) / f"
   ],
   "metadata": {
    "collapsed": false,
    "ExecuteTime": {
     "end_time": "2023-10-31T18:13:02.484090106Z",
     "start_time": "2023-10-31T18:13:02.355108626Z"
    }
   },
   "id": "9f3bf0776b39d116"
  },
  {
   "cell_type": "code",
   "execution_count": 42,
   "outputs": [
    {
     "data": {
      "text/plain": "Matrix([\n[  1, 0.5, 0.5],\n[0.5, 1.0, 0.5],\n[0.5, 0.5, 1.0]])",
      "text/latex": "$\\displaystyle \\left[\\begin{matrix}1 & 0.5 & 0.5\\\\0.5 & 1.0 & 0.5\\\\0.5 & 0.5 & 1.0\\end{matrix}\\right]$"
     },
     "execution_count": 42,
     "metadata": {},
     "output_type": "execute_result"
    }
   ],
   "source": [
    "# test cholesky\n",
    "A = sp.Matrix([\n",
    "    [1, 0.5, 0.5],\n",
    "    [0.5, 1, 0.5],\n",
    "    [0.5, 0.5, 1],\n",
    "])\n",
    "# cholesky\n",
    "L = A.cholesky()\n",
    "L * L.T\n"
   ],
   "metadata": {
    "collapsed": false,
    "ExecuteTime": {
     "end_time": "2023-10-31T18:54:28.759474824Z",
     "start_time": "2023-10-31T18:54:28.677452984Z"
    }
   },
   "id": "25e8df0f419f9ba0"
  },
  {
   "cell_type": "code",
   "execution_count": null,
   "outputs": [],
   "source": [],
   "metadata": {
    "collapsed": false
   },
   "id": "a068004fa607fd21"
  }
 ],
 "metadata": {
  "kernelspec": {
   "display_name": "Python 3",
   "language": "python",
   "name": "python3"
  },
  "language_info": {
   "codemirror_mode": {
    "name": "ipython",
    "version": 2
   },
   "file_extension": ".py",
   "mimetype": "text/x-python",
   "name": "python",
   "nbconvert_exporter": "python",
   "pygments_lexer": "ipython2",
   "version": "2.7.6"
  }
 },
 "nbformat": 4,
 "nbformat_minor": 5
}
