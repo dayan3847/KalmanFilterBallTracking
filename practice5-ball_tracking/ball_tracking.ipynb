{
 "cells": [
  {
   "cell_type": "markdown",
   "source": [
    "# Bayes Estimator\n",
    "\n",
    "### <font color='orange'>Universidad Autónoma de Yucatán</font> _Facultad de Matemáticas_\n",
    "\n",
    "**Teacher:** Dr. Arturo Espinosa Romero <[eromero@correo.uady.mx](mailto:eromero@correo.uady.mx)>\n",
    "\n",
    "**Student:** Ing. Dayan Bravo Fraga <[dayan3847@gmail.com](mailto:dayan3847@gmail.com)>"
   ],
   "metadata": {
    "collapsed": false
   },
   "id": "ed9bbe81d80c6b43"
  },
  {
   "cell_type": "markdown",
   "source": [
    "# Practice 5:  Kalman Filter for Ball Tracking\n",
    "\n",
    "## GitHub: [Practice 5](https://github.com/dayan3847/bayes_estimator/tree/main/practice5-ball_tracking)"
   ],
   "metadata": {
    "collapsed": false
   },
   "id": "bf1ec2e0b4db437e"
  },
  {
   "cell_type": "code",
   "execution_count": 15,
   "id": "initial_id",
   "metadata": {
    "collapsed": true,
    "ExecuteTime": {
     "end_time": "2023-10-26T01:28:50.375393759Z",
     "start_time": "2023-10-26T01:28:50.318250443Z"
    }
   },
   "outputs": [],
   "source": [
    "import sympy as sp"
   ]
  },
  {
   "cell_type": "code",
   "execution_count": 16,
   "outputs": [],
   "source": [
    "# sp.init_printing(use_unicode=True)"
   ],
   "metadata": {
    "collapsed": false,
    "ExecuteTime": {
     "end_time": "2023-10-26T01:28:50.375614061Z",
     "start_time": "2023-10-26T01:28:50.358424125Z"
    }
   },
   "id": "cd4a4cb534a09a9f"
  },
  {
   "cell_type": "code",
   "execution_count": 17,
   "outputs": [],
   "source": [
    "#@title Variables:\n",
    "X, Y, Z = sp.symbols(\"X Y Z\")  # Coordenadas en metros\n",
    "R = sp.Symbol('R')  # Radio en metros\n",
    "Xp = sp.Symbol(r'\\dot{X}')\n",
    "Yp = sp.Symbol(r'\\dot{Y}')\n",
    "Zp = sp.Symbol(r'\\dot{Z}')\n",
    "dt = sp.Symbol(r'\\Delta t')"
   ],
   "metadata": {
    "collapsed": false,
    "ExecuteTime": {
     "end_time": "2023-10-26T01:28:50.375723739Z",
     "start_time": "2023-10-26T01:28:50.358595976Z"
    }
   },
   "id": "f5486cc74be42979"
  },
  {
   "cell_type": "code",
   "execution_count": 18,
   "outputs": [
    {
     "data": {
      "text/plain": "Eq(\\mathbb{X}, Matrix([\n[      X],\n[      Y],\n[      Z],\n[\\dot{X}],\n[\\dot{Y}],\n[\\dot{Z}]]))",
      "text/latex": "$\\displaystyle \\mathbb{X} = \\left[\\begin{matrix}X\\\\Y\\\\Z\\\\\\dot{X}\\\\\\dot{Y}\\\\\\dot{Z}\\end{matrix}\\right]$"
     },
     "execution_count": 18,
     "metadata": {},
     "output_type": "execute_result"
    }
   ],
   "source": [
    "# @title \"X\" Estado\n",
    "XX = sp.Matrix([\n",
    "    [X],\n",
    "    [Y],\n",
    "    [Z],\n",
    "    [Xp],\n",
    "    [Yp],\n",
    "    [Zp],\n",
    "])\n",
    "\n",
    "sp.Eq(sp.Symbol(r'\\mathbb{X}'), XX, evaluate=False)"
   ],
   "metadata": {
    "collapsed": false,
    "ExecuteTime": {
     "end_time": "2023-10-26T01:28:50.375920598Z",
     "start_time": "2023-10-26T01:28:50.358716510Z"
    }
   },
   "id": "edb2129f8d20cffb"
  },
  {
   "cell_type": "code",
   "execution_count": 19,
   "outputs": [
    {
     "data": {
      "text/plain": "Eq(\\mathbb{Z}, Matrix([\n[X],\n[Y],\n[Z],\n[R]]))",
      "text/latex": "$\\displaystyle \\mathbb{Z} = \\left[\\begin{matrix}X\\\\Y\\\\Z\\\\R\\end{matrix}\\right]$"
     },
     "execution_count": 19,
     "metadata": {},
     "output_type": "execute_result"
    }
   ],
   "source": [
    "# @title \"Z\" Medicion\n",
    "ZZ = sp.Matrix([\n",
    "    [X],\n",
    "    [Y],\n",
    "    [Z],\n",
    "    [R],\n",
    "])\n",
    "sp.Eq(sp.Symbol(r'\\mathbb{Z}'), ZZ, evaluate=False)"
   ],
   "metadata": {
    "collapsed": false,
    "ExecuteTime": {
     "end_time": "2023-10-26T01:28:50.376093198Z",
     "start_time": "2023-10-26T01:28:50.358851925Z"
    }
   },
   "id": "f3586723de42042"
  },
  {
   "cell_type": "code",
   "execution_count": 20,
   "outputs": [
    {
     "data": {
      "text/plain": "Eq(h(X, Z), Matrix([\n[                    X/Z],\n[                    Y/Z],\n[(X*\\dot{Z} + \\dot{X})/Z],\n[(Y*\\dot{Z} + \\dot{Y})/Z],\n[                    R/Z]]))",
      "text/latex": "$\\displaystyle h{\\left(X,Z \\right)} = \\left[\\begin{matrix}\\frac{X}{Z}\\\\\\frac{Y}{Z}\\\\\\frac{X \\dot{Z} + \\dot{X}}{Z}\\\\\\frac{Y \\dot{Z} + \\dot{Y}}{Z}\\\\\\frac{R}{Z}\\end{matrix}\\right]$"
     },
     "execution_count": 20,
     "metadata": {},
     "output_type": "execute_result"
    }
   ],
   "source": [
    "# @title Funcion h\n",
    "h_xz = sp.Matrix([\n",
    "    [X / Z],\n",
    "    [Y / Z],\n",
    "    [(Xp + X * Zp) / Z],\n",
    "    [(Yp + Y * Zp) / Z],\n",
    "    [R / Z],\n",
    "])\n",
    "sp.Eq(sp.Function('h')(X, Z), h_xz, evaluate=False)"
   ],
   "metadata": {
    "collapsed": false,
    "ExecuteTime": {
     "end_time": "2023-10-26T01:28:50.376290603Z",
     "start_time": "2023-10-26T01:28:50.358971339Z"
    }
   },
   "id": "15779a470b4c2d94"
  },
  {
   "cell_type": "code",
   "execution_count": 21,
   "outputs": [
    {
     "data": {
      "text/plain": "Eq(\\mathbb{H}, Matrix([\n[      1/Z,         0,                     -X/Z**2,   0,   0,   0],\n[        0,       1/Z,                     -Y/Z**2,   0,   0,   0],\n[\\dot{Z}/Z,         0, -(X*\\dot{Z} + \\dot{X})/Z**2, 1/Z,   0, X/Z],\n[        0, \\dot{Z}/Z, -(Y*\\dot{Z} + \\dot{Y})/Z**2,   0, 1/Z, Y/Z],\n[        0,         0,                     -R/Z**2,   0,   0,   0]]))",
      "text/latex": "$\\displaystyle \\mathbb{H} = \\left[\\begin{matrix}\\frac{1}{Z} & 0 & - \\frac{X}{Z^{2}} & 0 & 0 & 0\\\\0 & \\frac{1}{Z} & - \\frac{Y}{Z^{2}} & 0 & 0 & 0\\\\\\frac{\\dot{Z}}{Z} & 0 & - \\frac{X \\dot{Z} + \\dot{X}}{Z^{2}} & \\frac{1}{Z} & 0 & \\frac{X}{Z}\\\\0 & \\frac{\\dot{Z}}{Z} & - \\frac{Y \\dot{Z} + \\dot{Y}}{Z^{2}} & 0 & \\frac{1}{Z} & \\frac{Y}{Z}\\\\0 & 0 & - \\frac{R}{Z^{2}} & 0 & 0 & 0\\end{matrix}\\right]$"
     },
     "execution_count": 21,
     "metadata": {},
     "output_type": "execute_result"
    }
   ],
   "source": [
    "# @title Matriz H (Jacobian)\n",
    "HH = h_xz.jacobian(XX)\n",
    "sp.Eq(sp.Symbol(r'\\mathbb{H}'), HH, evaluate=False)"
   ],
   "metadata": {
    "collapsed": false,
    "ExecuteTime": {
     "end_time": "2023-10-26T01:28:50.418869014Z",
     "start_time": "2023-10-26T01:28:50.375118810Z"
    }
   },
   "id": "c1bd23cc78e6fb07"
  },
  {
   "cell_type": "code",
   "execution_count": 22,
   "outputs": [
    {
     "data": {
      "text/plain": "Eq(\\mathbb{A}, Matrix([\n[1, 0, 0, \\Delta t,        0,        0],\n[0, 1, 0,        0, \\Delta t,        0],\n[0, 0, 1,        0,        0, \\Delta t],\n[0, 0, 0,        1,        0,        0],\n[0, 0, 0,        0,        1,        0],\n[0, 0, 0,        0,        0,        1]]))",
      "text/latex": "$\\displaystyle \\mathbb{A} = \\left[\\begin{matrix}1 & 0 & 0 & \\Delta t & 0 & 0\\\\0 & 1 & 0 & 0 & \\Delta t & 0\\\\0 & 0 & 1 & 0 & 0 & \\Delta t\\\\0 & 0 & 0 & 1 & 0 & 0\\\\0 & 0 & 0 & 0 & 1 & 0\\\\0 & 0 & 0 & 0 & 0 & 1\\end{matrix}\\right]$"
     },
     "execution_count": 22,
     "metadata": {},
     "output_type": "execute_result"
    }
   ],
   "source": [
    "# @title Matriz A\n",
    "AA = sp.Matrix([\n",
    "    [1, 0, 0, dt, 0, 0],\n",
    "    [0, 1, 0, 0, dt, 0],\n",
    "    [0, 0, 1, 0, 0, dt],\n",
    "    [0, 0, 0, 1, 0, 0],\n",
    "    [0, 0, 0, 0, 1, 0],\n",
    "    [0, 0, 0, 0, 0, 1],\n",
    "])\n",
    "sp.Eq(sp.Symbol(r'\\mathbb{A}'), AA, evaluate=False)"
   ],
   "metadata": {
    "collapsed": false,
    "ExecuteTime": {
     "end_time": "2023-10-26T01:28:50.419127055Z",
     "start_time": "2023-10-26T01:28:50.418375068Z"
    }
   },
   "id": "2507bfa41ba97171"
  },
  {
   "cell_type": "code",
   "execution_count": 23,
   "outputs": [
    {
     "data": {
      "text/plain": "Eq(K, Matrix([\n[1377.80368149973,                0, 400.026817829472],\n[               0, 1377.80368149973, 300.096061319676],\n[               0,                0,              1.0]]))",
      "text/latex": "$\\displaystyle K = \\left[\\begin{matrix}1377.80368149973 & 0 & 400.026817829472\\\\0 & 1377.80368149973 & 300.096061319676\\\\0 & 0 & 1.0\\end{matrix}\\right]$"
     },
     "execution_count": 23,
     "metadata": {},
     "output_type": "execute_result"
    }
   ],
   "source": [
    "#@title Matriz de calibracion.\n",
    "K = sp.Matrix([\n",
    "    [1.3778036814997304e+03, 0., 4.0002681782947193e+02],\n",
    "    [0., 1.3778036814997304e+03, 3.00096061319675721e+02],\n",
    "    [0., 0., 1.],\n",
    "])\n",
    "sp.Eq(sp.Symbol('K'), K, evaluate=False)"
   ],
   "metadata": {
    "collapsed": false,
    "ExecuteTime": {
     "end_time": "2023-10-26T01:28:50.462568878Z",
     "start_time": "2023-10-26T01:28:50.418562635Z"
    }
   },
   "id": "d552c98c1ee1ee12"
  },
  {
   "cell_type": "code",
   "execution_count": null,
   "outputs": [],
   "source": [
    "#@title Matriz de calibracion (inversa)"
   ],
   "metadata": {
    "collapsed": false
   },
   "id": "30c5e447a71a7500"
  }
 ],
 "metadata": {
  "kernelspec": {
   "display_name": "Python 3",
   "language": "python",
   "name": "python3"
  },
  "language_info": {
   "codemirror_mode": {
    "name": "ipython",
    "version": 2
   },
   "file_extension": ".py",
   "mimetype": "text/x-python",
   "name": "python",
   "nbconvert_exporter": "python",
   "pygments_lexer": "ipython2",
   "version": "2.7.6"
  }
 },
 "nbformat": 4,
 "nbformat_minor": 5
}
