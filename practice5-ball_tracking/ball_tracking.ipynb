{
 "cells": [
  {
   "cell_type": "markdown",
   "source": [
    "# Bayes Estimator\n",
    "\n",
    "### <font color='orange'>Universidad Autónoma de Yucatán</font> _Facultad de Matemáticas_\n",
    "\n",
    "**Teacher:** Dr. Arturo Espinosa Romero <[eromero@correo.uady.mx](mailto:eromero@correo.uady.mx)>\n",
    "\n",
    "**Student:** Ing. Dayan Bravo Fraga <[dayan3847@gmail.com](mailto:dayan3847@gmail.com)>"
   ],
   "metadata": {
    "collapsed": false
   },
   "id": "ed9bbe81d80c6b43"
  },
  {
   "cell_type": "markdown",
   "source": [
    "# Practice 5:  Kalman Filter for Ball Tracking\n",
    "\n",
    "## GitHub: [Practice 5](https://github.com/dayan3847/bayes_estimator/tree/main/practice5-ball_tracking)"
   ],
   "metadata": {
    "collapsed": false
   },
   "id": "bf1ec2e0b4db437e"
  },
  {
   "cell_type": "code",
   "execution_count": 19,
   "id": "initial_id",
   "metadata": {
    "collapsed": true,
    "ExecuteTime": {
     "end_time": "2023-10-29T21:05:56.925813682Z",
     "start_time": "2023-10-29T21:05:56.917242240Z"
    }
   },
   "outputs": [],
   "source": [
    "import sympy as sp\n",
    "import numpy as np"
   ]
  },
  {
   "cell_type": "code",
   "execution_count": 3,
   "outputs": [],
   "source": [
    "# sp.init_printing(use_unicode=True)"
   ],
   "metadata": {
    "collapsed": false,
    "ExecuteTime": {
     "end_time": "2023-10-29T20:32:37.228246149Z",
     "start_time": "2023-10-29T20:32:37.225632614Z"
    }
   },
   "id": "cd4a4cb534a09a9f"
  },
  {
   "cell_type": "code",
   "execution_count": 4,
   "outputs": [],
   "source": [
    "#@title Variables:\n",
    "X, Y, Z = sp.symbols(\"X Y Z\")  # Coordenadas en metros\n",
    "R = sp.Symbol('R')  # Radio en metros\n",
    "Xp = sp.Symbol(r'\\dot{X}')\n",
    "Yp = sp.Symbol(r'\\dot{Y}')\n",
    "Zp = sp.Symbol(r'\\dot{Z}')\n",
    "dt = sp.Symbol(r'\\Delta t')"
   ],
   "metadata": {
    "collapsed": false,
    "ExecuteTime": {
     "end_time": "2023-10-29T20:32:37.240764458Z",
     "start_time": "2023-10-29T20:32:37.227432756Z"
    }
   },
   "id": "f5486cc74be42979"
  },
  {
   "cell_type": "code",
   "execution_count": 5,
   "outputs": [
    {
     "data": {
      "text/plain": "Eq(\\mathbb{X}, Matrix([\n[      X],\n[      Y],\n[      Z],\n[\\dot{X}],\n[\\dot{Y}],\n[\\dot{Z}]]))",
      "text/latex": "$\\displaystyle \\mathbb{X} = \\left[\\begin{matrix}X\\\\Y\\\\Z\\\\\\dot{X}\\\\\\dot{Y}\\\\\\dot{Z}\\end{matrix}\\right]$"
     },
     "execution_count": 5,
     "metadata": {},
     "output_type": "execute_result"
    }
   ],
   "source": [
    "# @title \"X\" Estado\n",
    "XX = sp.Matrix([\n",
    "    [X],\n",
    "    [Y],\n",
    "    [Z],\n",
    "    [Xp],\n",
    "    [Yp],\n",
    "    [Zp],\n",
    "])\n",
    "\n",
    "sp.Eq(sp.Symbol(r'\\mathbb{X}'), XX, evaluate=False)"
   ],
   "metadata": {
    "collapsed": false,
    "ExecuteTime": {
     "end_time": "2023-10-29T20:32:37.270477251Z",
     "start_time": "2023-10-29T20:32:37.248135494Z"
    }
   },
   "id": "edb2129f8d20cffb"
  },
  {
   "cell_type": "code",
   "execution_count": 6,
   "outputs": [
    {
     "data": {
      "text/plain": "Eq(\\mathbb{Z}, Matrix([\n[X],\n[Y],\n[Z],\n[R]]))",
      "text/latex": "$\\displaystyle \\mathbb{Z} = \\left[\\begin{matrix}X\\\\Y\\\\Z\\\\R\\end{matrix}\\right]$"
     },
     "execution_count": 6,
     "metadata": {},
     "output_type": "execute_result"
    }
   ],
   "source": [
    "# @title \"Z\" Medicion\n",
    "ZZ = sp.Matrix([\n",
    "    [X],\n",
    "    [Y],\n",
    "    [Z],\n",
    "    [R],\n",
    "])\n",
    "sp.Eq(sp.Symbol(r'\\mathbb{Z}'), ZZ, evaluate=False)"
   ],
   "metadata": {
    "collapsed": false,
    "ExecuteTime": {
     "end_time": "2023-10-29T20:32:37.308461934Z",
     "start_time": "2023-10-29T20:32:37.253512034Z"
    }
   },
   "id": "f3586723de42042"
  },
  {
   "cell_type": "code",
   "execution_count": 7,
   "outputs": [
    {
     "data": {
      "text/plain": "Eq(h(X, Z), Matrix([\n[                    X/Z],\n[                    Y/Z],\n[(X*\\dot{Z} + \\dot{X})/Z],\n[(Y*\\dot{Z} + \\dot{Y})/Z],\n[                    R/Z]]))",
      "text/latex": "$\\displaystyle h{\\left(X,Z \\right)} = \\left[\\begin{matrix}\\frac{X}{Z}\\\\\\frac{Y}{Z}\\\\\\frac{X \\dot{Z} + \\dot{X}}{Z}\\\\\\frac{Y \\dot{Z} + \\dot{Y}}{Z}\\\\\\frac{R}{Z}\\end{matrix}\\right]$"
     },
     "execution_count": 7,
     "metadata": {},
     "output_type": "execute_result"
    }
   ],
   "source": [
    "# @title Funcion h\n",
    "h_xz = sp.Matrix([\n",
    "    [X / Z],\n",
    "    [Y / Z],\n",
    "    [(Xp + X * Zp) / Z],\n",
    "    [(Yp + Y * Zp) / Z],\n",
    "    [R / Z],\n",
    "])\n",
    "sp.Eq(sp.Function('h')(X, Z), h_xz, evaluate=False)"
   ],
   "metadata": {
    "collapsed": false,
    "ExecuteTime": {
     "end_time": "2023-10-29T20:32:37.458509460Z",
     "start_time": "2023-10-29T20:32:37.294059669Z"
    }
   },
   "id": "15779a470b4c2d94"
  },
  {
   "cell_type": "code",
   "execution_count": 12,
   "outputs": [
    {
     "data": {
      "text/plain": "Eq(\\mathbb{H}x, Matrix([\n[      1/Z,         0,                     -X/Z**2,   0,   0,   0],\n[        0,       1/Z,                     -Y/Z**2,   0,   0,   0],\n[\\dot{Z}/Z,         0, -(X*\\dot{Z} + \\dot{X})/Z**2, 1/Z,   0, X/Z],\n[        0, \\dot{Z}/Z, -(Y*\\dot{Z} + \\dot{Y})/Z**2,   0, 1/Z, Y/Z],\n[        0,         0,                     -R/Z**2,   0,   0,   0]]))",
      "text/latex": "$\\displaystyle \\mathbb{H}x = \\left[\\begin{matrix}\\frac{1}{Z} & 0 & - \\frac{X}{Z^{2}} & 0 & 0 & 0\\\\0 & \\frac{1}{Z} & - \\frac{Y}{Z^{2}} & 0 & 0 & 0\\\\\\frac{\\dot{Z}}{Z} & 0 & - \\frac{X \\dot{Z} + \\dot{X}}{Z^{2}} & \\frac{1}{Z} & 0 & \\frac{X}{Z}\\\\0 & \\frac{\\dot{Z}}{Z} & - \\frac{Y \\dot{Z} + \\dot{Y}}{Z^{2}} & 0 & \\frac{1}{Z} & \\frac{Y}{Z}\\\\0 & 0 & - \\frac{R}{Z^{2}} & 0 & 0 & 0\\end{matrix}\\right]$"
     },
     "execution_count": 12,
     "metadata": {},
     "output_type": "execute_result"
    }
   ],
   "source": [
    "# @title Matriz H es el Jacobian de h respecto al estado\n",
    "HH = h_xz.jacobian(XX)\n",
    "sp.Eq(sp.Symbol(r'\\mathbb{H}x'), HH, evaluate=False)"
   ],
   "metadata": {
    "collapsed": false,
    "ExecuteTime": {
     "end_time": "2023-10-29T20:32:46.095856591Z",
     "start_time": "2023-10-29T20:32:46.090126400Z"
    }
   },
   "id": "c1bd23cc78e6fb07"
  },
  {
   "cell_type": "code",
   "execution_count": 9,
   "outputs": [
    {
     "data": {
      "text/plain": "Eq(\\mathbb{A}, Matrix([\n[1, 0, 0, \\Delta t,        0,        0],\n[0, 1, 0,        0, \\Delta t,        0],\n[0, 0, 1,        0,        0, \\Delta t],\n[0, 0, 0,        1,        0,        0],\n[0, 0, 0,        0,        1,        0],\n[0, 0, 0,        0,        0,        1]]))",
      "text/latex": "$\\displaystyle \\mathbb{A} = \\left[\\begin{matrix}1 & 0 & 0 & \\Delta t & 0 & 0\\\\0 & 1 & 0 & 0 & \\Delta t & 0\\\\0 & 0 & 1 & 0 & 0 & \\Delta t\\\\0 & 0 & 0 & 1 & 0 & 0\\\\0 & 0 & 0 & 0 & 1 & 0\\\\0 & 0 & 0 & 0 & 0 & 1\\end{matrix}\\right]$"
     },
     "execution_count": 9,
     "metadata": {},
     "output_type": "execute_result"
    }
   ],
   "source": [
    "# @title Matriz A\n",
    "AA = sp.Matrix([\n",
    "    [1, 0, 0, dt, 0, 0],\n",
    "    [0, 1, 0, 0, dt, 0],\n",
    "    [0, 0, 1, 0, 0, dt],\n",
    "    [0, 0, 0, 1, 0, 0],\n",
    "    [0, 0, 0, 0, 1, 0],\n",
    "    [0, 0, 0, 0, 0, 1],\n",
    "])\n",
    "sp.Eq(sp.Symbol(r'\\mathbb{A}'), AA, evaluate=False)"
   ],
   "metadata": {
    "collapsed": false,
    "ExecuteTime": {
     "end_time": "2023-10-29T20:32:37.482965165Z",
     "start_time": "2023-10-29T20:32:37.476790341Z"
    }
   },
   "id": "2507bfa41ba97171"
  },
  {
   "cell_type": "code",
   "execution_count": 13,
   "outputs": [
    {
     "data": {
      "text/plain": "Eq(K, Matrix([\n[1377.80368149973,                0, 400.026817829472],\n[               0, 1377.80368149973, 300.096061319676],\n[               0,                0,                1]]))",
      "text/latex": "$\\displaystyle K = \\left[\\begin{matrix}1377.80368149973 & 0 & 400.026817829472\\\\0 & 1377.80368149973 & 300.096061319676\\\\0 & 0 & 1\\end{matrix}\\right]$"
     },
     "execution_count": 13,
     "metadata": {},
     "output_type": "execute_result"
    }
   ],
   "source": [
    "#@title Matriz de calibracion.\n",
    "K_cam = sp.Matrix([\n",
    "    [1.3778036814997304e+03, 0, 4.0002681782947193e+02],\n",
    "    [0, 1.3778036814997304e+03, 3.00096061319675721e+02],\n",
    "    [0, 0, 1],\n",
    "])\n",
    "sp.Eq(sp.Symbol('K'), K_cam, evaluate=False)"
   ],
   "metadata": {
    "collapsed": false,
    "ExecuteTime": {
     "end_time": "2023-10-29T21:02:08.802204700Z",
     "start_time": "2023-10-29T21:02:08.760019620Z"
    }
   },
   "id": "d552c98c1ee1ee12"
  },
  {
   "cell_type": "code",
   "execution_count": 14,
   "outputs": [
    {
     "data": {
      "text/plain": "Eq(K^{-1}, Matrix([\n[0.000725792805918116,                    0, -0.290336586554948],\n[                   0, 0.000725792805918116, -0.217807562390183],\n[                   0,                    0,                  1]]))",
      "text/latex": "$\\displaystyle K^{-1} = \\left[\\begin{matrix}0.000725792805918116 & 0 & -0.290336586554948\\\\0 & 0.000725792805918116 & -0.217807562390183\\\\0 & 0 & 1\\end{matrix}\\right]$"
     },
     "execution_count": 14,
     "metadata": {},
     "output_type": "execute_result"
    }
   ],
   "source": [
    "#@title Matriz de calibracion (inversa)\n",
    "K_cam_inv = K_cam.inv()\n",
    "sp.Eq(sp.Symbol('K^{-1}'), K_cam_inv, evaluate=False)"
   ],
   "metadata": {
    "collapsed": false,
    "ExecuteTime": {
     "end_time": "2023-10-29T21:02:40.002430151Z",
     "start_time": "2023-10-29T21:02:39.957953626Z"
    }
   },
   "id": "30c5e447a71a7500"
  },
  {
   "cell_type": "code",
   "execution_count": 18,
   "outputs": [
    {
     "name": "stdout",
     "output_type": "stream",
     "text": [
      "[[ 7.25792806e-04  0.00000000e+00 -2.90336587e-01]\n",
      " [ 0.00000000e+00  7.25792806e-04 -2.17807562e-01]\n",
      " [ 0.00000000e+00  0.00000000e+00  1.00000000e+00]]\n"
     ]
    }
   ],
   "source": [
    "# imprimir la innversa de K en formato de numpy\n",
    "print(np.array(K_cam_inv).astype(np.float64))"
   ],
   "metadata": {
    "collapsed": false,
    "ExecuteTime": {
     "end_time": "2023-10-29T21:05:37.354385603Z",
     "start_time": "2023-10-29T21:05:37.312756705Z"
    }
   },
   "id": "943f9824dad1a2d3"
  }
 ],
 "metadata": {
  "kernelspec": {
   "display_name": "Python 3",
   "language": "python",
   "name": "python3"
  },
  "language_info": {
   "codemirror_mode": {
    "name": "ipython",
    "version": 2
   },
   "file_extension": ".py",
   "mimetype": "text/x-python",
   "name": "python",
   "nbconvert_exporter": "python",
   "pygments_lexer": "ipython2",
   "version": "2.7.6"
  }
 },
 "nbformat": 4,
 "nbformat_minor": 5
}
