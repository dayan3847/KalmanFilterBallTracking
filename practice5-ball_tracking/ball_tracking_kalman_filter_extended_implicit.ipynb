{
 "cells": [
  {
   "cell_type": "markdown",
   "source": [
    "# Bayes Estimator\n",
    "\n",
    "### <font color='orange'>Universidad Autónoma de Yucatán</font> _Facultad de Matemáticas_\n",
    "\n",
    "**Teacher:** Dr. Arturo Espinosa Romero <[eromero@correo.uady.mx](mailto:eromero@correo.uady.mx)>\n",
    "\n",
    "**Student:** Ing. Dayan Bravo Fraga <[dayan3847@gmail.com](mailto:dayan3847@gmail.com)>"
   ],
   "metadata": {
    "collapsed": false
   },
   "id": "ed9bbe81d80c6b43"
  },
  {
   "cell_type": "markdown",
   "source": [
    "# Practice 5:  Kalman Filter for Ball Tracking\n",
    "\n",
    "## GitHub: [Practice 5](https://github.com/dayan3847/bayes_estimator/tree/main/practice5-ball_tracking)"
   ],
   "metadata": {
    "collapsed": false
   },
   "id": "bf1ec2e0b4db437e"
  },
  {
   "cell_type": "code",
   "execution_count": 1,
   "id": "initial_id",
   "metadata": {
    "collapsed": true,
    "ExecuteTime": {
     "end_time": "2023-11-14T19:39:57.284981878Z",
     "start_time": "2023-11-14T19:39:56.444380429Z"
    }
   },
   "outputs": [],
   "source": [
    "import sympy as sp\n",
    "import numpy as np"
   ]
  },
  {
   "cell_type": "code",
   "execution_count": 2,
   "outputs": [
    {
     "data": {
      "text/plain": "Eq(\\mathbb{X}, Matrix([\n[      X],\n[      Y],\n[      Z],\n[\\dot{X}],\n[\\dot{Y}],\n[\\dot{Z}]]))",
      "text/latex": "$\\displaystyle \\mathbb{X} = \\left[\\begin{matrix}X\\\\Y\\\\Z\\\\\\dot{X}\\\\\\dot{Y}\\\\\\dot{Z}\\end{matrix}\\right]$"
     },
     "execution_count": 2,
     "metadata": {},
     "output_type": "execute_result"
    }
   ],
   "source": [
    "#@title Estado de sistema\n",
    "X, Y, Z, Xp, Yp, Zp = sp.symbols('X Y Z \\dot{X} \\dot{Y} \\dot{Z}')\n",
    "# El estado esta compuesto por las coordenadas reales y las velocidades\n",
    "XX = sp.Matrix([\n",
    "    [X],\n",
    "    [Y],\n",
    "    [Z],\n",
    "    [Xp],\n",
    "    [Yp],\n",
    "    [Zp],\n",
    "])\n",
    "\n",
    "sp.Eq(sp.Symbol('\\mathbb{X}'), XX, evaluate=False)"
   ],
   "metadata": {
    "collapsed": false,
    "ExecuteTime": {
     "end_time": "2023-11-14T19:40:00.010717096Z",
     "start_time": "2023-11-14T19:39:59.990133978Z"
    }
   },
   "id": "edb2129f8d20cffb"
  },
  {
   "cell_type": "code",
   "execution_count": 3,
   "outputs": [
    {
     "data": {
      "text/plain": "Eq(\\mathbb{A}, Matrix([\n[1, 0, 0, \\Delta t,        0,        0],\n[0, 1, 0,        0, \\Delta t,        0],\n[0, 0, 1,        0,        0, \\Delta t],\n[0, 0, 0,        1,        0,        0],\n[0, 0, 0,        0,        1,        0],\n[0, 0, 0,        0,        0,        1]]))",
      "text/latex": "$\\displaystyle \\mathbb{A} = \\left[\\begin{matrix}1 & 0 & 0 & \\Delta t & 0 & 0\\\\0 & 1 & 0 & 0 & \\Delta t & 0\\\\0 & 0 & 1 & 0 & 0 & \\Delta t\\\\0 & 0 & 0 & 1 & 0 & 0\\\\0 & 0 & 0 & 0 & 1 & 0\\\\0 & 0 & 0 & 0 & 0 & 1\\end{matrix}\\right]$"
     },
     "execution_count": 3,
     "metadata": {},
     "output_type": "execute_result"
    }
   ],
   "source": [
    "#@title Matriz A \"transitionMatrix\"\n",
    "dt = sp.Symbol('\\Delta t')\n",
    "# Esta seria la matrix de transformacion de estado\n",
    "AA = sp.Matrix([\n",
    "    [1, 0, 0, dt, 0, 0],\n",
    "    [0, 1, 0, 0, dt, 0],\n",
    "    [0, 0, 1, 0, 0, dt],\n",
    "    [0, 0, 0, 1, 0, 0],\n",
    "    [0, 0, 0, 0, 1, 0],\n",
    "    [0, 0, 0, 0, 0, 1],\n",
    "])\n",
    "sp.Eq(sp.Symbol('\\mathbb{A}'), AA, evaluate=False)"
   ],
   "metadata": {
    "collapsed": false,
    "ExecuteTime": {
     "end_time": "2023-11-14T19:40:08.717375209Z",
     "start_time": "2023-11-14T19:40:08.689299068Z"
    }
   },
   "id": "1b01191bc97074a7"
  },
  {
   "cell_type": "code",
   "execution_count": 4,
   "outputs": [
    {
     "data": {
      "text/plain": "Eq(Matrix([\n[      X],\n[      Y],\n[      Z],\n[\\dot{X}],\n[\\dot{Y}],\n[\\dot{Z}]]), Matrix([\n[1, 0, 0, \\Delta t,        0,        0],\n[0, 1, 0,        0, \\Delta t,        0],\n[0, 0, 1,        0,        0, \\Delta t],\n[0, 0, 0,        1,        0,        0],\n[0, 0, 0,        0,        1,        0],\n[0, 0, 0,        0,        0,        1]])*Matrix([\n[      X],\n[      Y],\n[      Z],\n[\\dot{X}],\n[\\dot{Y}],\n[\\dot{Z}]]))",
      "text/latex": "$\\displaystyle \\left[\\begin{matrix}X\\\\Y\\\\Z\\\\\\dot{X}\\\\\\dot{Y}\\\\\\dot{Z}\\end{matrix}\\right] = \\left[\\begin{matrix}1 & 0 & 0 & \\Delta t & 0 & 0\\\\0 & 1 & 0 & 0 & \\Delta t & 0\\\\0 & 0 & 1 & 0 & 0 & \\Delta t\\\\0 & 0 & 0 & 1 & 0 & 0\\\\0 & 0 & 0 & 0 & 1 & 0\\\\0 & 0 & 0 & 0 & 0 & 1\\end{matrix}\\right] \\left[\\begin{matrix}X\\\\Y\\\\Z\\\\\\dot{X}\\\\\\dot{Y}\\\\\\dot{Z}\\end{matrix}\\right]$"
     },
     "execution_count": 4,
     "metadata": {},
     "output_type": "execute_result"
    }
   ],
   "source": [
    "#@title Ecuacion de tranformacion de estado\n",
    "# el estado en k, es el resultado de multiplicar A por el estado anterior\n",
    "sp.Eq(XX, sp.MatMul(AA, XX, evaluate=False), evaluate=False)"
   ],
   "metadata": {
    "collapsed": false,
    "ExecuteTime": {
     "end_time": "2023-11-14T19:40:15.252898659Z",
     "start_time": "2023-11-14T19:40:15.099220238Z"
    }
   },
   "id": "781356aecd5c586a"
  },
  {
   "cell_type": "code",
   "execution_count": 12,
   "outputs": [
    {
     "data": {
      "text/plain": "Eq(\\mathbb{Z}, Matrix([\n[      x],\n[      y],\n[\\dot{x}],\n[\\dot{y}],\n[      r]]))",
      "text/latex": "$\\displaystyle \\mathbb{Z} = \\left[\\begin{matrix}x\\\\y\\\\\\dot{x}\\\\\\dot{y}\\\\r\\end{matrix}\\right]$"
     },
     "execution_count": 12,
     "metadata": {},
     "output_type": "execute_result"
    }
   ],
   "source": [
    "#@title \"Z\" Medicion\n",
    "x, y, xp, yp, r = sp.symbols('x y \\dot{x} \\dot{y} r')\n",
    "# La medicion esta compuesta por las coordenadas de la camara y el tamanno del radio (en metros)\n",
    "ZZ = sp.Matrix([\n",
    "    [x],\n",
    "    [y],\n",
    "    [xp],\n",
    "    [yp],\n",
    "    [r],\n",
    "])\n",
    "sp.Eq(sp.Symbol('\\mathbb{Z}'), ZZ, evaluate=False)"
   ],
   "metadata": {
    "collapsed": false,
    "ExecuteTime": {
     "end_time": "2023-11-14T19:46:49.571562175Z",
     "start_time": "2023-11-14T19:46:49.518304222Z"
    }
   },
   "id": "f3586723de42042"
  },
  {
   "cell_type": "code",
   "execution_count": 13,
   "outputs": [
    {
     "data": {
      "text/plain": "Eq(h(\\mathbb{X,Z}), Matrix([\n[                         -X/Z + x],\n[                         -Y/Z + y],\n[\\dot{x} - (\\dot{X} + \\dot{Z}*x)/Z],\n[\\dot{y} - (\\dot{Y} + \\dot{Z}*y)/Z],\n[                         -R/Z + r]]))",
      "text/latex": "$\\displaystyle h{\\left(\\mathbb{X,Z} \\right)} = \\left[\\begin{matrix}- \\frac{X}{Z} + x\\\\- \\frac{Y}{Z} + y\\\\\\dot{x} - \\frac{\\dot{X} + \\dot{Z} x}{Z}\\\\\\dot{y} - \\frac{\\dot{Y} + \\dot{Z} y}{Z}\\\\- \\frac{R}{Z} + r\\end{matrix}\\right]$"
     },
     "execution_count": 13,
     "metadata": {},
     "output_type": "execute_result"
    }
   ],
   "source": [
    "# @title Funcion h\n",
    "R = sp.symbols('R')\n",
    "h_xz = sp.Matrix([\n",
    "    [x - X / Z],\n",
    "    [y - Y / Z],\n",
    "    [xp - (Xp + x * Zp) / Z],\n",
    "    [yp - (Yp + y * Zp) / Z],\n",
    "    [r - R / Z],\n",
    "])\n",
    "sp.Eq(sp.Function('h')(sp.Symbol('\\mathbb{X,Z}')), h_xz, evaluate=False)"
   ],
   "metadata": {
    "collapsed": false,
    "ExecuteTime": {
     "end_time": "2023-11-14T19:47:00.881113362Z",
     "start_time": "2023-11-14T19:47:00.800460779Z"
    }
   },
   "id": "6b2322099e44c260"
  },
  {
   "cell_type": "code",
   "execution_count": 16,
   "outputs": [
    {
     "data": {
      "text/plain": "Eq(Eq(h(\\mathbb{X,Y}), Matrix([\n[                         -X/Z + x],\n[                         -Y/Z + y],\n[\\dot{x} - (\\dot{X} + \\dot{Z}*x)/Z],\n[\\dot{y} - (\\dot{Y} + \\dot{Z}*y)/Z],\n[                         -R/Z + r]])), \\emptyset)",
      "text/latex": "$\\displaystyle h{\\left(\\mathbb{X,Y} \\right)} = \\left[\\begin{matrix}- \\frac{X}{Z} + x\\\\- \\frac{Y}{Z} + y\\\\\\dot{x} - \\frac{\\dot{X} + \\dot{Z} x}{Z}\\\\\\dot{y} - \\frac{\\dot{Y} + \\dot{Z} y}{Z}\\\\- \\frac{R}{Z} + r\\end{matrix}\\right] = \\emptyset$"
     },
     "execution_count": 16,
     "metadata": {},
     "output_type": "execute_result"
    }
   ],
   "source": [
    "# @title Funcion h\n",
    "h_x__ = sp.Matrix([\n",
    "    [X / Z],\n",
    "    [Y / Z],\n",
    "    [(Xp + (X / Z) * Zp) / Z],\n",
    "    [(Yp + (Y / Z) * Zp) / Z],\n",
    "    [R / Z],\n",
    "])\n",
    "sp.Eq(\n",
    "    sp.Eq(\n",
    "        sp.Function('h')(sp.Symbol('\\mathbb{X,Y}'), evaluate=False),\n",
    "        h_xz, evaluate=False\n",
    "    ),\n",
    "    sp.Symbol('\\emptyset'), evaluate=False\n",
    ")"
   ],
   "metadata": {
    "collapsed": false,
    "ExecuteTime": {
     "end_time": "2023-11-14T19:50:56.998084550Z",
     "start_time": "2023-11-14T19:50:56.933193239Z"
    }
   },
   "id": "daef672dc9176bf5"
  },
  {
   "cell_type": "code",
   "execution_count": 17,
   "outputs": [
    {
     "data": {
      "text/plain": "Eq(\\mathbb{H}, Matrix([\n[-1/Z,    0,                     X/Z**2,    0,    0,    0],\n[   0, -1/Z,                     Y/Z**2,    0,    0,    0],\n[   0,    0, (\\dot{X} + \\dot{Z}*x)/Z**2, -1/Z,    0, -x/Z],\n[   0,    0, (\\dot{Y} + \\dot{Z}*y)/Z**2,    0, -1/Z, -y/Z],\n[   0,    0,                     R/Z**2,    0,    0,    0]]))",
      "text/latex": "$\\displaystyle \\mathbb{H} = \\left[\\begin{matrix}- \\frac{1}{Z} & 0 & \\frac{X}{Z^{2}} & 0 & 0 & 0\\\\0 & - \\frac{1}{Z} & \\frac{Y}{Z^{2}} & 0 & 0 & 0\\\\0 & 0 & \\frac{\\dot{X} + \\dot{Z} x}{Z^{2}} & - \\frac{1}{Z} & 0 & - \\frac{x}{Z}\\\\0 & 0 & \\frac{\\dot{Y} + \\dot{Z} y}{Z^{2}} & 0 & - \\frac{1}{Z} & - \\frac{y}{Z}\\\\0 & 0 & \\frac{R}{Z^{2}} & 0 & 0 & 0\\end{matrix}\\right]$"
     },
     "execution_count": 17,
     "metadata": {},
     "output_type": "execute_result"
    }
   ],
   "source": [
    "# @title Jacobiano de h(X,Z) con respecto a X\n",
    "HH = h_xz.jacobian(XX)\n",
    "sp.Eq(sp.Symbol(r'\\mathbb{H}'), HH, evaluate=False)"
   ],
   "metadata": {
    "collapsed": false,
    "ExecuteTime": {
     "end_time": "2023-11-14T19:59:39.858042683Z",
     "start_time": "2023-11-14T19:59:39.784470006Z"
    }
   },
   "id": "926c3d9f23d5f6a0"
  },
  {
   "cell_type": "code",
   "execution_count": 18,
   "outputs": [
    {
     "data": {
      "text/plain": "Eq(\\mathbb{J}, Matrix([\n[         1,          0, 0, 0, 0],\n[         0,          1, 0, 0, 0],\n[-\\dot{Z}/Z,          0, 1, 0, 0],\n[         0, -\\dot{Z}/Z, 0, 1, 0],\n[         0,          0, 0, 0, 1]]))",
      "text/latex": "$\\displaystyle \\mathbb{J} = \\left[\\begin{matrix}1 & 0 & 0 & 0 & 0\\\\0 & 1 & 0 & 0 & 0\\\\- \\frac{\\dot{Z}}{Z} & 0 & 1 & 0 & 0\\\\0 & - \\frac{\\dot{Z}}{Z} & 0 & 1 & 0\\\\0 & 0 & 0 & 0 & 1\\end{matrix}\\right]$"
     },
     "execution_count": 18,
     "metadata": {},
     "output_type": "execute_result"
    }
   ],
   "source": [
    "# @title Jacobiano de h(X,Z) con respecto a Z\n",
    "JJ = h_xz.jacobian(ZZ)\n",
    "sp.Eq(sp.Symbol(r'\\mathbb{J}'), JJ, evaluate=False)"
   ],
   "metadata": {
    "collapsed": false,
    "ExecuteTime": {
     "end_time": "2023-11-14T20:00:01.277304187Z",
     "start_time": "2023-11-14T20:00:01.215948011Z"
    }
   },
   "id": "4ad394a193266b90"
  },
  {
   "cell_type": "code",
   "execution_count": 27,
   "outputs": [
    {
     "data": {
      "text/plain": "Eq(h(\\mathbb{X}), Matrix([\n[                         X/Z],\n[                         Y/Z],\n[(X*\\dot{Z} + Z*\\dot{X})/Z**2],\n[(Y*\\dot{Z} + Z*\\dot{Y})/Z**2],\n[                        Rr/Z]]))",
      "text/latex": "$\\displaystyle h{\\left(\\mathbb{X} \\right)} = \\left[\\begin{matrix}\\frac{X}{Z}\\\\\\frac{Y}{Z}\\\\\\frac{X \\dot{Z} + Z \\dot{X}}{Z^{2}}\\\\\\frac{Y \\dot{Z} + Z \\dot{Y}}{Z^{2}}\\\\\\frac{Rr}{Z}\\end{matrix}\\right]$"
     },
     "execution_count": 27,
     "metadata": {},
     "output_type": "execute_result"
    }
   ],
   "source": [
    "# @title Funcion h\n",
    "h_x = sp.Matrix([\n",
    "    [X / Z],\n",
    "    [Y / Z],\n",
    "    [(Z * Xp + X * Zp) / Z ** 2],\n",
    "    [(Z * Yp + Y * Zp) / Z ** 2],\n",
    "    [R_real / Z],\n",
    "])\n",
    "sp.Eq(sp.Function('h')(sp.Symbol('\\mathbb{X}')), h_x, evaluate=False)"
   ],
   "metadata": {
    "collapsed": false,
    "ExecuteTime": {
     "end_time": "2023-11-09T15:27:53.058618903Z",
     "start_time": "2023-11-09T15:27:53.052028506Z"
    }
   },
   "id": "15779a470b4c2d94"
  },
  {
   "cell_type": "code",
   "execution_count": 28,
   "outputs": [
    {
     "data": {
      "text/plain": "Eq(\\mathbb{H}x, Matrix([\n[         1/Z,            0,                                       -X/Z**2,   0,   0,      0],\n[           0,          1/Z,                                       -Y/Z**2,   0,   0,      0],\n[\\dot{Z}/Z**2,            0, \\dot{X}/Z**2 - 2*(X*\\dot{Z} + Z*\\dot{X})/Z**3, 1/Z,   0, X/Z**2],\n[           0, \\dot{Z}/Z**2, \\dot{Y}/Z**2 - 2*(Y*\\dot{Z} + Z*\\dot{Y})/Z**3,   0, 1/Z, Y/Z**2],\n[           0,            0,                                      -Rr/Z**2,   0,   0,      0]]))",
      "text/latex": "$\\displaystyle \\mathbb{H}x = \\left[\\begin{matrix}\\frac{1}{Z} & 0 & - \\frac{X}{Z^{2}} & 0 & 0 & 0\\\\0 & \\frac{1}{Z} & - \\frac{Y}{Z^{2}} & 0 & 0 & 0\\\\\\frac{\\dot{Z}}{Z^{2}} & 0 & \\frac{\\dot{X}}{Z^{2}} - \\frac{2 \\left(X \\dot{Z} + Z \\dot{X}\\right)}{Z^{3}} & \\frac{1}{Z} & 0 & \\frac{X}{Z^{2}}\\\\0 & \\frac{\\dot{Z}}{Z^{2}} & \\frac{\\dot{Y}}{Z^{2}} - \\frac{2 \\left(Y \\dot{Z} + Z \\dot{Y}\\right)}{Z^{3}} & 0 & \\frac{1}{Z} & \\frac{Y}{Z^{2}}\\\\0 & 0 & - \\frac{Rr}{Z^{2}} & 0 & 0 & 0\\end{matrix}\\right]$"
     },
     "execution_count": 28,
     "metadata": {},
     "output_type": "execute_result"
    }
   ],
   "source": [
    "# @title Matriz H es el Jacobian de h respecto al estado\n",
    "HH = h_x.jacobian(XX)\n",
    "sp.Eq(sp.Symbol('\\mathbb{H}x'), HH, evaluate=False)"
   ],
   "metadata": {
    "collapsed": false,
    "ExecuteTime": {
     "end_time": "2023-11-09T15:27:53.112632652Z",
     "start_time": "2023-11-09T15:27:53.052217293Z"
    }
   },
   "id": "c1bd23cc78e6fb07"
  },
  {
   "cell_type": "code",
   "execution_count": 29,
   "outputs": [
    {
     "data": {
      "text/plain": "Matrix([\n[                                                                               0],\n[                                                                               0],\n[2*X*\\dot{Z}/Z**2 + Z*(\\dot{X}/Z**2 - 2*(X*\\dot{Z} + Z*\\dot{X})/Z**3) + \\dot{X}/Z],\n[2*Y*\\dot{Z}/Z**2 + Z*(\\dot{Y}/Z**2 - 2*(Y*\\dot{Z} + Z*\\dot{Y})/Z**3) + \\dot{Y}/Z],\n[                                                                           -Rr/Z]])",
      "text/latex": "$\\displaystyle \\left[\\begin{matrix}0\\\\0\\\\\\frac{2 X \\dot{Z}}{Z^{2}} + Z \\left(\\frac{\\dot{X}}{Z^{2}} - \\frac{2 \\left(X \\dot{Z} + Z \\dot{X}\\right)}{Z^{3}}\\right) + \\frac{\\dot{X}}{Z}\\\\\\frac{2 Y \\dot{Z}}{Z^{2}} + Z \\left(\\frac{\\dot{Y}}{Z^{2}} - \\frac{2 \\left(Y \\dot{Z} + Z \\dot{Y}\\right)}{Z^{3}}\\right) + \\frac{\\dot{Y}}{Z}\\\\- \\frac{Rr}{Z}\\end{matrix}\\right]$"
     },
     "execution_count": 29,
     "metadata": {},
     "output_type": "execute_result"
    }
   ],
   "source": [
    "HH * XX"
   ],
   "metadata": {
    "collapsed": false,
    "ExecuteTime": {
     "end_time": "2023-11-09T15:27:53.112919434Z",
     "start_time": "2023-11-09T15:27:53.095751400Z"
    }
   },
   "id": "f960fcaa571c5504"
  },
  {
   "cell_type": "code",
   "execution_count": 30,
   "outputs": [
    {
     "data": {
      "text/plain": "Eq(K, Matrix([\n[1377.80368149973,                0, 400.026817829472],\n[               0, 1377.80368149973, 300.096061319676],\n[               0,                0,                1]]))",
      "text/latex": "$\\displaystyle K = \\left[\\begin{matrix}1377.80368149973 & 0 & 400.026817829472\\\\0 & 1377.80368149973 & 300.096061319676\\\\0 & 0 & 1\\end{matrix}\\right]$"
     },
     "execution_count": 30,
     "metadata": {},
     "output_type": "execute_result"
    }
   ],
   "source": [
    "#@title Matriz de calibracion.\n",
    "K_cam = sp.Matrix([\n",
    "    [1.3778036814997304e+03, 0, 4.0002681782947193e+02],\n",
    "    [0, 1.3778036814997304e+03, 3.00096061319675721e+02],\n",
    "    [0, 0, 1],\n",
    "])\n",
    "sp.Eq(sp.Symbol('K'), K_cam, evaluate=False)"
   ],
   "metadata": {
    "collapsed": false,
    "ExecuteTime": {
     "end_time": "2023-11-09T15:27:53.113118060Z",
     "start_time": "2023-11-09T15:27:53.095963348Z"
    }
   },
   "id": "d552c98c1ee1ee12"
  },
  {
   "cell_type": "code",
   "execution_count": 31,
   "outputs": [
    {
     "data": {
      "text/plain": "Eq(K^{-1}, Matrix([\n[0.000725792805918116,                    0, -0.290336586554948],\n[                   0, 0.000725792805918116, -0.217807562390183],\n[                   0,                    0,                  1]]))",
      "text/latex": "$\\displaystyle K^{-1} = \\left[\\begin{matrix}0.000725792805918116 & 0 & -0.290336586554948\\\\0 & 0.000725792805918116 & -0.217807562390183\\\\0 & 0 & 1\\end{matrix}\\right]$"
     },
     "execution_count": 31,
     "metadata": {},
     "output_type": "execute_result"
    }
   ],
   "source": [
    "#@title Matriz de calibracion (inversa)\n",
    "K_cam_inv = K_cam.inv()\n",
    "sp.Eq(sp.Symbol('K^{-1}'), K_cam_inv, evaluate=False)"
   ],
   "metadata": {
    "collapsed": false,
    "ExecuteTime": {
     "end_time": "2023-11-09T15:27:53.113304238Z",
     "start_time": "2023-11-09T15:27:53.096108967Z"
    }
   },
   "id": "30c5e447a71a7500"
  },
  {
   "cell_type": "code",
   "execution_count": 32,
   "outputs": [
    {
     "name": "stdout",
     "output_type": "stream",
     "text": [
      "[[ 7.25792806e-04  0.00000000e+00 -2.90336587e-01]\n",
      " [ 0.00000000e+00  7.25792806e-04 -2.17807562e-01]\n",
      " [ 0.00000000e+00  0.00000000e+00  1.00000000e+00]]\n"
     ]
    }
   ],
   "source": [
    "# imprimir la innversa de K en formato de numpy\n",
    "print(np.array(K_cam_inv).astype(np.float64))"
   ],
   "metadata": {
    "collapsed": false,
    "ExecuteTime": {
     "end_time": "2023-11-09T15:27:53.147512674Z",
     "start_time": "2023-11-09T15:27:53.096242467Z"
    }
   },
   "id": "943f9824dad1a2d3"
  },
  {
   "cell_type": "code",
   "execution_count": 33,
   "outputs": [
    {
     "data": {
      "text/plain": "Matrix([\n[-0.000745256993619159],\n[ -0.00079551342066575],\n[                    1]])",
      "text/latex": "$\\displaystyle \\left[\\begin{matrix}-0.000745256993619159\\\\-0.00079551342066575\\\\1\\end{matrix}\\right]$"
     },
     "execution_count": 33,
     "metadata": {},
     "output_type": "execute_result"
    }
   ],
   "source": [
    "OO = K_cam_inv * sp.Matrix([\n",
    "    [399],\n",
    "    [299],\n",
    "    [1],\n",
    "])\n",
    "OO"
   ],
   "metadata": {
    "collapsed": false,
    "ExecuteTime": {
     "end_time": "2023-11-09T15:27:53.147782983Z",
     "start_time": "2023-11-09T15:27:53.143769175Z"
    }
   },
   "id": "c8dd8c008af4f56b"
  },
  {
   "cell_type": "code",
   "execution_count": 34,
   "outputs": [
    {
     "data": {
      "text/plain": "Matrix([\n[399.0],\n[299.0],\n[    1]])",
      "text/latex": "$\\displaystyle \\left[\\begin{matrix}399.0\\\\299.0\\\\1\\end{matrix}\\right]$"
     },
     "execution_count": 34,
     "metadata": {},
     "output_type": "execute_result"
    }
   ],
   "source": [
    "K_cam * OO"
   ],
   "metadata": {
    "collapsed": false,
    "ExecuteTime": {
     "end_time": "2023-11-09T15:27:53.147978424Z",
     "start_time": "2023-11-09T15:27:53.143953791Z"
    }
   },
   "id": "3a804b5032099317"
  },
  {
   "cell_type": "code",
   "execution_count": 35,
   "outputs": [
    {
     "ename": "NameError",
     "evalue": "name 'Rp' is not defined",
     "output_type": "error",
     "traceback": [
      "\u001B[0;31m---------------------------------------------------------------------------\u001B[0m",
      "\u001B[0;31mNameError\u001B[0m                                 Traceback (most recent call last)",
      "Cell \u001B[0;32mIn[35], line 2\u001B[0m\n\u001B[1;32m      1\u001B[0m f \u001B[38;5;241m=\u001B[39m K_cam[\u001B[38;5;241m0\u001B[39m, \u001B[38;5;241m0\u001B[39m]\n\u001B[0;32m----> 2\u001B[0m (Z \u001B[38;5;241m*\u001B[39m \u001B[43mRp\u001B[49m) \u001B[38;5;241m/\u001B[39m f\n",
      "\u001B[0;31mNameError\u001B[0m: name 'Rp' is not defined"
     ]
    }
   ],
   "source": [
    "f = K_cam[0, 0]\n",
    "(Z * Rp) / f"
   ],
   "metadata": {
    "collapsed": false,
    "ExecuteTime": {
     "end_time": "2023-11-09T15:27:53.231802587Z",
     "start_time": "2023-11-09T15:27:53.144082185Z"
    }
   },
   "id": "9f3bf0776b39d116"
  },
  {
   "cell_type": "code",
   "execution_count": null,
   "outputs": [],
   "source": [
    "# test cholesky\n",
    "A = sp.Matrix([\n",
    "    [1, 0.5, 0.5],\n",
    "    [0.5, 1, 0.5],\n",
    "    [0.5, 0.5, 1],\n",
    "])\n",
    "# cholesky\n",
    "L = A.cholesky()\n",
    "L * L.T"
   ],
   "metadata": {
    "collapsed": false,
    "ExecuteTime": {
     "end_time": "2023-11-09T15:27:53.237598442Z",
     "start_time": "2023-11-09T15:27:53.235567855Z"
    }
   },
   "id": "25e8df0f419f9ba0"
  }
 ],
 "metadata": {
  "kernelspec": {
   "display_name": "Python 3",
   "language": "python",
   "name": "python3"
  },
  "language_info": {
   "codemirror_mode": {
    "name": "ipython",
    "version": 2
   },
   "file_extension": ".py",
   "mimetype": "text/x-python",
   "name": "python",
   "nbconvert_exporter": "python",
   "pygments_lexer": "ipython2",
   "version": "2.7.6"
  }
 },
 "nbformat": 4,
 "nbformat_minor": 5
}
