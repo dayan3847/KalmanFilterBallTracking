{
 "cells": [
  {
   "cell_type": "markdown",
   "source": [
    "# Bayes Estimator\n",
    "\n",
    "### <font color='orange'>Universidad Autónoma de Yucatán</font> _Facultad de Matemáticas_\n",
    "\n",
    "**Teacher:** Dr. Arturo Espinosa Romero <[eromero@correo.uady.mx](mailto:eromero@correo.uady.mx)>\n",
    "\n",
    "**Student:** Ing. Dayan Bravo Fraga <[dayan3847@gmail.com](mailto:dayan3847@gmail.com)>"
   ],
   "metadata": {
    "collapsed": false
   },
   "id": "ed9bbe81d80c6b43"
  },
  {
   "cell_type": "markdown",
   "source": [
    "# Practice 5: Implicit Extended Kalman Filter for Ball Tracking\n",
    "\n",
    "## GitHub: [Practice 5](https://github.com/dayan3847/bayes_estimator/tree/main/practice5-ball_tracking)"
   ],
   "metadata": {
    "collapsed": false
   },
   "id": "bf1ec2e0b4db437e"
  },
  {
   "cell_type": "code",
   "execution_count": 19,
   "id": "initial_id",
   "metadata": {
    "collapsed": true,
    "ExecuteTime": {
     "end_time": "2023-11-14T20:04:02.548849119Z",
     "start_time": "2023-11-14T20:04:02.506118045Z"
    }
   },
   "outputs": [],
   "source": [
    "import sympy as sp"
   ]
  },
  {
   "cell_type": "code",
   "execution_count": 20,
   "outputs": [
    {
     "data": {
      "text/plain": "Eq(\\mathbb{X}, Matrix([\n[      X],\n[      Y],\n[      Z],\n[\\dot{X}],\n[\\dot{Y}],\n[\\dot{Z}]]))",
      "text/latex": "$\\displaystyle \\mathbb{X} = \\left[\\begin{matrix}X\\\\Y\\\\Z\\\\\\dot{X}\\\\\\dot{Y}\\\\\\dot{Z}\\end{matrix}\\right]$"
     },
     "execution_count": 20,
     "metadata": {},
     "output_type": "execute_result"
    }
   ],
   "source": [
    "#@title Estado de sistema\n",
    "X, Y, Z, Xp, Yp, Zp = sp.symbols('X Y Z \\dot{X} \\dot{Y} \\dot{Z}')\n",
    "# El estado esta compuesto por las coordenadas reales y las velocidades\n",
    "XX = sp.Matrix([\n",
    "    [X],\n",
    "    [Y],\n",
    "    [Z],\n",
    "    [Xp],\n",
    "    [Yp],\n",
    "    [Zp],\n",
    "])\n",
    "\n",
    "sp.Eq(sp.Symbol('\\mathbb{X}'), XX, evaluate=False)"
   ],
   "metadata": {
    "collapsed": false,
    "ExecuteTime": {
     "end_time": "2023-11-14T20:04:05.077820416Z",
     "start_time": "2023-11-14T20:04:05.031787814Z"
    }
   },
   "id": "edb2129f8d20cffb"
  },
  {
   "cell_type": "code",
   "execution_count": 21,
   "outputs": [
    {
     "data": {
      "text/plain": "Eq(\\mathbb{A}, Matrix([\n[1, 0, 0, \\Delta t,        0,        0],\n[0, 1, 0,        0, \\Delta t,        0],\n[0, 0, 1,        0,        0, \\Delta t],\n[0, 0, 0,        1,        0,        0],\n[0, 0, 0,        0,        1,        0],\n[0, 0, 0,        0,        0,        1]]))",
      "text/latex": "$\\displaystyle \\mathbb{A} = \\left[\\begin{matrix}1 & 0 & 0 & \\Delta t & 0 & 0\\\\0 & 1 & 0 & 0 & \\Delta t & 0\\\\0 & 0 & 1 & 0 & 0 & \\Delta t\\\\0 & 0 & 0 & 1 & 0 & 0\\\\0 & 0 & 0 & 0 & 1 & 0\\\\0 & 0 & 0 & 0 & 0 & 1\\end{matrix}\\right]$"
     },
     "execution_count": 21,
     "metadata": {},
     "output_type": "execute_result"
    }
   ],
   "source": [
    "#@title Matriz A \"transitionMatrix\"\n",
    "dt = sp.Symbol('\\Delta t')\n",
    "# Esta seria la matrix de transformacion de estado\n",
    "AA = sp.Matrix([\n",
    "    [1, 0, 0, dt, 0, 0],\n",
    "    [0, 1, 0, 0, dt, 0],\n",
    "    [0, 0, 1, 0, 0, dt],\n",
    "    [0, 0, 0, 1, 0, 0],\n",
    "    [0, 0, 0, 0, 1, 0],\n",
    "    [0, 0, 0, 0, 0, 1],\n",
    "])\n",
    "sp.Eq(sp.Symbol('\\mathbb{A}'), AA, evaluate=False)"
   ],
   "metadata": {
    "collapsed": false,
    "ExecuteTime": {
     "end_time": "2023-11-14T20:04:09.632082248Z",
     "start_time": "2023-11-14T20:04:09.613909437Z"
    }
   },
   "id": "1b01191bc97074a7"
  },
  {
   "cell_type": "code",
   "execution_count": 22,
   "outputs": [
    {
     "data": {
      "text/plain": "Eq(Matrix([\n[      X],\n[      Y],\n[      Z],\n[\\dot{X}],\n[\\dot{Y}],\n[\\dot{Z}]]), Matrix([\n[1, 0, 0, \\Delta t,        0,        0],\n[0, 1, 0,        0, \\Delta t,        0],\n[0, 0, 1,        0,        0, \\Delta t],\n[0, 0, 0,        1,        0,        0],\n[0, 0, 0,        0,        1,        0],\n[0, 0, 0,        0,        0,        1]])*Matrix([\n[      X],\n[      Y],\n[      Z],\n[\\dot{X}],\n[\\dot{Y}],\n[\\dot{Z}]]))",
      "text/latex": "$\\displaystyle \\left[\\begin{matrix}X\\\\Y\\\\Z\\\\\\dot{X}\\\\\\dot{Y}\\\\\\dot{Z}\\end{matrix}\\right] = \\left[\\begin{matrix}1 & 0 & 0 & \\Delta t & 0 & 0\\\\0 & 1 & 0 & 0 & \\Delta t & 0\\\\0 & 0 & 1 & 0 & 0 & \\Delta t\\\\0 & 0 & 0 & 1 & 0 & 0\\\\0 & 0 & 0 & 0 & 1 & 0\\\\0 & 0 & 0 & 0 & 0 & 1\\end{matrix}\\right] \\left[\\begin{matrix}X\\\\Y\\\\Z\\\\\\dot{X}\\\\\\dot{Y}\\\\\\dot{Z}\\end{matrix}\\right]$"
     },
     "execution_count": 22,
     "metadata": {},
     "output_type": "execute_result"
    }
   ],
   "source": [
    "#@title Ecuacion de tranformacion de estado\n",
    "# el estado en k, es el resultado de multiplicar A por el estado anterior\n",
    "sp.Eq(XX, sp.MatMul(AA, XX, evaluate=False), evaluate=False)"
   ],
   "metadata": {
    "collapsed": false,
    "ExecuteTime": {
     "end_time": "2023-11-14T20:04:13.506036628Z",
     "start_time": "2023-11-14T20:04:13.428224173Z"
    }
   },
   "id": "781356aecd5c586a"
  },
  {
   "cell_type": "code",
   "execution_count": 23,
   "outputs": [
    {
     "data": {
      "text/plain": "Eq(\\mathbb{Z}, Matrix([\n[      x],\n[      y],\n[\\dot{x}],\n[\\dot{y}],\n[      r]]))",
      "text/latex": "$\\displaystyle \\mathbb{Z} = \\left[\\begin{matrix}x\\\\y\\\\\\dot{x}\\\\\\dot{y}\\\\r\\end{matrix}\\right]$"
     },
     "execution_count": 23,
     "metadata": {},
     "output_type": "execute_result"
    }
   ],
   "source": [
    "#@title \"Z\" Medicion\n",
    "x, y, xp, yp, r = sp.symbols('x y \\dot{x} \\dot{y} r')\n",
    "# La medicion esta compuesta por las coordenadas de la camara y el tamanno del radio (en metros)\n",
    "ZZ = sp.Matrix([\n",
    "    [x],\n",
    "    [y],\n",
    "    [xp],\n",
    "    [yp],\n",
    "    [r],\n",
    "])\n",
    "sp.Eq(sp.Symbol('\\mathbb{Z}'), ZZ, evaluate=False)"
   ],
   "metadata": {
    "collapsed": false,
    "ExecuteTime": {
     "end_time": "2023-11-14T20:04:22.590600133Z",
     "start_time": "2023-11-14T20:04:22.577871098Z"
    }
   },
   "id": "f3586723de42042"
  },
  {
   "cell_type": "code",
   "execution_count": 13,
   "outputs": [
    {
     "data": {
      "text/plain": "Eq(h(\\mathbb{X,Z}), Matrix([\n[                         -X/Z + x],\n[                         -Y/Z + y],\n[\\dot{x} - (\\dot{X} + \\dot{Z}*x)/Z],\n[\\dot{y} - (\\dot{Y} + \\dot{Z}*y)/Z],\n[                         -R/Z + r]]))",
      "text/latex": "$\\displaystyle h{\\left(\\mathbb{X,Z} \\right)} = \\left[\\begin{matrix}- \\frac{X}{Z} + x\\\\- \\frac{Y}{Z} + y\\\\\\dot{x} - \\frac{\\dot{X} + \\dot{Z} x}{Z}\\\\\\dot{y} - \\frac{\\dot{Y} + \\dot{Z} y}{Z}\\\\- \\frac{R}{Z} + r\\end{matrix}\\right]$"
     },
     "execution_count": 13,
     "metadata": {},
     "output_type": "execute_result"
    }
   ],
   "source": [
    "# @title Funcion h\n",
    "R = sp.symbols('R')\n",
    "h_xz = sp.Matrix([\n",
    "    [x - X / Z],\n",
    "    [y - Y / Z],\n",
    "    [xp - (Xp + x * Zp) / Z],\n",
    "    [yp - (Yp + y * Zp) / Z],\n",
    "    [r - R / Z],\n",
    "])\n",
    "sp.Eq(sp.Function('h')(sp.Symbol('\\mathbb{X,Z}')), h_xz, evaluate=False)"
   ],
   "metadata": {
    "collapsed": false,
    "ExecuteTime": {
     "end_time": "2023-11-14T19:47:00.881113362Z",
     "start_time": "2023-11-14T19:47:00.800460779Z"
    }
   },
   "id": "6b2322099e44c260"
  },
  {
   "cell_type": "code",
   "execution_count": 16,
   "outputs": [
    {
     "data": {
      "text/plain": "Eq(Eq(h(\\mathbb{X,Y}), Matrix([\n[                         -X/Z + x],\n[                         -Y/Z + y],\n[\\dot{x} - (\\dot{X} + \\dot{Z}*x)/Z],\n[\\dot{y} - (\\dot{Y} + \\dot{Z}*y)/Z],\n[                         -R/Z + r]])), \\emptyset)",
      "text/latex": "$\\displaystyle h{\\left(\\mathbb{X,Y} \\right)} = \\left[\\begin{matrix}- \\frac{X}{Z} + x\\\\- \\frac{Y}{Z} + y\\\\\\dot{x} - \\frac{\\dot{X} + \\dot{Z} x}{Z}\\\\\\dot{y} - \\frac{\\dot{Y} + \\dot{Z} y}{Z}\\\\- \\frac{R}{Z} + r\\end{matrix}\\right] = \\emptyset$"
     },
     "execution_count": 16,
     "metadata": {},
     "output_type": "execute_result"
    }
   ],
   "source": [
    "# @title Funcion h\n",
    "h_x__ = sp.Matrix([\n",
    "    [X / Z],\n",
    "    [Y / Z],\n",
    "    [(Xp + (X / Z) * Zp) / Z],\n",
    "    [(Yp + (Y / Z) * Zp) / Z],\n",
    "    [R / Z],\n",
    "])\n",
    "sp.Eq(\n",
    "    sp.Eq(\n",
    "        sp.Function('h')(sp.Symbol('\\mathbb{X,Y}'), evaluate=False),\n",
    "        h_xz, evaluate=False\n",
    "    ),\n",
    "    sp.Symbol('\\emptyset'), evaluate=False\n",
    ")"
   ],
   "metadata": {
    "collapsed": false,
    "ExecuteTime": {
     "end_time": "2023-11-14T19:50:56.998084550Z",
     "start_time": "2023-11-14T19:50:56.933193239Z"
    }
   },
   "id": "daef672dc9176bf5"
  },
  {
   "cell_type": "code",
   "execution_count": 17,
   "outputs": [
    {
     "data": {
      "text/plain": "Eq(\\mathbb{H}, Matrix([\n[-1/Z,    0,                     X/Z**2,    0,    0,    0],\n[   0, -1/Z,                     Y/Z**2,    0,    0,    0],\n[   0,    0, (\\dot{X} + \\dot{Z}*x)/Z**2, -1/Z,    0, -x/Z],\n[   0,    0, (\\dot{Y} + \\dot{Z}*y)/Z**2,    0, -1/Z, -y/Z],\n[   0,    0,                     R/Z**2,    0,    0,    0]]))",
      "text/latex": "$\\displaystyle \\mathbb{H} = \\left[\\begin{matrix}- \\frac{1}{Z} & 0 & \\frac{X}{Z^{2}} & 0 & 0 & 0\\\\0 & - \\frac{1}{Z} & \\frac{Y}{Z^{2}} & 0 & 0 & 0\\\\0 & 0 & \\frac{\\dot{X} + \\dot{Z} x}{Z^{2}} & - \\frac{1}{Z} & 0 & - \\frac{x}{Z}\\\\0 & 0 & \\frac{\\dot{Y} + \\dot{Z} y}{Z^{2}} & 0 & - \\frac{1}{Z} & - \\frac{y}{Z}\\\\0 & 0 & \\frac{R}{Z^{2}} & 0 & 0 & 0\\end{matrix}\\right]$"
     },
     "execution_count": 17,
     "metadata": {},
     "output_type": "execute_result"
    }
   ],
   "source": [
    "# @title Jacobiano de h(X,Z) con respecto a X\n",
    "HH = h_xz.jacobian(XX)\n",
    "sp.Eq(sp.Symbol(r'\\mathbb{H}'), HH, evaluate=False)"
   ],
   "metadata": {
    "collapsed": false,
    "ExecuteTime": {
     "end_time": "2023-11-14T19:59:39.858042683Z",
     "start_time": "2023-11-14T19:59:39.784470006Z"
    }
   },
   "id": "926c3d9f23d5f6a0"
  },
  {
   "cell_type": "code",
   "execution_count": 18,
   "outputs": [
    {
     "data": {
      "text/plain": "Eq(\\mathbb{J}, Matrix([\n[         1,          0, 0, 0, 0],\n[         0,          1, 0, 0, 0],\n[-\\dot{Z}/Z,          0, 1, 0, 0],\n[         0, -\\dot{Z}/Z, 0, 1, 0],\n[         0,          0, 0, 0, 1]]))",
      "text/latex": "$\\displaystyle \\mathbb{J} = \\left[\\begin{matrix}1 & 0 & 0 & 0 & 0\\\\0 & 1 & 0 & 0 & 0\\\\- \\frac{\\dot{Z}}{Z} & 0 & 1 & 0 & 0\\\\0 & - \\frac{\\dot{Z}}{Z} & 0 & 1 & 0\\\\0 & 0 & 0 & 0 & 1\\end{matrix}\\right]$"
     },
     "execution_count": 18,
     "metadata": {},
     "output_type": "execute_result"
    }
   ],
   "source": [
    "# @title Jacobiano de h(X,Z) con respecto a Z\n",
    "JJ = h_xz.jacobian(ZZ)\n",
    "sp.Eq(sp.Symbol(r'\\mathbb{J}'), JJ, evaluate=False)"
   ],
   "metadata": {
    "collapsed": false,
    "ExecuteTime": {
     "end_time": "2023-11-14T20:00:01.277304187Z",
     "start_time": "2023-11-14T20:00:01.215948011Z"
    }
   },
   "id": "4ad394a193266b90"
  }
 ],
 "metadata": {
  "kernelspec": {
   "display_name": "Python 3",
   "language": "python",
   "name": "python3"
  },
  "language_info": {
   "codemirror_mode": {
    "name": "ipython",
    "version": 2
   },
   "file_extension": ".py",
   "mimetype": "text/x-python",
   "name": "python",
   "nbconvert_exporter": "python",
   "pygments_lexer": "ipython2",
   "version": "2.7.6"
  }
 },
 "nbformat": 4,
 "nbformat_minor": 5
}
